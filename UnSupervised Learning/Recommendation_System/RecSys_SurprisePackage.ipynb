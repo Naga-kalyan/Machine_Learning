{
 "cells": [
  {
   "cell_type": "code",
   "execution_count": 1,
   "metadata": {},
   "outputs": [],
   "source": [
    "import pandas as pd\n",
    "import numpy as np\n",
    "from surprise import KNNWithMeans\n",
    "from surprise import Dataset\n",
    "from surprise import accuracy\n",
    "from surprise import Reader\n",
    "from surprise.model_selection import train_test_split"
   ]
  },
  {
   "cell_type": "code",
   "execution_count": 2,
   "metadata": {},
   "outputs": [
    {
     "data": {
      "text/html": [
       "<div>\n",
       "<style scoped>\n",
       "    .dataframe tbody tr th:only-of-type {\n",
       "        vertical-align: middle;\n",
       "    }\n",
       "\n",
       "    .dataframe tbody tr th {\n",
       "        vertical-align: top;\n",
       "    }\n",
       "\n",
       "    .dataframe thead th {\n",
       "        text-align: right;\n",
       "    }\n",
       "</style>\n",
       "<table border=\"1\" class=\"dataframe\">\n",
       "  <thead>\n",
       "    <tr style=\"text-align: right;\">\n",
       "      <th></th>\n",
       "      <th>User ID</th>\n",
       "      <th>Movie ID</th>\n",
       "      <th>Rating</th>\n",
       "    </tr>\n",
       "  </thead>\n",
       "  <tbody>\n",
       "    <tr>\n",
       "      <th>0</th>\n",
       "      <td>1</td>\n",
       "      <td>1</td>\n",
       "      <td>5</td>\n",
       "    </tr>\n",
       "    <tr>\n",
       "      <th>1</th>\n",
       "      <td>1</td>\n",
       "      <td>2</td>\n",
       "      <td>6</td>\n",
       "    </tr>\n",
       "    <tr>\n",
       "      <th>2</th>\n",
       "      <td>1</td>\n",
       "      <td>3</td>\n",
       "      <td>7</td>\n",
       "    </tr>\n",
       "    <tr>\n",
       "      <th>3</th>\n",
       "      <td>1</td>\n",
       "      <td>4</td>\n",
       "      <td>4</td>\n",
       "    </tr>\n",
       "    <tr>\n",
       "      <th>4</th>\n",
       "      <td>1</td>\n",
       "      <td>5</td>\n",
       "      <td>3</td>\n",
       "    </tr>\n",
       "  </tbody>\n",
       "</table>\n",
       "</div>"
      ],
      "text/plain": [
       "   User ID  Movie ID  Rating\n",
       "0        1         1       5\n",
       "1        1         2       6\n",
       "2        1         3       7\n",
       "3        1         4       4\n",
       "4        1         5       3"
      ]
     },
     "execution_count": 2,
     "metadata": {},
     "output_type": "execute_result"
    }
   ],
   "source": [
    "ratings = pd.read_csv('./Data/rating.csv')\n",
    "ratings.head()"
   ]
  },
  {
   "cell_type": "code",
   "execution_count": 3,
   "metadata": {},
   "outputs": [],
   "source": [
    "reader = Reader(rating_scale = (1,10))\n",
    "data = Dataset.load_from_df(ratings[['User ID','Movie ID','Rating']],reader)"
   ]
  },
  {
   "cell_type": "code",
   "execution_count": 4,
   "metadata": {},
   "outputs": [],
   "source": [
    "[trainset, testset] = train_test_split(data,test_size=.15,shuffle=True)"
   ]
  },
  {
   "cell_type": "code",
   "execution_count": 5,
   "metadata": {},
   "outputs": [
    {
     "name": "stdout",
     "output_type": "stream",
     "text": [
      "Computing the cosine similarity matrix...\n",
      "Done computing similarity matrix.\n",
      "RMSE: 0.4182\n"
     ]
    }
   ],
   "source": [
    "recom = KNNWithMeans(k=50, sim_options={'name':'cosine','user_based':True})\n",
    "recom.fit(data.build_full_trainset()) #Using full training set and not doing k\n",
    "test_pred = recom.test(testset)\n",
    "RMSE = accuracy.rmse(test_pred)"
   ]
  },
  {
   "cell_type": "code",
   "execution_count": 6,
   "metadata": {},
   "outputs": [
    {
     "name": "stdout",
     "output_type": "stream",
     "text": [
      "[1 2 3 4 5 6]\n"
     ]
    },
    {
     "data": {
      "text/html": [
       "<div>\n",
       "<style scoped>\n",
       "    .dataframe tbody tr th:only-of-type {\n",
       "        vertical-align: middle;\n",
       "    }\n",
       "\n",
       "    .dataframe tbody tr th {\n",
       "        vertical-align: top;\n",
       "    }\n",
       "\n",
       "    .dataframe thead th {\n",
       "        text-align: right;\n",
       "    }\n",
       "</style>\n",
       "<table border=\"1\" class=\"dataframe\">\n",
       "  <thead>\n",
       "    <tr style=\"text-align: right;\">\n",
       "      <th></th>\n",
       "      <th>User ID</th>\n",
       "      <th>Movie ID</th>\n",
       "    </tr>\n",
       "  </thead>\n",
       "  <tbody>\n",
       "    <tr>\n",
       "      <th>0</th>\n",
       "      <td>1</td>\n",
       "      <td>[1, 2, 3, 4, 5]</td>\n",
       "    </tr>\n",
       "    <tr>\n",
       "      <th>1</th>\n",
       "      <td>2</td>\n",
       "      <td>[1, 3, 5, 6]</td>\n",
       "    </tr>\n",
       "    <tr>\n",
       "      <th>2</th>\n",
       "      <td>3</td>\n",
       "      <td>[2, 3, 4, 5]</td>\n",
       "    </tr>\n",
       "    <tr>\n",
       "      <th>3</th>\n",
       "      <td>4</td>\n",
       "      <td>[1, 2, 3, 4, 6]</td>\n",
       "    </tr>\n",
       "    <tr>\n",
       "      <th>4</th>\n",
       "      <td>5</td>\n",
       "      <td>[1, 3, 4, 5, 6]</td>\n",
       "    </tr>\n",
       "  </tbody>\n",
       "</table>\n",
       "</div>"
      ],
      "text/plain": [
       "   User ID         Movie ID\n",
       "0        1  [1, 2, 3, 4, 5]\n",
       "1        2     [1, 3, 5, 6]\n",
       "2        3     [2, 3, 4, 5]\n",
       "3        4  [1, 2, 3, 4, 6]\n",
       "4        5  [1, 3, 4, 5, 6]"
      ]
     },
     "execution_count": 6,
     "metadata": {},
     "output_type": "execute_result"
    }
   ],
   "source": [
    "print(ratings['Movie ID'].unique())\n",
    "ratings_Gp = ratings.groupby('User ID')['Movie ID'].unique().reset_index()\n",
    "ratings_Gp"
   ]
  },
  {
   "cell_type": "code",
   "execution_count": 7,
   "metadata": {},
   "outputs": [
    {
     "name": "stdout",
     "output_type": "stream",
     "text": [
      "The rating value for item 6 by user 1 is 5.394185729496399\n",
      "The rating value for item 2 by user 2 is 4.817930889083921\n",
      "The rating value for item 4 by user 2 is 4.095496050876971\n",
      "The rating value for item 1 by user 3 is 2.182836935492127\n",
      "The rating value for item 6 by user 3 is 2.7108251104856285\n",
      "The rating value for item 5 by user 4 is 3.9781864004198617\n",
      "The rating value for item 2 by user 5 is 3.0035648451555907\n"
     ]
    }
   ],
   "source": [
    "pre=recom.predict(1,6)\n",
    "print(\"The rating value for item 6 by user 1 is\", pre[3])\n",
    "pre=recom.predict(2,2)\n",
    "print(\"The rating value for item 2 by user 2 is\", pre[3])\n",
    "pre=recom.predict(2,4)\n",
    "print(\"The rating value for item 4 by user 2 is\", pre[3])\n",
    "pre=recom.predict(3,1)\n",
    "print(\"The rating value for item 1 by user 3 is\", pre[3])\n",
    "pre=recom.predict(3,6)\n",
    "print(\"The rating value for item 6 by user 3 is\", pre[3])\n",
    "pre=recom.predict(4,5)\n",
    "print(\"The rating value for item 5 by user 4 is\", pre[3])\n",
    "pre=recom.predict(5,2)\n",
    "print(\"The rating value for item 2 by user 5 is\", pre[3])"
   ]
  },
  {
   "cell_type": "code",
   "execution_count": 8,
   "metadata": {},
   "outputs": [
    {
     "data": {
      "text/plain": [
       "Prediction(uid=5, iid=2, r_ui=None, est=3.0035648451555907, details={'actual_k': 3, 'was_impossible': False})"
      ]
     },
     "execution_count": 8,
     "metadata": {},
     "output_type": "execute_result"
    }
   ],
   "source": [
    "pre"
   ]
  },
  {
   "cell_type": "code",
   "execution_count": 9,
   "metadata": {},
   "outputs": [
    {
     "name": "stdout",
     "output_type": "stream",
     "text": [
      "The recommending item 6 to user 1 and the predicted rating is 5.394185729496399\n",
      "The recommending item 2 to user 2 and the predicted rating is 4.817930889083921\n"
     ]
    }
   ],
   "source": [
    "#### Keep a threshold of 4.5 and then display recommendation\n",
    "for i in range(1, 6):\n",
    "    movies_notwatch = list(set(ratings['Movie ID'].unique())-set(ratings_Gp['Movie ID'][i-1]))\n",
    "    for j in movies_notwatch:\n",
    "        pre=recom.predict(i, j)\n",
    "        if (pre[3]>4.5):\n",
    "            print(f\"The recommending item {j} to user {i} and the predicted rating is {pre[3]}\" )"
   ]
  }
 ],
 "metadata": {
  "kernelspec": {
   "display_name": "Python 3",
   "language": "python",
   "name": "python3"
  },
  "language_info": {
   "codemirror_mode": {
    "name": "ipython",
    "version": 3
   },
   "file_extension": ".py",
   "mimetype": "text/x-python",
   "name": "python",
   "nbconvert_exporter": "python",
   "pygments_lexer": "ipython3",
   "version": "3.7.7"
  }
 },
 "nbformat": 4,
 "nbformat_minor": 4
}
