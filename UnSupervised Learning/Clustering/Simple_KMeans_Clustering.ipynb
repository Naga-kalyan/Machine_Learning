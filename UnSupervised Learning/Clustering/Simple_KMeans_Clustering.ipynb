{
 "cells": [
  {
   "cell_type": "markdown",
   "metadata": {},
   "source": [
    "# PROBLEM STATEMENT:\n",
    "**1.** Consider a set of five 2-dimensional points\n",
    "<br>&emsp;&emsp; $P_1 = (0, 0)$\n",
    "<br>&emsp;&emsp; $P_2 = (5, 0)$\n",
    "<br>&emsp;&emsp; $P_3 = (5, 1)$\n",
    "<br>&emsp;&emsp; $P_4 = (0, 1)$\n",
    "<br>&emsp;&emsp; $P_5 = (0, 0.5)$\n",
    "<br>Apply the KMeans algorithm to cluster these points into two clusters."
   ]
  },
  {
   "cell_type": "code",
   "execution_count": 1,
   "metadata": {},
   "outputs": [],
   "source": [
    "#### Importing libraries\n",
    "import numpy as np\n",
    "import pandas as pd\n",
    "import matplotlib.pyplot as plt"
   ]
  },
  {
   "cell_type": "code",
   "execution_count": 2,
   "metadata": {},
   "outputs": [
    {
     "data": {
      "text/plain": [
       "array([[0. , 0. ],\n",
       "       [5. , 0. ],\n",
       "       [5. , 1. ],\n",
       "       [0. , 1. ],\n",
       "       [0. , 0.5]])"
      ]
     },
     "execution_count": 2,
     "metadata": {},
     "output_type": "execute_result"
    }
   ],
   "source": [
    "#### Initializing numpy array for all five points\n",
    "X=np.array([[0,0],[5,0],[5,1],[0,1],[0,0.5]])\n",
    "X"
   ]
  },
  {
   "cell_type": "code",
   "execution_count": 3,
   "metadata": {},
   "outputs": [
    {
     "data": {
      "image/png": "[encoded data removed]",
      "text/plain": [
       "<Figure size 432x288 with 1 Axes>"
      ]
     },
     "metadata": {
      "needs_background": "light"
     },
     "output_type": "display_data"
    }
   ],
   "source": [
    "#### Scatter plot for all points\n",
    "plt.scatter(X[:,0],X[:,1])\n",
    "plt.show()"
   ]
  },
  {
   "cell_type": "code",
   "execution_count": 4,
   "metadata": {},
   "outputs": [
    {
     "name": "stdout",
     "output_type": "stream",
     "text": [
      "The centers of clusters are:\n",
      " [[5.  0.5]\n",
      " [0.  0.5]]\n",
      "Cluster Lables: [1 0 0 1 1]\n"
     ]
    }
   ],
   "source": [
    "#### KMeans Clustering Model instantiate and fit\n",
    "from sklearn.cluster import KMeans\n",
    "km=KMeans(n_clusters=2)\n",
    "km.fit(X)\n",
    "print(\"The centers of clusters are:\\n\",km.cluster_centers_)\n",
    "print(\"Cluster Lables:\",km.labels_)"
   ]
  },
  {
   "cell_type": "code",
   "execution_count": 5,
   "metadata": {},
   "outputs": [
    {
     "data": {
      "image/png": "[encoded data removed]",
      "text/plain": [
       "<Figure size 432x288 with 1 Axes>"
      ]
     },
     "metadata": {
      "needs_background": "light"
     },
     "output_type": "display_data"
    }
   ],
   "source": [
    "#### Scatter plot for all points based on labels\n",
    "plt.scatter(X[:,0],X[:,1],c=km.labels_,cmap='rainbow')\n",
    "plt.show()"
   ]
  },
  {
   "cell_type": "markdown",
   "metadata": {},
   "source": [
    "# Conclusion:\n",
    "The final results are\n",
    "* $P_2 \\; and \\; P_3$ belongs to **cluster-1**\n",
    "* $P_1, \\;P_4 \\; and \\; P_5$ belongs to **cluster-2**"
   ]
  },
  {
   "cell_type": "markdown",
   "metadata": {},
   "source": [
    "<h1 align='center'>Thank You🙂</h1>"
   ]
  }
 ],
 "metadata": {
  "kernelspec": {
   "display_name": "Python 3",
   "language": "python",
   "name": "python3"
  },
  "language_info": {
   "codemirror_mode": {
    "name": "ipython",
    "version": 3
   },
   "file_extension": ".py",
   "mimetype": "text/x-python",
   "name": "python",
   "nbconvert_exporter": "python",
   "pygments_lexer": "ipython3",
   "version": "3.7.7"
  }
 },
 "nbformat": 4,
 "nbformat_minor": 4
}
