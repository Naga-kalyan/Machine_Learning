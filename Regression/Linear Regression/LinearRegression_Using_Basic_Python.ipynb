{
 "cells": [
  {
   "cell_type": "markdown",
   "metadata": {},
   "source": [
    "<h1 align='center' style='color:darkred'>Linear Regression Using Basic Python</h1>"
   ]
  },
  {
   "cell_type": "markdown",
   "metadata": {},
   "source": [
    "**1. x = [2, 3, 4, 5.6], y = [12.8978, 17.7586, 23.3192, 28.3129, 32.1351]\n",
    "<br>&emsp;Apply Linear regressison using basic python**"
   ]
  },
  {
   "cell_type": "code",
   "execution_count": 47,
   "metadata": {},
   "outputs": [],
   "source": [
    "import pandas as pd\n",
    "from scipy.stats import t"
   ]
  },
  {
   "cell_type": "code",
   "execution_count": 2,
   "metadata": {},
   "outputs": [
    {
     "data": {
      "text/html": [
       "<div>\n",
       "<style scoped>\n",
       "    .dataframe tbody tr th:only-of-type {\n",
       "        vertical-align: middle;\n",
       "    }\n",
       "\n",
       "    .dataframe tbody tr th {\n",
       "        vertical-align: top;\n",
       "    }\n",
       "\n",
       "    .dataframe thead th {\n",
       "        text-align: right;\n",
       "    }\n",
       "</style>\n",
       "<table border=\"1\" class=\"dataframe\">\n",
       "  <thead>\n",
       "    <tr style=\"text-align: right;\">\n",
       "      <th></th>\n",
       "      <th>x</th>\n",
       "      <th>y</th>\n",
       "    </tr>\n",
       "  </thead>\n",
       "  <tbody>\n",
       "    <tr>\n",
       "      <th>0</th>\n",
       "      <td>2</td>\n",
       "      <td>12.8978</td>\n",
       "    </tr>\n",
       "    <tr>\n",
       "      <th>1</th>\n",
       "      <td>3</td>\n",
       "      <td>17.7586</td>\n",
       "    </tr>\n",
       "    <tr>\n",
       "      <th>2</th>\n",
       "      <td>4</td>\n",
       "      <td>23.3192</td>\n",
       "    </tr>\n",
       "    <tr>\n",
       "      <th>3</th>\n",
       "      <td>5</td>\n",
       "      <td>28.3129</td>\n",
       "    </tr>\n",
       "    <tr>\n",
       "      <th>4</th>\n",
       "      <td>6</td>\n",
       "      <td>32.1351</td>\n",
       "    </tr>\n",
       "  </tbody>\n",
       "</table>\n",
       "</div>"
      ],
      "text/plain": [
       "   x        y\n",
       "0  2  12.8978\n",
       "1  3  17.7586\n",
       "2  4  23.3192\n",
       "3  5  28.3129\n",
       "4  6  32.1351"
      ]
     },
     "execution_count": 2,
     "metadata": {},
     "output_type": "execute_result"
    }
   ],
   "source": [
    "data=pd.DataFrame({'x':[2,3,4,5,6],'y':[12.8978,17.7586,23.3192,28.3129,32.1351]})\n",
    "\n",
    "data"
   ]
  },
  {
   "cell_type": "markdown",
   "metadata": {},
   "source": [
    "Here **x** is the independent varaiable and **y** is the dependent varaible\n",
    "<h2 style=\"color:blue\"> Finding Straight line for x and y</h2>\n",
    "\n",
    "Formula for finding straight line is `y=mx+c`\n",
    "<br>where ${m} = \\frac{{n}\\sum{xy} - \\sum{x}\\sum{y}}{n\\sum{x^2}-(\\sum{x})^2}$\n",
    "<br>&emsp;&emsp;&nbsp;&nbsp;&nbsp; $c = \\bar {y} - {m \\bar{x}}$"
   ]
  },
  {
   "cell_type": "code",
   "execution_count": 3,
   "metadata": {},
   "outputs": [
    {
     "data": {
      "text/html": [
       "<div>\n",
       "<style scoped>\n",
       "    .dataframe tbody tr th:only-of-type {\n",
       "        vertical-align: middle;\n",
       "    }\n",
       "\n",
       "    .dataframe tbody tr th {\n",
       "        vertical-align: top;\n",
       "    }\n",
       "\n",
       "    .dataframe thead th {\n",
       "        text-align: right;\n",
       "    }\n",
       "</style>\n",
       "<table border=\"1\" class=\"dataframe\">\n",
       "  <thead>\n",
       "    <tr style=\"text-align: right;\">\n",
       "      <th></th>\n",
       "      <th>x</th>\n",
       "      <th>y</th>\n",
       "      <th>x**2</th>\n",
       "      <th>x*y</th>\n",
       "    </tr>\n",
       "  </thead>\n",
       "  <tbody>\n",
       "    <tr>\n",
       "      <th>0</th>\n",
       "      <td>2</td>\n",
       "      <td>12.8978</td>\n",
       "      <td>4</td>\n",
       "      <td>25.7956</td>\n",
       "    </tr>\n",
       "    <tr>\n",
       "      <th>1</th>\n",
       "      <td>3</td>\n",
       "      <td>17.7586</td>\n",
       "      <td>9</td>\n",
       "      <td>53.2758</td>\n",
       "    </tr>\n",
       "    <tr>\n",
       "      <th>2</th>\n",
       "      <td>4</td>\n",
       "      <td>23.3192</td>\n",
       "      <td>16</td>\n",
       "      <td>93.2768</td>\n",
       "    </tr>\n",
       "    <tr>\n",
       "      <th>3</th>\n",
       "      <td>5</td>\n",
       "      <td>28.3129</td>\n",
       "      <td>25</td>\n",
       "      <td>141.5645</td>\n",
       "    </tr>\n",
       "    <tr>\n",
       "      <th>4</th>\n",
       "      <td>6</td>\n",
       "      <td>32.1351</td>\n",
       "      <td>36</td>\n",
       "      <td>192.8106</td>\n",
       "    </tr>\n",
       "  </tbody>\n",
       "</table>\n",
       "</div>"
      ],
      "text/plain": [
       "   x        y  x**2       x*y\n",
       "0  2  12.8978     4   25.7956\n",
       "1  3  17.7586     9   53.2758\n",
       "2  4  23.3192    16   93.2768\n",
       "3  5  28.3129    25  141.5645\n",
       "4  6  32.1351    36  192.8106"
      ]
     },
     "execution_count": 3,
     "metadata": {},
     "output_type": "execute_result"
    }
   ],
   "source": [
    "data['x**2']=data['x']**2\n",
    "data['x*y']=data['x']*data['y']\n",
    "data"
   ]
  },
  {
   "cell_type": "code",
   "execution_count": 7,
   "metadata": {},
   "outputs": [
    {
     "name": "stdout",
     "output_type": "stream",
     "text": [
      "The straight line equation for y(dependent variable) and x(independent variable) is y=4.903x+3.273\n"
     ]
    }
   ],
   "source": [
    "#### Length of the dataset\n",
    "n=data.shape[0]\n",
    "#### Calculating 'm' value\n",
    "m=round(((n*data['x*y'].sum())-(data['x'].sum()*data['y'].sum()))/((n*data['x**2'].sum())-(data['x'].sum())**2), 3)\n",
    "#### Calculating 'c' value\n",
    "c = round(data['y'].mean()-(m*data['x'].mean()), 3)\n",
    "#### Printing straight line for x and y\n",
    "print(f'The straight line equation for y(dependent variable) and x(independent variable) is y={m}x+{c}')"
   ]
  },
  {
   "cell_type": "markdown",
   "metadata": {},
   "source": [
    "<h2 style=\"color:blue\"> Calculating R-Squared and Adj.R-Squared</h2>\n",
    "\n",
    "Formula for \n",
    "<br>&emsp;&emsp; **R-squared ${R^2} = {1}-{\\frac{\\sum(\\hat y - y)^2}{\\sum(y - \\bar y)^2}}$ \n",
    "<br>&emsp;&emsp; Adj.R-squared ${Adj.R^2} = {1}-{\\frac{(1-R^2)(n-1)}{n-p-1}}$**\n",
    "<br>Where ${\\hat y}$ is **Predicted Values** of y\n",
    "<br>&emsp;&emsp;&nbsp;&nbsp;&nbsp; ${y}$ is **Actual Values** of y\n",
    "<br>&emsp;&emsp;&nbsp;&nbsp;&nbsp; ${n}$ is No.of **rows** in the dataset\n",
    "<br>&emsp;&emsp;&nbsp;&nbsp;&nbsp; ${p}$ is No.of **independent variables** in the dataset\n"
   ]
  },
  {
   "cell_type": "code",
   "execution_count": 9,
   "metadata": {},
   "outputs": [
    {
     "data": {
      "text/html": [
       "<div>\n",
       "<style scoped>\n",
       "    .dataframe tbody tr th:only-of-type {\n",
       "        vertical-align: middle;\n",
       "    }\n",
       "\n",
       "    .dataframe tbody tr th {\n",
       "        vertical-align: top;\n",
       "    }\n",
       "\n",
       "    .dataframe thead th {\n",
       "        text-align: right;\n",
       "    }\n",
       "</style>\n",
       "<table border=\"1\" class=\"dataframe\">\n",
       "  <thead>\n",
       "    <tr style=\"text-align: right;\">\n",
       "      <th></th>\n",
       "      <th>x</th>\n",
       "      <th>y</th>\n",
       "      <th>x**2</th>\n",
       "      <th>x*y</th>\n",
       "      <th>Py</th>\n",
       "      <th>ycap</th>\n",
       "      <th>(ycap-y)**2</th>\n",
       "      <th>(y-ybar)**2</th>\n",
       "    </tr>\n",
       "  </thead>\n",
       "  <tbody>\n",
       "    <tr>\n",
       "      <th>0</th>\n",
       "      <td>2</td>\n",
       "      <td>12.8978</td>\n",
       "      <td>4</td>\n",
       "      <td>25.7956</td>\n",
       "      <td>13.079</td>\n",
       "      <td>13.079</td>\n",
       "      <td>0.032833</td>\n",
       "      <td>99.738571</td>\n",
       "    </tr>\n",
       "    <tr>\n",
       "      <th>1</th>\n",
       "      <td>3</td>\n",
       "      <td>17.7586</td>\n",
       "      <td>9</td>\n",
       "      <td>53.2758</td>\n",
       "      <td>17.982</td>\n",
       "      <td>17.982</td>\n",
       "      <td>0.049908</td>\n",
       "      <td>26.277106</td>\n",
       "    </tr>\n",
       "    <tr>\n",
       "      <th>2</th>\n",
       "      <td>4</td>\n",
       "      <td>23.3192</td>\n",
       "      <td>16</td>\n",
       "      <td>93.2768</td>\n",
       "      <td>22.885</td>\n",
       "      <td>22.885</td>\n",
       "      <td>0.188530</td>\n",
       "      <td>0.188773</td>\n",
       "    </tr>\n",
       "    <tr>\n",
       "      <th>3</th>\n",
       "      <td>5</td>\n",
       "      <td>28.3129</td>\n",
       "      <td>25</td>\n",
       "      <td>141.5645</td>\n",
       "      <td>27.788</td>\n",
       "      <td>27.788</td>\n",
       "      <td>0.275520</td>\n",
       "      <td>29.465138</td>\n",
       "    </tr>\n",
       "    <tr>\n",
       "      <th>4</th>\n",
       "      <td>6</td>\n",
       "      <td>32.1351</td>\n",
       "      <td>36</td>\n",
       "      <td>192.8106</td>\n",
       "      <td>32.691</td>\n",
       "      <td>32.691</td>\n",
       "      <td>0.309025</td>\n",
       "      <td>85.569530</td>\n",
       "    </tr>\n",
       "  </tbody>\n",
       "</table>\n",
       "</div>"
      ],
      "text/plain": [
       "   x        y  x**2       x*y      Py    ycap  (ycap-y)**2  (y-ybar)**2\n",
       "0  2  12.8978     4   25.7956  13.079  13.079     0.032833    99.738571\n",
       "1  3  17.7586     9   53.2758  17.982  17.982     0.049908    26.277106\n",
       "2  4  23.3192    16   93.2768  22.885  22.885     0.188530     0.188773\n",
       "3  5  28.3129    25  141.5645  27.788  27.788     0.275520    29.465138\n",
       "4  6  32.1351    36  192.8106  32.691  32.691     0.309025    85.569530"
      ]
     },
     "execution_count": 9,
     "metadata": {},
     "output_type": "execute_result"
    }
   ],
   "source": [
    "data['ycap']=3.273+(4.903*data['x'])\n",
    "data['(ycap-y)**2']=(data['ycap']-data['y'])**2\n",
    "data['(y-ybar)**2'] = (data['y']-data['y'].mean())**2\n",
    "data"
   ]
  },
  {
   "cell_type": "code",
   "execution_count": 20,
   "metadata": {},
   "outputs": [
    {
     "name": "stdout",
     "output_type": "stream",
     "text": [
      "R-squared     : 99.6\n",
      "Adj.R-squared : 99.5\n"
     ]
    }
   ],
   "source": [
    "#### Calculating R-squared\n",
    "R_squared = 1-(data['(ycap-y)**2'].sum()/data['(y-ybar)**2'].sum())\n",
    "#### Calculating Adjusted R-squared\n",
    "n = data.shape[0]\n",
    "Adj_R_squared =1-(((1-R_squared)*(n-1))/(n-2))\n",
    "#### Printing R-squared and Adjusted R-squared\n",
    "print(f'R-squared     : {round(R_squared,3)*100}')\n",
    "print(f'Adj.R-squared : {round(Adj_R_squared,3)*100}')"
   ]
  },
  {
   "cell_type": "markdown",
   "metadata": {},
   "source": [
    "<h2 style=\"color:blue\">Calculating MAE, MSE, RMSE</h2>\n",
    "\n",
    "Formulas for \n",
    "<br>&emsp;&emsp; **Mean Absolute Error ${MAE} = \\frac{\\sum|\\hat y-y|}{n}$\n",
    "<br>&emsp;&emsp; Mean Square Error ${MSE} = \\frac{\\sum (\\hat y - y)^2}{n}$\n",
    "<br>&emsp;&emsp; Root Mean Square Error ${RMSE} = \\sqrt{\\frac{\\sum (\\hat y - y)^2}{n}}$**"
   ]
  },
  {
   "cell_type": "code",
   "execution_count": 22,
   "metadata": {},
   "outputs": [
    {
     "data": {
      "text/html": [
       "<div>\n",
       "<style scoped>\n",
       "    .dataframe tbody tr th:only-of-type {\n",
       "        vertical-align: middle;\n",
       "    }\n",
       "\n",
       "    .dataframe tbody tr th {\n",
       "        vertical-align: top;\n",
       "    }\n",
       "\n",
       "    .dataframe thead th {\n",
       "        text-align: right;\n",
       "    }\n",
       "</style>\n",
       "<table border=\"1\" class=\"dataframe\">\n",
       "  <thead>\n",
       "    <tr style=\"text-align: right;\">\n",
       "      <th></th>\n",
       "      <th>x</th>\n",
       "      <th>y</th>\n",
       "      <th>x**2</th>\n",
       "      <th>x*y</th>\n",
       "      <th>Py</th>\n",
       "      <th>ycap</th>\n",
       "      <th>(ycap-y)**2</th>\n",
       "      <th>(y-ybar)**2</th>\n",
       "      <th>|ycap-y|</th>\n",
       "    </tr>\n",
       "  </thead>\n",
       "  <tbody>\n",
       "    <tr>\n",
       "      <th>0</th>\n",
       "      <td>2</td>\n",
       "      <td>12.8978</td>\n",
       "      <td>4</td>\n",
       "      <td>25.7956</td>\n",
       "      <td>13.079</td>\n",
       "      <td>13.079</td>\n",
       "      <td>0.032833</td>\n",
       "      <td>99.738571</td>\n",
       "      <td>0.1812</td>\n",
       "    </tr>\n",
       "    <tr>\n",
       "      <th>1</th>\n",
       "      <td>3</td>\n",
       "      <td>17.7586</td>\n",
       "      <td>9</td>\n",
       "      <td>53.2758</td>\n",
       "      <td>17.982</td>\n",
       "      <td>17.982</td>\n",
       "      <td>0.049908</td>\n",
       "      <td>26.277106</td>\n",
       "      <td>0.2234</td>\n",
       "    </tr>\n",
       "    <tr>\n",
       "      <th>2</th>\n",
       "      <td>4</td>\n",
       "      <td>23.3192</td>\n",
       "      <td>16</td>\n",
       "      <td>93.2768</td>\n",
       "      <td>22.885</td>\n",
       "      <td>22.885</td>\n",
       "      <td>0.188530</td>\n",
       "      <td>0.188773</td>\n",
       "      <td>0.4342</td>\n",
       "    </tr>\n",
       "    <tr>\n",
       "      <th>3</th>\n",
       "      <td>5</td>\n",
       "      <td>28.3129</td>\n",
       "      <td>25</td>\n",
       "      <td>141.5645</td>\n",
       "      <td>27.788</td>\n",
       "      <td>27.788</td>\n",
       "      <td>0.275520</td>\n",
       "      <td>29.465138</td>\n",
       "      <td>0.5249</td>\n",
       "    </tr>\n",
       "    <tr>\n",
       "      <th>4</th>\n",
       "      <td>6</td>\n",
       "      <td>32.1351</td>\n",
       "      <td>36</td>\n",
       "      <td>192.8106</td>\n",
       "      <td>32.691</td>\n",
       "      <td>32.691</td>\n",
       "      <td>0.309025</td>\n",
       "      <td>85.569530</td>\n",
       "      <td>0.5559</td>\n",
       "    </tr>\n",
       "  </tbody>\n",
       "</table>\n",
       "</div>"
      ],
      "text/plain": [
       "   x        y  x**2       x*y      Py    ycap  (ycap-y)**2  (y-ybar)**2  \\\n",
       "0  2  12.8978     4   25.7956  13.079  13.079     0.032833    99.738571   \n",
       "1  3  17.7586     9   53.2758  17.982  17.982     0.049908    26.277106   \n",
       "2  4  23.3192    16   93.2768  22.885  22.885     0.188530     0.188773   \n",
       "3  5  28.3129    25  141.5645  27.788  27.788     0.275520    29.465138   \n",
       "4  6  32.1351    36  192.8106  32.691  32.691     0.309025    85.569530   \n",
       "\n",
       "   |ycap-y|  \n",
       "0    0.1812  \n",
       "1    0.2234  \n",
       "2    0.4342  \n",
       "3    0.5249  \n",
       "4    0.5559  "
      ]
     },
     "execution_count": 22,
     "metadata": {},
     "output_type": "execute_result"
    }
   ],
   "source": [
    "data['|ycap-y|']=abs(data['ycap']-data['y'])\n",
    "data"
   ]
  },
  {
   "cell_type": "code",
   "execution_count": 26,
   "metadata": {},
   "outputs": [
    {
     "name": "stdout",
     "output_type": "stream",
     "text": [
      "MAE  : 0.3839\n",
      "MSE  : 0.1712\n",
      "RMSE : 0.4137\n"
     ]
    }
   ],
   "source": [
    "#### Calculating Mean Absolute Error \n",
    "MAE = data['|ycap-y|'].sum()/n\n",
    "#### Calculating Mean Square Error\n",
    "MSE = data['(ycap-y)**2'].sum()/n\n",
    "#### Calculating Root Mean Square Error\n",
    "RMSE = MSE**0.5\n",
    "#### Print MAE, MSE, RMSE\n",
    "print(f'MAE  : {round(MAE, 4)}')\n",
    "print(f'MSE  : {round(MSE, 4)}')\n",
    "print(f'RMSE : {round(RMSE, 4)}')"
   ]
  },
  {
   "cell_type": "markdown",
   "metadata": {},
   "source": [
    "<h2 style=\"color:blue\">Calculating Standard Errors</h2>\n",
    "\n",
    "Standard Error(SE)for\n",
    "<br>&emsp;&emsp; **Estimator ${SE_e} = \\frac{\\sum(\\hat y-y)^2}{n-p-1}$\n",
    "<br>&emsp;&emsp; Intercept ${SE_i} = \\sqrt{SE_e[\\frac{1}{n}+\\frac{\\bar x^2}{\\sum(x-\\bar x)^2}]}$\n",
    "<br>&emsp;&emsp; independent variable x ${SE_x} = \\sqrt{\\frac{SE_e}{\\sum(x-\\bar x)^2}}$**"
   ]
  },
  {
   "cell_type": "code",
   "execution_count": 27,
   "metadata": {},
   "outputs": [
    {
     "data": {
      "text/html": [
       "<div>\n",
       "<style scoped>\n",
       "    .dataframe tbody tr th:only-of-type {\n",
       "        vertical-align: middle;\n",
       "    }\n",
       "\n",
       "    .dataframe tbody tr th {\n",
       "        vertical-align: top;\n",
       "    }\n",
       "\n",
       "    .dataframe thead th {\n",
       "        text-align: right;\n",
       "    }\n",
       "</style>\n",
       "<table border=\"1\" class=\"dataframe\">\n",
       "  <thead>\n",
       "    <tr style=\"text-align: right;\">\n",
       "      <th></th>\n",
       "      <th>x</th>\n",
       "      <th>y</th>\n",
       "      <th>x**2</th>\n",
       "      <th>x*y</th>\n",
       "      <th>Py</th>\n",
       "      <th>ycap</th>\n",
       "      <th>(ycap-y)**2</th>\n",
       "      <th>(y-ybar)**2</th>\n",
       "      <th>|ycap-y|</th>\n",
       "      <th>(x-xbar)**2</th>\n",
       "    </tr>\n",
       "  </thead>\n",
       "  <tbody>\n",
       "    <tr>\n",
       "      <th>0</th>\n",
       "      <td>2</td>\n",
       "      <td>12.8978</td>\n",
       "      <td>4</td>\n",
       "      <td>25.7956</td>\n",
       "      <td>13.079</td>\n",
       "      <td>13.079</td>\n",
       "      <td>0.032833</td>\n",
       "      <td>99.738571</td>\n",
       "      <td>0.1812</td>\n",
       "      <td>4.0</td>\n",
       "    </tr>\n",
       "    <tr>\n",
       "      <th>1</th>\n",
       "      <td>3</td>\n",
       "      <td>17.7586</td>\n",
       "      <td>9</td>\n",
       "      <td>53.2758</td>\n",
       "      <td>17.982</td>\n",
       "      <td>17.982</td>\n",
       "      <td>0.049908</td>\n",
       "      <td>26.277106</td>\n",
       "      <td>0.2234</td>\n",
       "      <td>1.0</td>\n",
       "    </tr>\n",
       "    <tr>\n",
       "      <th>2</th>\n",
       "      <td>4</td>\n",
       "      <td>23.3192</td>\n",
       "      <td>16</td>\n",
       "      <td>93.2768</td>\n",
       "      <td>22.885</td>\n",
       "      <td>22.885</td>\n",
       "      <td>0.188530</td>\n",
       "      <td>0.188773</td>\n",
       "      <td>0.4342</td>\n",
       "      <td>0.0</td>\n",
       "    </tr>\n",
       "    <tr>\n",
       "      <th>3</th>\n",
       "      <td>5</td>\n",
       "      <td>28.3129</td>\n",
       "      <td>25</td>\n",
       "      <td>141.5645</td>\n",
       "      <td>27.788</td>\n",
       "      <td>27.788</td>\n",
       "      <td>0.275520</td>\n",
       "      <td>29.465138</td>\n",
       "      <td>0.5249</td>\n",
       "      <td>1.0</td>\n",
       "    </tr>\n",
       "    <tr>\n",
       "      <th>4</th>\n",
       "      <td>6</td>\n",
       "      <td>32.1351</td>\n",
       "      <td>36</td>\n",
       "      <td>192.8106</td>\n",
       "      <td>32.691</td>\n",
       "      <td>32.691</td>\n",
       "      <td>0.309025</td>\n",
       "      <td>85.569530</td>\n",
       "      <td>0.5559</td>\n",
       "      <td>4.0</td>\n",
       "    </tr>\n",
       "  </tbody>\n",
       "</table>\n",
       "</div>"
      ],
      "text/plain": [
       "   x        y  x**2       x*y      Py    ycap  (ycap-y)**2  (y-ybar)**2  \\\n",
       "0  2  12.8978     4   25.7956  13.079  13.079     0.032833    99.738571   \n",
       "1  3  17.7586     9   53.2758  17.982  17.982     0.049908    26.277106   \n",
       "2  4  23.3192    16   93.2768  22.885  22.885     0.188530     0.188773   \n",
       "3  5  28.3129    25  141.5645  27.788  27.788     0.275520    29.465138   \n",
       "4  6  32.1351    36  192.8106  32.691  32.691     0.309025    85.569530   \n",
       "\n",
       "   |ycap-y|  (x-xbar)**2  \n",
       "0    0.1812          4.0  \n",
       "1    0.2234          1.0  \n",
       "2    0.4342          0.0  \n",
       "3    0.5249          1.0  \n",
       "4    0.5559          4.0  "
      ]
     },
     "execution_count": 27,
     "metadata": {},
     "output_type": "execute_result"
    }
   ],
   "source": [
    "data['(x-xbar)**2'] = (data['x']-data['x'].mean())**2\n",
    "data"
   ]
  },
  {
   "cell_type": "code",
   "execution_count": 46,
   "metadata": {},
   "outputs": [
    {
     "name": "stdout",
     "output_type": "stream",
     "text": [
      "standard error for Estimator : 0.285\n",
      "standard error for intercept : 0.717\n",
      "standard error for x         : 0.169\n"
     ]
    }
   ],
   "source": [
    "#### Calculating standard error for Estimator\n",
    "SE_e = data['(ycap-y)**2'].sum()/(n-2)\n",
    "#### Calculating standard error for intercept\n",
    "SE_i = (SE_e*((1/n)+(data['x'].mean()**2/data['(x-xbar)**2'].sum())))**0.5\n",
    "#### Calculating standard error for x\n",
    "SE_x = (SE_e/data['(x-xbar)**2'].sum())**0.5\n",
    "#### Printing standard error for Estimator, intercept & x\n",
    "print(f'standard error for Estimator : {round(SE_e, 3)}')\n",
    "print(f'standard error for intercept : {round(SE_i, 3)}')\n",
    "print(f'standard error for x         : {round(SE_x, 3)}')"
   ]
  },
  {
   "cell_type": "markdown",
   "metadata": {},
   "source": [
    "<h2 style=\"color:blue\">T-test</h2>\n",
    "\n",
    "T values for\n",
    "<br>&emsp;&emsp; **critical ${t_{crit}} = {t_{\\frac{\\alpha}{2},df}}$\n",
    "<br>&emsp;&emsp; intercept ${t_i} = \\frac{c}{SE_i}$\n",
    "<br>&emsp;&emsp; independent variable x ${t_x} = \\frac{m}{SE_x}$**"
   ]
  },
  {
   "cell_type": "code",
   "execution_count": 49,
   "metadata": {},
   "outputs": [
    {
     "name": "stdout",
     "output_type": "stream",
     "text": [
      "t critical            : 3.182\n",
      "t value for intercept : 4.568\n",
      "t value for x         : 29.029\n"
     ]
    }
   ],
   "source": [
    "#### Calculating t critical\n",
    "t_crit = t.ppf(0.975, n-2)\n",
    "#### Calculating t value for intercept\n",
    "t_i = c/SE_i\n",
    "#### Calculating t value for x\n",
    "t_x = m/SE_x\n",
    "#### Printing t values for critical, intercept & x\n",
    "print(f't critical            : {round(t_crit, 3)}')\n",
    "print(f't value for intercept : {round(t_i, 3)}')\n",
    "print(f't value for x         : {round(t_x, 3)}')"
   ]
  },
  {
   "cell_type": "markdown",
   "metadata": {},
   "source": [
    "<h2 style=\"color:blue\">Calculating P-Value</h2>"
   ]
  },
  {
   "cell_type": "code",
   "execution_count": 50,
   "metadata": {},
   "outputs": [
    {
     "name": "stdout",
     "output_type": "stream",
     "text": [
      "p value for intercept : 0.02\n",
      "p value for x         : 0.0\n"
     ]
    }
   ],
   "source": [
    "#### Calculating p value for intercept\n",
    "p_i = t.sf(t_i, n-2)*2\n",
    "#### Calculating p value for x\n",
    "p_x = t.sf(t_x, n-2)*2\n",
    "#### Printing t values for intercept & x\n",
    "print(f'p value for intercept : {round(p_i, 3)}')\n",
    "print(f'p value for x         : {round(p_x, 3)}')"
   ]
  },
  {
   "cell_type": "markdown",
   "metadata": {},
   "source": [
    "<h2 style=\"color:blue\">Calculating Confidence Interval</h2>"
   ]
  },
  {
   "cell_type": "code",
   "execution_count": 60,
   "metadata": {},
   "outputs": [
    {
     "name": "stdout",
     "output_type": "stream",
     "text": [
      "confidence interval for intercept : [0.993, 5.553]\n",
      "confidence interval for x         : [4.365, 5.441]\n"
     ]
    }
   ],
   "source": [
    "#### Calculating confidence interval for intercept\n",
    "CI_i_Lower = round(c - (t_crit*SE_i), 3)\n",
    "CI_i_Upper = round(c + (t_crit*SE_i), 3)\n",
    "#### Calculating confidence interval for x\n",
    "CI_x_Lower = round(m - (t_crit*SE_x), 3)\n",
    "CI_x_Upper = round(m + (t_crit*SE_x), 3)\n",
    "#### Printing confidence interval for intercept & x\n",
    "print(f'confidence interval for intercept : [{CI_i_Lower}, {CI_i_Upper}]')\n",
    "print(f'confidence interval for x         : [{CI_x_Lower}, {CI_x_Upper}]')"
   ]
  },
  {
   "cell_type": "markdown",
   "metadata": {},
   "source": [
    "<h1 align='center'>Thank You!🙂</h1>"
   ]
  }
 ],
 "metadata": {
  "kernelspec": {
   "display_name": "Python 3",
   "language": "python",
   "name": "python3"
  },
  "language_info": {
   "codemirror_mode": {
    "name": "ipython",
    "version": 3
   },
   "file_extension": ".py",
   "mimetype": "text/x-python",
   "name": "python",
   "nbconvert_exporter": "python",
   "pygments_lexer": "ipython3",
   "version": "3.7.7"
  }
 },
 "nbformat": 4,
 "nbformat_minor": 4
}
