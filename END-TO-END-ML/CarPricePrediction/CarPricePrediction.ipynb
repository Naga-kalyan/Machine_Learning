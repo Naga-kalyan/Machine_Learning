{
 "cells": [
  {
   "cell_type": "markdown",
   "metadata": {},
   "source": [
    "<h1 align='center'style='color:#940e04;font-size:70px'>Car Price <span style=\"color: black\"> - Prediction</span></h1>\n",
    "\n",
    "download dataset from here [Car price prediction dataset](https://www.kaggle.com/hellbuoy/car-price-prediction)\n",
    "\n",
    "<h1>Problem statement:</h1>\n",
    "\n",
    "A Chinese automobile company Geely Auto aspires to enter the US market by setting up their manufacturing unit there and producing cars locally to give competition to their US and European counterparts.\n",
    "<br>&emsp;&emsp; They have contracted an automobile consulting company to understand the factors on which the pricing of cars depends. Specifically, they want to understand the factors affecting the pricing of cars in the American market, since those may be very different from the Chinese market. The company wants to know:\n",
    "<br>&emsp;&emsp; Which variables are significant in predicting the price of a car How well those variables describe the price of a car Based on various market surveys, the consulting firm has gathered a large data set of different types of cars across the America market.\n",
    "\n",
    "# Business goal:\n",
    "We are required to model the price of cars with the available independent variables. It will be used by the management to understand how exactly the prices vary with the independent variables. They can accordingly manipulate the design of the cars, the business strategy etc. to meet certain price levels. Further, the model will be a good way for management to understand the pricing dynamics of a new market.\n",
    "\n",
    "# Attribute information:\n",
    "<br>**Car_ID:** Unique ID of each observation (*Integer*).\n",
    "<br>**Symboling:** Its assigned insurance risk rating, A value of +3 indicates that the auto is risky, -3 that it is probably pretty safe (*Categorical*).\n",
    "<br>**Car_Company:** Name of Car company (*Categorical*). The following are the list of car companies available in the data set. 'alfa-romero', 'audi', 'bmw', 'chevrolet', 'dodge', 'honda', 'isuzu', 'jaguar', 'mazda', 'buick', 'mercury', 'mitsubishi', 'nissan', 'peugeot', 'plymouth', 'porsche', 'renault', 'saab', 'subaru', 'toyota', 'volkswagen', 'volvo'\n",
    "<br>**Fueltype:** Car fuel type i.e. gas or diesel (*Categorical*).\n",
    "<br>**Aspiration:** Aspiration used in a car i.e. Std or turbo (*Categorical*). Mode of air intake for the internal combustion engine i.e. natural (standard) or turbocharger.\n",
    "<br>**DoorNumber:** Number of doors in a car i.e. 2 or 4 (*Categorical*).\n",
    "<br>**CarBody:** Body of a car sedan, hatchback, wagon, hardtop, convertible (*Categorical*).\n",
    "<br>**DriverWheel:** Type of driver wheel 4wd, fwd, rwd (*Categorical*).\n",
    "<br>&emsp;&emsp; **4wd:** Four-wheel drive, also called 4×4 or 4wd, refers to a two-axled vehicle drivetrain capable of providing torque to all of its wheels simultaneously.\n",
    "<br>&emsp;&emsp; **fwd:** Front wheel drive is called as fwd. A fwd can only supply power to the front wheels.\n",
    "<br>&emsp;&emsp; **rwd:** Rear wheel drive is called as rwd. A rwd can only supply power to the rear wheels.\n",
    "<br>**EngineLocation:** Location of car engine Front or Rear (*Categorical*). Out of 205 only 3 cars engine location is rear. All the 3 cars belong to Porsche company.\n",
    "<br>**WheelBase:** WheelBase is the distance between the front and rear wheels. Continuous from 86.6 to 120.9 (*Float*).\n",
    "<br>**CarLength:** Length of car continuous from 141.1 to 208.1 (*Float*).\n",
    "<br>**CarWidth:** Width of car continuous from 60.3 to 72.3 (*Float*).\n",
    "<br>**CarHeight:** Height of car continuous from 47.8 to 59.8 (*Float*).\n",
    "<br>**CurbWeight:** The weight of car continuous from 1488 to 4066 (*Int*).\n",
    "<br>**EngineType:** Type of engine dohc, ohcv, ohc, l, rotor, ohcf, dohcv (*Categorical*).\n",
    "<br>**CylinderNumber:** Number of cylinders continuous from 2 to 8 (*Categorical*). A cylinder is the power unit of an engine; it's the chamber where the gasoline is burned and turned into power.\n",
    "<br>**EngineSize:** The Size of engine continuous from 61 to 326 (*Int*).\n",
    "<br>**FuelSystem:** Fuel system is to inject a precise amount of automized and pressurized fuel in to each cylinder at a proper time. Types of fuel system are mpfi, 2bbl, mfi, 1bbl, spfi, 4bbl, idi, spdi (*Categorical*).\n",
    "<br>**BoreRatio:** Bore-Stroke Ratio is the ratio between the dimensions of the engine cylinder bore diameter to its piston stroke-length. Bore ratio continuous from 2.54 to 3.94 (*Float*).\n",
    "<br>**Stroke:** stroke or volume inside the engine continuous from 2.07 to 4.17 (*Float*).\n",
    "<br>**CompressionRatio:** Compression ratio, in an internal-combustion engine, degree to which the fuel mixture is compressed before ignition. Compression ratio continuous from 7.0 to 23.0 (*Float*).\n",
    "<br>**HorsePower:** Horsepower is a unit of power used to measure the forcefulness of a vehicle's engine. Horse power continuous from 48 to 288 (*Int*).\n",
    "<br>**PeakRPM:** RPM stands for revolutions per minute, and it's used as a measure of how fast any machine is operating at a given time. how many times each piston goes up and down in its cylinder. PeakRPM continuous from 4150 to 6600 (*Int*).\n",
    "<br>**CityMPG:** CityMPG refers to driving with occasional stopping and braking. Mileage in city continuous from 13 to 49 (*Float*).\n",
    "<br>**HighwayMPG:** It is based on continuous acceleration. Mileage on highway continuous from 16 to 54 (*Float*).\n",
    "<br>**Price:** Price of car continuous from 5118 to 45400 (*Float*)."
   ]
  },
  {
   "cell_type": "markdown",
   "metadata": {},
   "source": [
    "## Importing Libraries"
   ]
  },
  {
   "cell_type": "code",
   "execution_count": 1,
   "metadata": {},
   "outputs": [],
   "source": [
    "#### Importing libraries\n",
    "import warnings\n",
    "import numpy as np\n",
    "import pandas as pd\n",
    "import seaborn as sns\n",
    "import matplotlib.pyplot as plt\n",
    "\n",
    "#### Ignore all warnings\n",
    "warnings.filterwarnings('ignore')\n",
    "#### allow plots to appear directly in the notebook\n",
    "%matplotlib inline\n",
    "#### set the maximum number of dataFrame columns display to unlimited\n",
    "pd.set_option(\"display.max_columns\", None)"
   ]
  },
  {
   "cell_type": "code",
   "execution_count": 2,
   "metadata": {},
   "outputs": [
    {
     "data": {
      "text/html": [
       "<div>\n",
       "<style scoped>\n",
       "    .dataframe tbody tr th:only-of-type {\n",
       "        vertical-align: middle;\n",
       "    }\n",
       "\n",
       "    .dataframe tbody tr th {\n",
       "        vertical-align: top;\n",
       "    }\n",
       "\n",
       "    .dataframe thead th {\n",
       "        text-align: right;\n",
       "    }\n",
       "</style>\n",
       "<table border=\"1\" class=\"dataframe\">\n",
       "  <thead>\n",
       "    <tr style=\"text-align: right;\">\n",
       "      <th></th>\n",
       "      <th>car_ID</th>\n",
       "      <th>symboling</th>\n",
       "      <th>CarName</th>\n",
       "      <th>fueltype</th>\n",
       "      <th>aspiration</th>\n",
       "      <th>doornumber</th>\n",
       "      <th>carbody</th>\n",
       "      <th>drivewheel</th>\n",
       "      <th>enginelocation</th>\n",
       "      <th>wheelbase</th>\n",
       "      <th>carlength</th>\n",
       "      <th>carwidth</th>\n",
       "      <th>carheight</th>\n",
       "      <th>curbweight</th>\n",
       "      <th>enginetype</th>\n",
       "      <th>cylindernumber</th>\n",
       "      <th>enginesize</th>\n",
       "      <th>fuelsystem</th>\n",
       "      <th>boreratio</th>\n",
       "      <th>stroke</th>\n",
       "      <th>compressionratio</th>\n",
       "      <th>horsepower</th>\n",
       "      <th>peakrpm</th>\n",
       "      <th>citympg</th>\n",
       "      <th>highwaympg</th>\n",
       "      <th>price</th>\n",
       "    </tr>\n",
       "  </thead>\n",
       "  <tbody>\n",
       "    <tr>\n",
       "      <th>0</th>\n",
       "      <td>1</td>\n",
       "      <td>3</td>\n",
       "      <td>alfa-romero giulia</td>\n",
       "      <td>gas</td>\n",
       "      <td>std</td>\n",
       "      <td>two</td>\n",
       "      <td>convertible</td>\n",
       "      <td>rwd</td>\n",
       "      <td>front</td>\n",
       "      <td>88.6</td>\n",
       "      <td>168.8</td>\n",
       "      <td>64.1</td>\n",
       "      <td>48.8</td>\n",
       "      <td>2548</td>\n",
       "      <td>dohc</td>\n",
       "      <td>four</td>\n",
       "      <td>130</td>\n",
       "      <td>mpfi</td>\n",
       "      <td>3.47</td>\n",
       "      <td>2.68</td>\n",
       "      <td>9.0</td>\n",
       "      <td>111</td>\n",
       "      <td>5000</td>\n",
       "      <td>21</td>\n",
       "      <td>27</td>\n",
       "      <td>13495.0</td>\n",
       "    </tr>\n",
       "    <tr>\n",
       "      <th>1</th>\n",
       "      <td>2</td>\n",
       "      <td>3</td>\n",
       "      <td>alfa-romero stelvio</td>\n",
       "      <td>gas</td>\n",
       "      <td>std</td>\n",
       "      <td>two</td>\n",
       "      <td>convertible</td>\n",
       "      <td>rwd</td>\n",
       "      <td>front</td>\n",
       "      <td>88.6</td>\n",
       "      <td>168.8</td>\n",
       "      <td>64.1</td>\n",
       "      <td>48.8</td>\n",
       "      <td>2548</td>\n",
       "      <td>dohc</td>\n",
       "      <td>four</td>\n",
       "      <td>130</td>\n",
       "      <td>mpfi</td>\n",
       "      <td>3.47</td>\n",
       "      <td>2.68</td>\n",
       "      <td>9.0</td>\n",
       "      <td>111</td>\n",
       "      <td>5000</td>\n",
       "      <td>21</td>\n",
       "      <td>27</td>\n",
       "      <td>16500.0</td>\n",
       "    </tr>\n",
       "    <tr>\n",
       "      <th>2</th>\n",
       "      <td>3</td>\n",
       "      <td>1</td>\n",
       "      <td>alfa-romero Quadrifoglio</td>\n",
       "      <td>gas</td>\n",
       "      <td>std</td>\n",
       "      <td>two</td>\n",
       "      <td>hatchback</td>\n",
       "      <td>rwd</td>\n",
       "      <td>front</td>\n",
       "      <td>94.5</td>\n",
       "      <td>171.2</td>\n",
       "      <td>65.5</td>\n",
       "      <td>52.4</td>\n",
       "      <td>2823</td>\n",
       "      <td>ohcv</td>\n",
       "      <td>six</td>\n",
       "      <td>152</td>\n",
       "      <td>mpfi</td>\n",
       "      <td>2.68</td>\n",
       "      <td>3.47</td>\n",
       "      <td>9.0</td>\n",
       "      <td>154</td>\n",
       "      <td>5000</td>\n",
       "      <td>19</td>\n",
       "      <td>26</td>\n",
       "      <td>16500.0</td>\n",
       "    </tr>\n",
       "    <tr>\n",
       "      <th>3</th>\n",
       "      <td>4</td>\n",
       "      <td>2</td>\n",
       "      <td>audi 100 ls</td>\n",
       "      <td>gas</td>\n",
       "      <td>std</td>\n",
       "      <td>four</td>\n",
       "      <td>sedan</td>\n",
       "      <td>fwd</td>\n",
       "      <td>front</td>\n",
       "      <td>99.8</td>\n",
       "      <td>176.6</td>\n",
       "      <td>66.2</td>\n",
       "      <td>54.3</td>\n",
       "      <td>2337</td>\n",
       "      <td>ohc</td>\n",
       "      <td>four</td>\n",
       "      <td>109</td>\n",
       "      <td>mpfi</td>\n",
       "      <td>3.19</td>\n",
       "      <td>3.40</td>\n",
       "      <td>10.0</td>\n",
       "      <td>102</td>\n",
       "      <td>5500</td>\n",
       "      <td>24</td>\n",
       "      <td>30</td>\n",
       "      <td>13950.0</td>\n",
       "    </tr>\n",
       "    <tr>\n",
       "      <th>4</th>\n",
       "      <td>5</td>\n",
       "      <td>2</td>\n",
       "      <td>audi 100ls</td>\n",
       "      <td>gas</td>\n",
       "      <td>std</td>\n",
       "      <td>four</td>\n",
       "      <td>sedan</td>\n",
       "      <td>4wd</td>\n",
       "      <td>front</td>\n",
       "      <td>99.4</td>\n",
       "      <td>176.6</td>\n",
       "      <td>66.4</td>\n",
       "      <td>54.3</td>\n",
       "      <td>2824</td>\n",
       "      <td>ohc</td>\n",
       "      <td>five</td>\n",
       "      <td>136</td>\n",
       "      <td>mpfi</td>\n",
       "      <td>3.19</td>\n",
       "      <td>3.40</td>\n",
       "      <td>8.0</td>\n",
       "      <td>115</td>\n",
       "      <td>5500</td>\n",
       "      <td>18</td>\n",
       "      <td>22</td>\n",
       "      <td>17450.0</td>\n",
       "    </tr>\n",
       "  </tbody>\n",
       "</table>\n",
       "</div>"
      ],
      "text/plain": [
       "   car_ID  symboling                   CarName fueltype aspiration doornumber  \\\n",
       "0       1          3        alfa-romero giulia      gas        std        two   \n",
       "1       2          3       alfa-romero stelvio      gas        std        two   \n",
       "2       3          1  alfa-romero Quadrifoglio      gas        std        two   \n",
       "3       4          2               audi 100 ls      gas        std       four   \n",
       "4       5          2                audi 100ls      gas        std       four   \n",
       "\n",
       "       carbody drivewheel enginelocation  wheelbase  carlength  carwidth  \\\n",
       "0  convertible        rwd          front       88.6      168.8      64.1   \n",
       "1  convertible        rwd          front       88.6      168.8      64.1   \n",
       "2    hatchback        rwd          front       94.5      171.2      65.5   \n",
       "3        sedan        fwd          front       99.8      176.6      66.2   \n",
       "4        sedan        4wd          front       99.4      176.6      66.4   \n",
       "\n",
       "   carheight  curbweight enginetype cylindernumber  enginesize fuelsystem  \\\n",
       "0       48.8        2548       dohc           four         130       mpfi   \n",
       "1       48.8        2548       dohc           four         130       mpfi   \n",
       "2       52.4        2823       ohcv            six         152       mpfi   \n",
       "3       54.3        2337        ohc           four         109       mpfi   \n",
       "4       54.3        2824        ohc           five         136       mpfi   \n",
       "\n",
       "   boreratio  stroke  compressionratio  horsepower  peakrpm  citympg  \\\n",
       "0       3.47    2.68               9.0         111     5000       21   \n",
       "1       3.47    2.68               9.0         111     5000       21   \n",
       "2       2.68    3.47               9.0         154     5000       19   \n",
       "3       3.19    3.40              10.0         102     5500       24   \n",
       "4       3.19    3.40               8.0         115     5500       18   \n",
       "\n",
       "   highwaympg    price  \n",
       "0          27  13495.0  \n",
       "1          27  16500.0  \n",
       "2          26  16500.0  \n",
       "3          30  13950.0  \n",
       "4          22  17450.0  "
      ]
     },
     "execution_count": 2,
     "metadata": {},
     "output_type": "execute_result"
    }
   ],
   "source": [
    "#### loading dataSet as pandas dataFrame\n",
    "data = pd.read_csv('./Data/CarPrice.csv')\n",
    "\n",
    "#### Let’s take a look at the top five rows using the DataFrame’s head() method\n",
    "data.head()"
   ]
  },
  {
   "cell_type": "code",
   "execution_count": 3,
   "metadata": {},
   "outputs": [
    {
     "name": "stdout",
     "output_type": "stream",
     "text": [
      "The no.of rows = 205\n",
      "The no.of columns = 26\n"
     ]
    }
   ],
   "source": [
    "#### checking dimensionality of the Data\n",
    "rows, cols = data.shape\n",
    "print(f'The no.of rows = {rows}')\n",
    "print(f'The no.of columns = {cols}')"
   ]
  },
  {
   "cell_type": "code",
   "execution_count": 4,
   "metadata": {},
   "outputs": [
    {
     "name": "stdout",
     "output_type": "stream",
     "text": [
      "<class 'pandas.core.frame.DataFrame'>\n",
      "RangeIndex: 205 entries, 0 to 204\n",
      "Data columns (total 26 columns):\n",
      " #   Column            Non-Null Count  Dtype  \n",
      "---  ------            --------------  -----  \n",
      " 0   car_ID            205 non-null    int64  \n",
      " 1   symboling         205 non-null    int64  \n",
      " 2   CarName           205 non-null    object \n",
      " 3   fueltype          205 non-null    object \n",
      " 4   aspiration        205 non-null    object \n",
      " 5   doornumber        205 non-null    object \n",
      " 6   carbody           205 non-null    object \n",
      " 7   drivewheel        205 non-null    object \n",
      " 8   enginelocation    205 non-null    object \n",
      " 9   wheelbase         205 non-null    float64\n",
      " 10  carlength         205 non-null    float64\n",
      " 11  carwidth          205 non-null    float64\n",
      " 12  carheight         205 non-null    float64\n",
      " 13  curbweight        205 non-null    int64  \n",
      " 14  enginetype        205 non-null    object \n",
      " 15  cylindernumber    205 non-null    object \n",
      " 16  enginesize        205 non-null    int64  \n",
      " 17  fuelsystem        205 non-null    object \n",
      " 18  boreratio         205 non-null    float64\n",
      " 19  stroke            205 non-null    float64\n",
      " 20  compressionratio  205 non-null    float64\n",
      " 21  horsepower        205 non-null    int64  \n",
      " 22  peakrpm           205 non-null    int64  \n",
      " 23  citympg           205 non-null    int64  \n",
      " 24  highwaympg        205 non-null    int64  \n",
      " 25  price             205 non-null    float64\n",
      "dtypes: float64(8), int64(8), object(10)\n",
      "memory usage: 41.8+ KB\n"
     ]
    }
   ],
   "source": [
    "'''\n",
    "The info() method is useful to get a quick description of the data, in particular the total number of rows, \n",
    "and each attribute’s type and number of non-null values\n",
    "'''\n",
    "data.info()"
   ]
  },
  {
   "cell_type": "markdown",
   "metadata": {},
   "source": [
    "There are 205 instances in the dataset.Notice that there are no null values present in the dataset."
   ]
  },
  {
   "cell_type": "code",
   "execution_count": 5,
   "metadata": {},
   "outputs": [
    {
     "data": {
      "text/html": [
       "<div>\n",
       "<style scoped>\n",
       "    .dataframe tbody tr th:only-of-type {\n",
       "        vertical-align: middle;\n",
       "    }\n",
       "\n",
       "    .dataframe tbody tr th {\n",
       "        vertical-align: top;\n",
       "    }\n",
       "\n",
       "    .dataframe thead th {\n",
       "        text-align: right;\n",
       "    }\n",
       "</style>\n",
       "<table border=\"1\" class=\"dataframe\">\n",
       "  <thead>\n",
       "    <tr style=\"text-align: right;\">\n",
       "      <th></th>\n",
       "      <th>count</th>\n",
       "      <th>mean</th>\n",
       "      <th>std</th>\n",
       "      <th>min</th>\n",
       "      <th>25%</th>\n",
       "      <th>50%</th>\n",
       "      <th>75%</th>\n",
       "      <th>max</th>\n",
       "    </tr>\n",
       "  </thead>\n",
       "  <tbody>\n",
       "    <tr>\n",
       "      <th>car_ID</th>\n",
       "      <td>205.0</td>\n",
       "      <td>103.00</td>\n",
       "      <td>59.32</td>\n",
       "      <td>1.00</td>\n",
       "      <td>52.00</td>\n",
       "      <td>103.00</td>\n",
       "      <td>154.00</td>\n",
       "      <td>205.00</td>\n",
       "    </tr>\n",
       "    <tr>\n",
       "      <th>symboling</th>\n",
       "      <td>205.0</td>\n",
       "      <td>0.83</td>\n",
       "      <td>1.25</td>\n",
       "      <td>-2.00</td>\n",
       "      <td>0.00</td>\n",
       "      <td>1.00</td>\n",
       "      <td>2.00</td>\n",
       "      <td>3.00</td>\n",
       "    </tr>\n",
       "    <tr>\n",
       "      <th>wheelbase</th>\n",
       "      <td>205.0</td>\n",
       "      <td>98.76</td>\n",
       "      <td>6.02</td>\n",
       "      <td>86.60</td>\n",
       "      <td>94.50</td>\n",
       "      <td>97.00</td>\n",
       "      <td>102.40</td>\n",
       "      <td>120.90</td>\n",
       "    </tr>\n",
       "    <tr>\n",
       "      <th>carlength</th>\n",
       "      <td>205.0</td>\n",
       "      <td>174.05</td>\n",
       "      <td>12.34</td>\n",
       "      <td>141.10</td>\n",
       "      <td>166.30</td>\n",
       "      <td>173.20</td>\n",
       "      <td>183.10</td>\n",
       "      <td>208.10</td>\n",
       "    </tr>\n",
       "    <tr>\n",
       "      <th>carwidth</th>\n",
       "      <td>205.0</td>\n",
       "      <td>65.91</td>\n",
       "      <td>2.15</td>\n",
       "      <td>60.30</td>\n",
       "      <td>64.10</td>\n",
       "      <td>65.50</td>\n",
       "      <td>66.90</td>\n",
       "      <td>72.30</td>\n",
       "    </tr>\n",
       "    <tr>\n",
       "      <th>carheight</th>\n",
       "      <td>205.0</td>\n",
       "      <td>53.72</td>\n",
       "      <td>2.44</td>\n",
       "      <td>47.80</td>\n",
       "      <td>52.00</td>\n",
       "      <td>54.10</td>\n",
       "      <td>55.50</td>\n",
       "      <td>59.80</td>\n",
       "    </tr>\n",
       "    <tr>\n",
       "      <th>curbweight</th>\n",
       "      <td>205.0</td>\n",
       "      <td>2555.57</td>\n",
       "      <td>520.68</td>\n",
       "      <td>1488.00</td>\n",
       "      <td>2145.00</td>\n",
       "      <td>2414.00</td>\n",
       "      <td>2935.00</td>\n",
       "      <td>4066.00</td>\n",
       "    </tr>\n",
       "    <tr>\n",
       "      <th>enginesize</th>\n",
       "      <td>205.0</td>\n",
       "      <td>126.91</td>\n",
       "      <td>41.64</td>\n",
       "      <td>61.00</td>\n",
       "      <td>97.00</td>\n",
       "      <td>120.00</td>\n",
       "      <td>141.00</td>\n",
       "      <td>326.00</td>\n",
       "    </tr>\n",
       "    <tr>\n",
       "      <th>boreratio</th>\n",
       "      <td>205.0</td>\n",
       "      <td>3.33</td>\n",
       "      <td>0.27</td>\n",
       "      <td>2.54</td>\n",
       "      <td>3.15</td>\n",
       "      <td>3.31</td>\n",
       "      <td>3.58</td>\n",
       "      <td>3.94</td>\n",
       "    </tr>\n",
       "    <tr>\n",
       "      <th>stroke</th>\n",
       "      <td>205.0</td>\n",
       "      <td>3.26</td>\n",
       "      <td>0.31</td>\n",
       "      <td>2.07</td>\n",
       "      <td>3.11</td>\n",
       "      <td>3.29</td>\n",
       "      <td>3.41</td>\n",
       "      <td>4.17</td>\n",
       "    </tr>\n",
       "    <tr>\n",
       "      <th>compressionratio</th>\n",
       "      <td>205.0</td>\n",
       "      <td>10.14</td>\n",
       "      <td>3.97</td>\n",
       "      <td>7.00</td>\n",
       "      <td>8.60</td>\n",
       "      <td>9.00</td>\n",
       "      <td>9.40</td>\n",
       "      <td>23.00</td>\n",
       "    </tr>\n",
       "    <tr>\n",
       "      <th>horsepower</th>\n",
       "      <td>205.0</td>\n",
       "      <td>104.12</td>\n",
       "      <td>39.54</td>\n",
       "      <td>48.00</td>\n",
       "      <td>70.00</td>\n",
       "      <td>95.00</td>\n",
       "      <td>116.00</td>\n",
       "      <td>288.00</td>\n",
       "    </tr>\n",
       "    <tr>\n",
       "      <th>peakrpm</th>\n",
       "      <td>205.0</td>\n",
       "      <td>5125.12</td>\n",
       "      <td>476.99</td>\n",
       "      <td>4150.00</td>\n",
       "      <td>4800.00</td>\n",
       "      <td>5200.00</td>\n",
       "      <td>5500.00</td>\n",
       "      <td>6600.00</td>\n",
       "    </tr>\n",
       "    <tr>\n",
       "      <th>citympg</th>\n",
       "      <td>205.0</td>\n",
       "      <td>25.22</td>\n",
       "      <td>6.54</td>\n",
       "      <td>13.00</td>\n",
       "      <td>19.00</td>\n",
       "      <td>24.00</td>\n",
       "      <td>30.00</td>\n",
       "      <td>49.00</td>\n",
       "    </tr>\n",
       "    <tr>\n",
       "      <th>highwaympg</th>\n",
       "      <td>205.0</td>\n",
       "      <td>30.75</td>\n",
       "      <td>6.89</td>\n",
       "      <td>16.00</td>\n",
       "      <td>25.00</td>\n",
       "      <td>30.00</td>\n",
       "      <td>34.00</td>\n",
       "      <td>54.00</td>\n",
       "    </tr>\n",
       "    <tr>\n",
       "      <th>price</th>\n",
       "      <td>205.0</td>\n",
       "      <td>13276.71</td>\n",
       "      <td>7988.85</td>\n",
       "      <td>5118.00</td>\n",
       "      <td>7788.00</td>\n",
       "      <td>10295.00</td>\n",
       "      <td>16503.00</td>\n",
       "      <td>45400.00</td>\n",
       "    </tr>\n",
       "  </tbody>\n",
       "</table>\n",
       "</div>"
      ],
      "text/plain": [
       "                  count      mean      std      min      25%       50%  \\\n",
       "car_ID            205.0    103.00    59.32     1.00    52.00    103.00   \n",
       "symboling         205.0      0.83     1.25    -2.00     0.00      1.00   \n",
       "wheelbase         205.0     98.76     6.02    86.60    94.50     97.00   \n",
       "carlength         205.0    174.05    12.34   141.10   166.30    173.20   \n",
       "carwidth          205.0     65.91     2.15    60.30    64.10     65.50   \n",
       "carheight         205.0     53.72     2.44    47.80    52.00     54.10   \n",
       "curbweight        205.0   2555.57   520.68  1488.00  2145.00   2414.00   \n",
       "enginesize        205.0    126.91    41.64    61.00    97.00    120.00   \n",
       "boreratio         205.0      3.33     0.27     2.54     3.15      3.31   \n",
       "stroke            205.0      3.26     0.31     2.07     3.11      3.29   \n",
       "compressionratio  205.0     10.14     3.97     7.00     8.60      9.00   \n",
       "horsepower        205.0    104.12    39.54    48.00    70.00     95.00   \n",
       "peakrpm           205.0   5125.12   476.99  4150.00  4800.00   5200.00   \n",
       "citympg           205.0     25.22     6.54    13.00    19.00     24.00   \n",
       "highwaympg        205.0     30.75     6.89    16.00    25.00     30.00   \n",
       "price             205.0  13276.71  7988.85  5118.00  7788.00  10295.00   \n",
       "\n",
       "                       75%       max  \n",
       "car_ID              154.00    205.00  \n",
       "symboling             2.00      3.00  \n",
       "wheelbase           102.40    120.90  \n",
       "carlength           183.10    208.10  \n",
       "carwidth             66.90     72.30  \n",
       "carheight            55.50     59.80  \n",
       "curbweight         2935.00   4066.00  \n",
       "enginesize          141.00    326.00  \n",
       "boreratio             3.58      3.94  \n",
       "stroke                3.41      4.17  \n",
       "compressionratio      9.40     23.00  \n",
       "horsepower          116.00    288.00  \n",
       "peakrpm            5500.00   6600.00  \n",
       "citympg              30.00     49.00  \n",
       "highwaympg           34.00     54.00  \n",
       "price             16503.00  45400.00  "
      ]
     },
     "execution_count": 5,
     "metadata": {},
     "output_type": "execute_result"
    }
   ],
   "source": [
    "#### The describe() method shows a summary of the nummerical attributes.\n",
    "data.describe().T.round(decimals = 2)"
   ]
  },
  {
   "cell_type": "markdown",
   "metadata": {},
   "source": [
    "From the above it is observed the **price** column ranges from **5118** to **45400** with a standard deviation of **7988.85**."
   ]
  },
  {
   "cell_type": "code",
   "execution_count": 6,
   "metadata": {},
   "outputs": [
    {
     "data": {
      "text/html": [
       "<div>\n",
       "<style scoped>\n",
       "    .dataframe tbody tr th:only-of-type {\n",
       "        vertical-align: middle;\n",
       "    }\n",
       "\n",
       "    .dataframe tbody tr th {\n",
       "        vertical-align: top;\n",
       "    }\n",
       "\n",
       "    .dataframe thead th {\n",
       "        text-align: right;\n",
       "    }\n",
       "</style>\n",
       "<table border=\"1\" class=\"dataframe\">\n",
       "  <thead>\n",
       "    <tr style=\"text-align: right;\">\n",
       "      <th></th>\n",
       "      <th>count</th>\n",
       "      <th>unique</th>\n",
       "      <th>top</th>\n",
       "      <th>freq</th>\n",
       "    </tr>\n",
       "  </thead>\n",
       "  <tbody>\n",
       "    <tr>\n",
       "      <th>CarName</th>\n",
       "      <td>205</td>\n",
       "      <td>147</td>\n",
       "      <td>peugeot 504</td>\n",
       "      <td>6</td>\n",
       "    </tr>\n",
       "    <tr>\n",
       "      <th>fueltype</th>\n",
       "      <td>205</td>\n",
       "      <td>2</td>\n",
       "      <td>gas</td>\n",
       "      <td>185</td>\n",
       "    </tr>\n",
       "    <tr>\n",
       "      <th>aspiration</th>\n",
       "      <td>205</td>\n",
       "      <td>2</td>\n",
       "      <td>std</td>\n",
       "      <td>168</td>\n",
       "    </tr>\n",
       "    <tr>\n",
       "      <th>doornumber</th>\n",
       "      <td>205</td>\n",
       "      <td>2</td>\n",
       "      <td>four</td>\n",
       "      <td>115</td>\n",
       "    </tr>\n",
       "    <tr>\n",
       "      <th>carbody</th>\n",
       "      <td>205</td>\n",
       "      <td>5</td>\n",
       "      <td>sedan</td>\n",
       "      <td>96</td>\n",
       "    </tr>\n",
       "    <tr>\n",
       "      <th>drivewheel</th>\n",
       "      <td>205</td>\n",
       "      <td>3</td>\n",
       "      <td>fwd</td>\n",
       "      <td>120</td>\n",
       "    </tr>\n",
       "    <tr>\n",
       "      <th>enginelocation</th>\n",
       "      <td>205</td>\n",
       "      <td>2</td>\n",
       "      <td>front</td>\n",
       "      <td>202</td>\n",
       "    </tr>\n",
       "    <tr>\n",
       "      <th>enginetype</th>\n",
       "      <td>205</td>\n",
       "      <td>7</td>\n",
       "      <td>ohc</td>\n",
       "      <td>148</td>\n",
       "    </tr>\n",
       "    <tr>\n",
       "      <th>cylindernumber</th>\n",
       "      <td>205</td>\n",
       "      <td>7</td>\n",
       "      <td>four</td>\n",
       "      <td>159</td>\n",
       "    </tr>\n",
       "    <tr>\n",
       "      <th>fuelsystem</th>\n",
       "      <td>205</td>\n",
       "      <td>8</td>\n",
       "      <td>mpfi</td>\n",
       "      <td>94</td>\n",
       "    </tr>\n",
       "  </tbody>\n",
       "</table>\n",
       "</div>"
      ],
      "text/plain": [
       "               count unique          top freq\n",
       "CarName          205    147  peugeot 504    6\n",
       "fueltype         205      2          gas  185\n",
       "aspiration       205      2          std  168\n",
       "doornumber       205      2         four  115\n",
       "carbody          205      5        sedan   96\n",
       "drivewheel       205      3          fwd  120\n",
       "enginelocation   205      2        front  202\n",
       "enginetype       205      7          ohc  148\n",
       "cylindernumber   205      7         four  159\n",
       "fuelsystem       205      8         mpfi   94"
      ]
     },
     "execution_count": 6,
     "metadata": {},
     "output_type": "execute_result"
    }
   ],
   "source": [
    "#### The describe(include=['object']) method shows a summary of the object attributes.\n",
    "data.describe(include = ['object']).T"
   ]
  },
  {
   "cell_type": "markdown",
   "metadata": {},
   "source": [
    "from the above it is observed that \n",
    "* **98%** of the cars have **enginelocation** as **front**.\n",
    "* **90%** of the cars have **fueltype** as **gas**.\n",
    "* **75% carName** are **distinct**."
   ]
  },
  {
   "cell_type": "code",
   "execution_count": 7,
   "metadata": {},
   "outputs": [
    {
     "name": "stdout",
     "output_type": "stream",
     "text": [
      "\n",
      "CarName :\n",
      " ['alfa-romero giulia' 'alfa-romero stelvio' 'alfa-romero Quadrifoglio'\n",
      " 'audi 100 ls' 'audi 100ls' 'audi fox' 'audi 5000' 'audi 4000'\n",
      " 'audi 5000s (diesel)' 'bmw 320i' 'bmw x1' 'bmw x3' 'bmw z4' 'bmw x4'\n",
      " 'bmw x5' 'chevrolet impala' 'chevrolet monte carlo' 'chevrolet vega 2300'\n",
      " 'dodge rampage' 'dodge challenger se' 'dodge d200' 'dodge monaco (sw)'\n",
      " 'dodge colt hardtop' 'dodge colt (sw)' 'dodge coronet custom'\n",
      " 'dodge dart custom' 'dodge coronet custom (sw)' 'honda civic'\n",
      " 'honda civic cvcc' 'honda accord cvcc' 'honda accord lx'\n",
      " 'honda civic 1500 gl' 'honda accord' 'honda civic 1300' 'honda prelude'\n",
      " 'honda civic (auto)' 'isuzu MU-X' 'isuzu D-Max ' 'isuzu D-Max V-Cross'\n",
      " 'jaguar xj' 'jaguar xf' 'jaguar xk' 'maxda rx3' 'maxda glc deluxe'\n",
      " 'mazda rx2 coupe' 'mazda rx-4' 'mazda glc deluxe' 'mazda 626' 'mazda glc'\n",
      " 'mazda rx-7 gs' 'mazda glc 4' 'mazda glc custom l' 'mazda glc custom'\n",
      " 'buick electra 225 custom' 'buick century luxus (sw)' 'buick century'\n",
      " 'buick skyhawk' 'buick opel isuzu deluxe' 'buick skylark'\n",
      " 'buick century special' 'buick regal sport coupe (turbo)'\n",
      " 'mercury cougar' 'mitsubishi mirage' 'mitsubishi lancer'\n",
      " 'mitsubishi outlander' 'mitsubishi g4' 'mitsubishi mirage g4'\n",
      " 'mitsubishi montero' 'mitsubishi pajero' 'Nissan versa' 'nissan gt-r'\n",
      " 'nissan rogue' 'nissan latio' 'nissan titan' 'nissan leaf' 'nissan juke'\n",
      " 'nissan note' 'nissan clipper' 'nissan nv200' 'nissan dayz' 'nissan fuga'\n",
      " 'nissan otti' 'nissan teana' 'nissan kicks' 'peugeot 504' 'peugeot 304'\n",
      " 'peugeot 504 (sw)' 'peugeot 604sl' 'peugeot 505s turbo diesel'\n",
      " 'plymouth fury iii' 'plymouth cricket' 'plymouth satellite custom (sw)'\n",
      " 'plymouth fury gran sedan' 'plymouth valiant' 'plymouth duster'\n",
      " 'porsche macan' 'porcshce panamera' 'porsche cayenne' 'porsche boxter'\n",
      " 'renault 12tl' 'renault 5 gtl' 'saab 99e' 'saab 99le' 'saab 99gle'\n",
      " 'subaru' 'subaru dl' 'subaru brz' 'subaru baja' 'subaru r1' 'subaru r2'\n",
      " 'subaru trezia' 'subaru tribeca' 'toyota corona mark ii' 'toyota corona'\n",
      " 'toyota corolla 1200' 'toyota corona hardtop' 'toyota corolla 1600 (sw)'\n",
      " 'toyota carina' 'toyota mark ii' 'toyota corolla'\n",
      " 'toyota corolla liftback' 'toyota celica gt liftback'\n",
      " 'toyota corolla tercel' 'toyota corona liftback' 'toyota starlet'\n",
      " 'toyota tercel' 'toyota cressida' 'toyota celica gt' 'toyouta tercel'\n",
      " 'vokswagen rabbit' 'volkswagen 1131 deluxe sedan' 'volkswagen model 111'\n",
      " 'volkswagen type 3' 'volkswagen 411 (sw)' 'volkswagen super beetle'\n",
      " 'volkswagen dasher' 'vw dasher' 'vw rabbit' 'volkswagen rabbit'\n",
      " 'volkswagen rabbit custom' 'volvo 145e (sw)' 'volvo 144ea' 'volvo 244dl'\n",
      " 'volvo 245' 'volvo 264gl' 'volvo diesel' 'volvo 246']\n",
      "\n",
      "fueltype :\n",
      " ['gas' 'diesel']\n",
      "\n",
      "aspiration :\n",
      " ['std' 'turbo']\n",
      "\n",
      "doornumber :\n",
      " ['two' 'four']\n",
      "\n",
      "carbody :\n",
      " ['convertible' 'hatchback' 'sedan' 'wagon' 'hardtop']\n",
      "\n",
      "drivewheel :\n",
      " ['rwd' 'fwd' '4wd']\n",
      "\n",
      "enginelocation :\n",
      " ['front' 'rear']\n",
      "\n",
      "enginetype :\n",
      " ['dohc' 'ohcv' 'ohc' 'l' 'rotor' 'ohcf' 'dohcv']\n",
      "\n",
      "cylindernumber :\n",
      " ['four' 'six' 'five' 'three' 'twelve' 'two' 'eight']\n",
      "\n",
      "fuelsystem :\n",
      " ['mpfi' '2bbl' 'mfi' '1bbl' 'spfi' '4bbl' 'idi' 'spdi']\n"
     ]
    }
   ],
   "source": [
    "#Checking for the unique values present in the categorical features.\n",
    "for i in data.select_dtypes(include='object').columns:\n",
    "        print(i, ':\\n', data[i].unique(), end=print())"
   ]
  },
  {
   "cell_type": "code",
   "execution_count": 8,
   "metadata": {},
   "outputs": [],
   "source": [
    "#### spliting car brand from carName column\n",
    "data['car_brand']=data['CarName'].str.split(\" \", n = 1, expand = True)[0]"
   ]
  },
  {
   "cell_type": "code",
   "execution_count": 9,
   "metadata": {},
   "outputs": [
    {
     "data": {
      "text/plain": [
       "array(['alfa-romero', 'audi', 'bmw', 'chevrolet', 'dodge', 'honda',\n",
       "       'isuzu', 'jaguar', 'maxda', 'mazda', 'buick', 'mercury',\n",
       "       'mitsubishi', 'Nissan', 'nissan', 'peugeot', 'plymouth', 'porsche',\n",
       "       'porcshce', 'renault', 'saab', 'subaru', 'toyota', 'toyouta',\n",
       "       'vokswagen', 'volkswagen', 'vw', 'volvo'], dtype=object)"
      ]
     },
     "execution_count": 9,
     "metadata": {},
     "output_type": "execute_result"
    }
   ],
   "source": [
    "#Priting all kinds of brands availabel  in the dataset\n",
    "data['car_brand'].unique()"
   ]
  },
  {
   "cell_type": "code",
   "execution_count": 10,
   "metadata": {},
   "outputs": [
    {
     "data": {
      "text/plain": [
       "array(['alfa-romero', 'audi', 'bmw', 'chevrolet', 'dodge', 'honda',\n",
       "       'isuzu', 'jaguar', 'mazda', 'buick', 'mercury', 'mitsubishi',\n",
       "       'Nissan', 'peugeot', 'plymouth', 'porsche', 'renault', 'saab',\n",
       "       'subaru', 'toyota', 'volkswagen', 'volvo'], dtype=object)"
      ]
     },
     "execution_count": 10,
     "metadata": {},
     "output_type": "execute_result"
    }
   ],
   "source": [
    "#### There seems to be some duplicate values in in the car_brand column.\n",
    "data['car_brand'].replace({'maxda': 'mazda',\n",
    "                           'nissan': 'Nissan',\n",
    "                           'toyouta': 'toyota',\n",
    "                           'porcshce': 'porsche',\n",
    "                           'vw': 'volkswagen',\n",
    "                           'vokswagen': 'volkswagen'\n",
    "                          }, inplace=True)\n",
    "\n",
    "data['car_brand'].unique()"
   ]
  },
  {
   "cell_type": "code",
   "execution_count": 11,
   "metadata": {},
   "outputs": [
    {
     "name": "stdout",
     "output_type": "stream",
     "text": [
      "no of outliers in 'wheelbase' is 3\n",
      "no of outliers in 'carlength' is 1\n",
      "no of outliers in 'carwidth' is 8\n",
      "no of outliers in 'enginesize' is 10\n",
      "no of outliers in 'stroke' is 20\n",
      "no of outliers in 'compressionratio' is 28\n",
      "no of outliers in 'horsepower' is 6\n",
      "no of outliers in 'peakrpm' is 2\n",
      "no of outliers in 'citympg' is 2\n",
      "no of outliers in 'highwaympg' is 3\n",
      "no of outliers in 'price' is 15\n"
     ]
    }
   ],
   "source": [
    "#### Printing no of outliers in each column\n",
    "outliers_columns_list = []\n",
    "for i in data.select_dtypes(exclude='object').columns:\n",
    "    q1 = data[i].quantile(0.25)\n",
    "    q3 = data[i].quantile(0.75)\n",
    "    IQR = q3-q1\n",
    "    ub = q3+(1.5*IQR)\n",
    "    lb = q1-(1.5*IQR)\n",
    "    outliers_count=data[(data[i]>ub) | (data[i]<lb)][i].count()\n",
    "    if(outliers_count>0):\n",
    "        print(f\"no of outliers in '{i}' is {outliers_count}\")\n",
    "        outliers_columns_list.append(i)"
   ]
  },
  {
   "cell_type": "code",
   "execution_count": 12,
   "metadata": {},
   "outputs": [
    {
     "data": {
      "image/png": "[encoded data removed]",
      "text/plain": [
       "<Figure size 1080x504 with 10 Axes>"
      ]
     },
     "metadata": {
      "needs_background": "light"
     },
     "output_type": "display_data"
    }
   ],
   "source": [
    "plt.figure(figsize=(15, 7))\n",
    "for i in range(len(outliers_columns_list)-1):\n",
    "    plt.subplot(2, 5, i+1)\n",
    "    sns.boxplot(data[outliers_columns_list[i]], orient=\"v\")\n",
    "\n",
    "plt.tight_layout()"
   ]
  },
  {
   "cell_type": "markdown",
   "metadata": {},
   "source": [
    "From the above **boxplots** it is observed that all the outliers are nearer to **Upper and lower boundaries**. So there is no need of outliers treatment"
   ]
  },
  {
   "cell_type": "code",
   "execution_count": 13,
   "metadata": {},
   "outputs": [
    {
     "data": {
      "image/png": "[encoded data removed]",
      "text/plain": [
       "<Figure size 1080x288 with 2 Axes>"
      ]
     },
     "metadata": {
      "needs_background": "light"
     },
     "output_type": "display_data"
    }
   ],
   "source": [
    "# visualizing our dependent variable for outliers and skewnwss\n",
    "plt.figure(figsize=(15,4))\n",
    "\n",
    "plt.subplot(1,2,1)\n",
    "sns.boxplot(data[\"price\"])\n",
    "plt.title(\"Boxplot for outliers detection\", fontweight=\"bold\")\n",
    "\n",
    "plt.subplot(1,2,2)\n",
    "sns.distplot(data[\"price\"])\n",
    "plt.title(\"Distribution plot for skewness\", fontweight=\"bold\")\n",
    "\n",
    "plt.show()"
   ]
  },
  {
   "cell_type": "markdown",
   "metadata": {},
   "source": [
    "From the above plot :\n",
    "* There are few outliers towards the higher price range, suggesting that there are few high price models.\n",
    "* Price distribution plot is **right skewed**\n",
    "* maximum number of cars are in range of 5000 to 20000"
   ]
  },
  {
   "cell_type": "code",
   "execution_count": 14,
   "metadata": {},
   "outputs": [
    {
     "data": {
      "image/png": "[encoded data removed]",
      "text/plain": [
       "<Figure size 1080x720 with 9 Axes>"
      ]
     },
     "metadata": {
      "needs_background": "light"
     },
     "output_type": "display_data"
    }
   ],
   "source": [
    "#### Count plot for all categorical columns\n",
    "object_columns_list = data.select_dtypes(include='object').columns[1:-1]\n",
    "plt.figure(figsize = (15, 10))\n",
    "for i in range(len(object_columns_list)):\n",
    "    plt.subplot(3, 3, i+1)\n",
    "    sns.countplot(data[object_columns_list[i]], order = data[object_columns_list[i]].value_counts().index)\n",
    "    plt.xlabel(object_columns_list[i], fontweight=\"bold\")"
   ]
  },
  {
   "cell_type": "markdown",
   "metadata": {},
   "source": [
    "From the above visuals:\n",
    "* **fueltype:** Majority of the automobiles are gas fuel type.\n",
    "* **aspiration:** Majority of the automobiles use standard aspiration.\n",
    "* **doornumber:** Majority of the automobiles are 4 door models.\n",
    "* **carbody:** Sedan is the most common model, convertible is the least common model.\n",
    "* **drivewheel:** Forward wheel drive is the most common model, 4 wheel drive is the least common model.\n",
    "* **enginelocation:** Almost all the models are having engine location as front.\n",
    "* **enginetype:** Majority (almost all) of the models are having 'ohc' engine type.\n",
    "* **cylindernumber:** Majority (almost all) of the models are 4 cylinder models.\n",
    "* **fuelsystem:** Majority of the models are having 'mpfi' and '2bbl' fuel systems."
   ]
  },
  {
   "cell_type": "code",
   "execution_count": 15,
   "metadata": {},
   "outputs": [
    {
     "data": {
      "image/png": "[encoded data removed]",
      "text/plain": [
       "<Figure size 1080x720 with 9 Axes>"
      ]
     },
     "metadata": {
      "needs_background": "light"
     },
     "output_type": "display_data"
    }
   ],
   "source": [
    "#### violin plot for all categorical columns v/s price\n",
    "object_columns_list = data.select_dtypes(include='object').columns[1:-1]\n",
    "plt.figure(figsize = (15, 10))\n",
    "for i in range(len(object_columns_list)):\n",
    "    plt.subplot(3, 3, i+1)\n",
    "    sns.violinplot(x=data[object_columns_list[i]], y=data['price'])\n",
    "    plt.xlabel(object_columns_list[i], fontweight=\"bold\")"
   ]
  },
  {
   "cell_type": "markdown",
   "metadata": {},
   "source": [
    "From the above visuals:\n",
    "* The **price** doesn't show more effect on **fueltype, aspiration, doornumber**.\n",
    "* There is high chances that the **enginelocation** at **rear** as **high price** compared to **front**.\n",
    "* The **higher** the number of **cylinders** makes **higher** the **price**."
   ]
  },
  {
   "cell_type": "code",
   "execution_count": 16,
   "metadata": {},
   "outputs": [
    {
     "data": {
      "text/plain": [
       "<Figure size 1080x720 with 0 Axes>"
      ]
     },
     "metadata": {},
     "output_type": "display_data"
    },
    {
     "data": {
      "image/png": "[encoded data removed]",
      "text/plain": [
       "<Figure size 900x180 with 5 Axes>"
      ]
     },
     "metadata": {
      "needs_background": "light"
     },
     "output_type": "display_data"
    },
    {
     "data": {
      "image/png": "[encoded data removed]",
      "text/plain": [
       "<Figure size 900x180 with 5 Axes>"
      ]
     },
     "metadata": {
      "needs_background": "light"
     },
     "output_type": "display_data"
    },
    {
     "data": {
      "image/png": "[encoded data removed]",
      "text/plain": [
       "<Figure size 720x180 with 4 Axes>"
      ]
     },
     "metadata": {
      "needs_background": "light"
     },
     "output_type": "display_data"
    }
   ],
   "source": [
    "#### fitting the regression line between all numeric columns v/s price \n",
    "num_columns_list = data.select_dtypes(exclude='object').columns[1:-1]\n",
    "plt.figure(figsize = (15, 10))\n",
    "for i in range(0,len(num_columns_list),5):\n",
    "    sns.pairplot(data, x_vars=num_columns_list[i:i+5], y_vars='price', kind='reg')"
   ]
  },
  {
   "cell_type": "markdown",
   "metadata": {},
   "source": [
    "From the above visuals:\n",
    "* The higher price cars will have high wheelbase, carlength, carwidth, carheight, curbweight, enginesize, boreratio and horsepower\n",
    "* The high price cars have low mpg in both city and highway\n"
   ]
  },
  {
   "cell_type": "code",
   "execution_count": 17,
   "metadata": {},
   "outputs": [
    {
     "data": {
      "text/plain": [
       "<matplotlib.axes._subplots.AxesSubplot at 0x19696959588>"
      ]
     },
     "execution_count": 17,
     "metadata": {},
     "output_type": "execute_result"
    },
    {
     "data": {
      "image/png": "[encoded data removed]",
      "text/plain": [
       "<Figure size 864x576 with 2 Axes>"
      ]
     },
     "metadata": {
      "needs_background": "light"
     },
     "output_type": "display_data"
    }
   ],
   "source": [
    "#### heatmap to visualize the pearson's correlation matrix between the numeric variables\n",
    "plt.figure(figsize=(12,8))\n",
    "sns.heatmap(data.corr(), annot=True, cmap=\"YlGnBu\", mask=np.triu(data.corr(), k=1))"
   ]
  },
  {
   "cell_type": "markdown",
   "metadata": {},
   "source": [
    "From the above heatmap:\n",
    "* wheelbase has high positive correlation with carlength,carwidth and curbweight\n",
    "* carlength has high postive correlation with curbweight\n",
    "* carlength has negative correlation with highwaympg\n",
    "* carwidth has high postive correlation with curbweight and engine size\n",
    "* enginesize has high positive correlation with horsepower\n",
    "* curbweight has high positive correlation with engine size and horse power, negative correlation with highwaympg\n",
    "* horsepower has negative correlation with citympg and highwaympg\n",
    "* citympg and highwaympg are highly correlated"
   ]
  },
  {
   "cell_type": "code",
   "execution_count": 18,
   "metadata": {},
   "outputs": [
    {
     "data": {
      "text/html": [
       "<style  type=\"text/css\" >\n",
       "#T_b34d1c1c_ead5_11ea_87be_24ee9ae80742row0_col1{\n",
       "            background-color:  #08306b;\n",
       "            color:  #f1f1f1;\n",
       "        }#T_b34d1c1c_ead5_11ea_87be_24ee9ae80742row1_col1{\n",
       "            background-color:  #083877;\n",
       "            color:  #f1f1f1;\n",
       "        }#T_b34d1c1c_ead5_11ea_87be_24ee9ae80742row2_col1{\n",
       "            background-color:  #084d96;\n",
       "            color:  #f1f1f1;\n",
       "        }#T_b34d1c1c_ead5_11ea_87be_24ee9ae80742row3_col1{\n",
       "            background-color:  #2d7dbb;\n",
       "            color:  #000000;\n",
       "        }#T_b34d1c1c_ead5_11ea_87be_24ee9ae80742row4_col1{\n",
       "            background-color:  #8cc0dd;\n",
       "            color:  #000000;\n",
       "        }#T_b34d1c1c_ead5_11ea_87be_24ee9ae80742row5_col1{\n",
       "            background-color:  #8dc1dd;\n",
       "            color:  #000000;\n",
       "        }#T_b34d1c1c_ead5_11ea_87be_24ee9ae80742row6_col1{\n",
       "            background-color:  #a1cbe2;\n",
       "            color:  #000000;\n",
       "        }#T_b34d1c1c_ead5_11ea_87be_24ee9ae80742row7_col1,#T_b34d1c1c_ead5_11ea_87be_24ee9ae80742row8_col1{\n",
       "            background-color:  #add0e6;\n",
       "            color:  #000000;\n",
       "        }#T_b34d1c1c_ead5_11ea_87be_24ee9ae80742row9_col1{\n",
       "            background-color:  #afd1e7;\n",
       "            color:  #000000;\n",
       "        }#T_b34d1c1c_ead5_11ea_87be_24ee9ae80742row10_col1{\n",
       "            background-color:  #d7e6f5;\n",
       "            color:  #000000;\n",
       "        }#T_b34d1c1c_ead5_11ea_87be_24ee9ae80742row11_col1{\n",
       "            background-color:  #d9e7f5;\n",
       "            color:  #000000;\n",
       "        }#T_b34d1c1c_ead5_11ea_87be_24ee9ae80742row12_col1{\n",
       "            background-color:  #dbe9f6;\n",
       "            color:  #000000;\n",
       "        }#T_b34d1c1c_ead5_11ea_87be_24ee9ae80742row13_col1{\n",
       "            background-color:  #dceaf6;\n",
       "            color:  #000000;\n",
       "        }#T_b34d1c1c_ead5_11ea_87be_24ee9ae80742row14_col1{\n",
       "            background-color:  #deebf7;\n",
       "            color:  #000000;\n",
       "        }#T_b34d1c1c_ead5_11ea_87be_24ee9ae80742row15_col1{\n",
       "            background-color:  #e1edf8;\n",
       "            color:  #000000;\n",
       "        }#T_b34d1c1c_ead5_11ea_87be_24ee9ae80742row16_col1{\n",
       "            background-color:  #e3eef8;\n",
       "            color:  #000000;\n",
       "        }#T_b34d1c1c_ead5_11ea_87be_24ee9ae80742row17_col1{\n",
       "            background-color:  #e6f0f9;\n",
       "            color:  #000000;\n",
       "        }#T_b34d1c1c_ead5_11ea_87be_24ee9ae80742row18_col1{\n",
       "            background-color:  #e8f1fa;\n",
       "            color:  #000000;\n",
       "        }#T_b34d1c1c_ead5_11ea_87be_24ee9ae80742row19_col1{\n",
       "            background-color:  #eaf2fb;\n",
       "            color:  #000000;\n",
       "        }#T_b34d1c1c_ead5_11ea_87be_24ee9ae80742row20_col1{\n",
       "            background-color:  #eaf3fb;\n",
       "            color:  #000000;\n",
       "        }#T_b34d1c1c_ead5_11ea_87be_24ee9ae80742row21_col1{\n",
       "            background-color:  #f7fbff;\n",
       "            color:  #000000;\n",
       "        }</style><table id=\"T_b34d1c1c_ead5_11ea_87be_24ee9ae80742\" ><thead>    <tr>        <th class=\"blank level0\" ></th>        <th class=\"col_heading level0 col0\" >car_brand</th>        <th class=\"col_heading level0 col1\" >price</th>    </tr></thead><tbody>\n",
       "                <tr>\n",
       "                        <th id=\"T_b34d1c1c_ead5_11ea_87be_24ee9ae80742level0_row0\" class=\"row_heading level0 row0\" >0</th>\n",
       "                        <td id=\"T_b34d1c1c_ead5_11ea_87be_24ee9ae80742row0_col0\" class=\"data row0 col0\" >jaguar</td>\n",
       "                        <td id=\"T_b34d1c1c_ead5_11ea_87be_24ee9ae80742row0_col1\" class=\"data row0 col1\" >34600.000000</td>\n",
       "            </tr>\n",
       "            <tr>\n",
       "                        <th id=\"T_b34d1c1c_ead5_11ea_87be_24ee9ae80742level0_row1\" class=\"row_heading level0 row1\" >1</th>\n",
       "                        <td id=\"T_b34d1c1c_ead5_11ea_87be_24ee9ae80742row1_col0\" class=\"data row1 col0\" >buick</td>\n",
       "                        <td id=\"T_b34d1c1c_ead5_11ea_87be_24ee9ae80742row1_col1\" class=\"data row1 col1\" >33647.000000</td>\n",
       "            </tr>\n",
       "            <tr>\n",
       "                        <th id=\"T_b34d1c1c_ead5_11ea_87be_24ee9ae80742level0_row2\" class=\"row_heading level0 row2\" >2</th>\n",
       "                        <td id=\"T_b34d1c1c_ead5_11ea_87be_24ee9ae80742row2_col0\" class=\"data row2 col0\" >porsche</td>\n",
       "                        <td id=\"T_b34d1c1c_ead5_11ea_87be_24ee9ae80742row2_col1\" class=\"data row2 col1\" >31400.500000</td>\n",
       "            </tr>\n",
       "            <tr>\n",
       "                        <th id=\"T_b34d1c1c_ead5_11ea_87be_24ee9ae80742level0_row3\" class=\"row_heading level0 row3\" >3</th>\n",
       "                        <td id=\"T_b34d1c1c_ead5_11ea_87be_24ee9ae80742row3_col0\" class=\"data row3 col0\" >bmw</td>\n",
       "                        <td id=\"T_b34d1c1c_ead5_11ea_87be_24ee9ae80742row3_col1\" class=\"data row3 col1\" >26118.750000</td>\n",
       "            </tr>\n",
       "            <tr>\n",
       "                        <th id=\"T_b34d1c1c_ead5_11ea_87be_24ee9ae80742level0_row4\" class=\"row_heading level0 row4\" >4</th>\n",
       "                        <td id=\"T_b34d1c1c_ead5_11ea_87be_24ee9ae80742row4_col0\" class=\"data row4 col0\" >volvo</td>\n",
       "                        <td id=\"T_b34d1c1c_ead5_11ea_87be_24ee9ae80742row4_col1\" class=\"data row4 col1\" >18063.180000</td>\n",
       "            </tr>\n",
       "            <tr>\n",
       "                        <th id=\"T_b34d1c1c_ead5_11ea_87be_24ee9ae80742level0_row5\" class=\"row_heading level0 row5\" >5</th>\n",
       "                        <td id=\"T_b34d1c1c_ead5_11ea_87be_24ee9ae80742row5_col0\" class=\"data row5 col0\" >audi</td>\n",
       "                        <td id=\"T_b34d1c1c_ead5_11ea_87be_24ee9ae80742row5_col1\" class=\"data row5 col1\" >17859.170000</td>\n",
       "            </tr>\n",
       "            <tr>\n",
       "                        <th id=\"T_b34d1c1c_ead5_11ea_87be_24ee9ae80742level0_row6\" class=\"row_heading level0 row6\" >6</th>\n",
       "                        <td id=\"T_b34d1c1c_ead5_11ea_87be_24ee9ae80742row6_col0\" class=\"data row6 col0\" >mercury</td>\n",
       "                        <td id=\"T_b34d1c1c_ead5_11ea_87be_24ee9ae80742row6_col1\" class=\"data row6 col1\" >16503.000000</td>\n",
       "            </tr>\n",
       "            <tr>\n",
       "                        <th id=\"T_b34d1c1c_ead5_11ea_87be_24ee9ae80742level0_row7\" class=\"row_heading level0 row7\" >7</th>\n",
       "                        <td id=\"T_b34d1c1c_ead5_11ea_87be_24ee9ae80742row7_col0\" class=\"data row7 col0\" >alfa-romero</td>\n",
       "                        <td id=\"T_b34d1c1c_ead5_11ea_87be_24ee9ae80742row7_col1\" class=\"data row7 col1\" >15498.330000</td>\n",
       "            </tr>\n",
       "            <tr>\n",
       "                        <th id=\"T_b34d1c1c_ead5_11ea_87be_24ee9ae80742level0_row8\" class=\"row_heading level0 row8\" >8</th>\n",
       "                        <td id=\"T_b34d1c1c_ead5_11ea_87be_24ee9ae80742row8_col0\" class=\"data row8 col0\" >peugeot</td>\n",
       "                        <td id=\"T_b34d1c1c_ead5_11ea_87be_24ee9ae80742row8_col1\" class=\"data row8 col1\" >15489.090000</td>\n",
       "            </tr>\n",
       "            <tr>\n",
       "                        <th id=\"T_b34d1c1c_ead5_11ea_87be_24ee9ae80742level0_row9\" class=\"row_heading level0 row9\" >9</th>\n",
       "                        <td id=\"T_b34d1c1c_ead5_11ea_87be_24ee9ae80742row9_col0\" class=\"data row9 col0\" >saab</td>\n",
       "                        <td id=\"T_b34d1c1c_ead5_11ea_87be_24ee9ae80742row9_col1\" class=\"data row9 col1\" >15223.330000</td>\n",
       "            </tr>\n",
       "            <tr>\n",
       "                        <th id=\"T_b34d1c1c_ead5_11ea_87be_24ee9ae80742level0_row10\" class=\"row_heading level0 row10\" >10</th>\n",
       "                        <td id=\"T_b34d1c1c_ead5_11ea_87be_24ee9ae80742row10_col0\" class=\"data row10 col0\" >mazda</td>\n",
       "                        <td id=\"T_b34d1c1c_ead5_11ea_87be_24ee9ae80742row10_col1\" class=\"data row10 col1\" >10652.880000</td>\n",
       "            </tr>\n",
       "            <tr>\n",
       "                        <th id=\"T_b34d1c1c_ead5_11ea_87be_24ee9ae80742level0_row11\" class=\"row_heading level0 row11\" >11</th>\n",
       "                        <td id=\"T_b34d1c1c_ead5_11ea_87be_24ee9ae80742row11_col0\" class=\"data row11 col0\" >Nissan</td>\n",
       "                        <td id=\"T_b34d1c1c_ead5_11ea_87be_24ee9ae80742row11_col1\" class=\"data row11 col1\" >10415.670000</td>\n",
       "            </tr>\n",
       "            <tr>\n",
       "                        <th id=\"T_b34d1c1c_ead5_11ea_87be_24ee9ae80742level0_row12\" class=\"row_heading level0 row12\" >12</th>\n",
       "                        <td id=\"T_b34d1c1c_ead5_11ea_87be_24ee9ae80742row12_col0\" class=\"data row12 col0\" >volkswagen</td>\n",
       "                        <td id=\"T_b34d1c1c_ead5_11ea_87be_24ee9ae80742row12_col1\" class=\"data row12 col1\" >10077.500000</td>\n",
       "            </tr>\n",
       "            <tr>\n",
       "                        <th id=\"T_b34d1c1c_ead5_11ea_87be_24ee9ae80742level0_row13\" class=\"row_heading level0 row13\" >13</th>\n",
       "                        <td id=\"T_b34d1c1c_ead5_11ea_87be_24ee9ae80742row13_col0\" class=\"data row13 col0\" >toyota</td>\n",
       "                        <td id=\"T_b34d1c1c_ead5_11ea_87be_24ee9ae80742row13_col1\" class=\"data row13 col1\" >9885.810000</td>\n",
       "            </tr>\n",
       "            <tr>\n",
       "                        <th id=\"T_b34d1c1c_ead5_11ea_87be_24ee9ae80742level0_row14\" class=\"row_heading level0 row14\" >14</th>\n",
       "                        <td id=\"T_b34d1c1c_ead5_11ea_87be_24ee9ae80742row14_col0\" class=\"data row14 col0\" >renault</td>\n",
       "                        <td id=\"T_b34d1c1c_ead5_11ea_87be_24ee9ae80742row14_col1\" class=\"data row14 col1\" >9595.000000</td>\n",
       "            </tr>\n",
       "            <tr>\n",
       "                        <th id=\"T_b34d1c1c_ead5_11ea_87be_24ee9ae80742level0_row15\" class=\"row_heading level0 row15\" >15</th>\n",
       "                        <td id=\"T_b34d1c1c_ead5_11ea_87be_24ee9ae80742row15_col0\" class=\"data row15 col0\" >mitsubishi</td>\n",
       "                        <td id=\"T_b34d1c1c_ead5_11ea_87be_24ee9ae80742row15_col1\" class=\"data row15 col1\" >9239.770000</td>\n",
       "            </tr>\n",
       "            <tr>\n",
       "                        <th id=\"T_b34d1c1c_ead5_11ea_87be_24ee9ae80742level0_row16\" class=\"row_heading level0 row16\" >16</th>\n",
       "                        <td id=\"T_b34d1c1c_ead5_11ea_87be_24ee9ae80742row16_col0\" class=\"data row16 col0\" >isuzu</td>\n",
       "                        <td id=\"T_b34d1c1c_ead5_11ea_87be_24ee9ae80742row16_col1\" class=\"data row16 col1\" >8916.500000</td>\n",
       "            </tr>\n",
       "            <tr>\n",
       "                        <th id=\"T_b34d1c1c_ead5_11ea_87be_24ee9ae80742level0_row17\" class=\"row_heading level0 row17\" >17</th>\n",
       "                        <td id=\"T_b34d1c1c_ead5_11ea_87be_24ee9ae80742row17_col0\" class=\"data row17 col0\" >subaru</td>\n",
       "                        <td id=\"T_b34d1c1c_ead5_11ea_87be_24ee9ae80742row17_col1\" class=\"data row17 col1\" >8541.250000</td>\n",
       "            </tr>\n",
       "            <tr>\n",
       "                        <th id=\"T_b34d1c1c_ead5_11ea_87be_24ee9ae80742level0_row18\" class=\"row_heading level0 row18\" >18</th>\n",
       "                        <td id=\"T_b34d1c1c_ead5_11ea_87be_24ee9ae80742row18_col0\" class=\"data row18 col0\" >honda</td>\n",
       "                        <td id=\"T_b34d1c1c_ead5_11ea_87be_24ee9ae80742row18_col1\" class=\"data row18 col1\" >8184.690000</td>\n",
       "            </tr>\n",
       "            <tr>\n",
       "                        <th id=\"T_b34d1c1c_ead5_11ea_87be_24ee9ae80742level0_row19\" class=\"row_heading level0 row19\" >19</th>\n",
       "                        <td id=\"T_b34d1c1c_ead5_11ea_87be_24ee9ae80742row19_col0\" class=\"data row19 col0\" >plymouth</td>\n",
       "                        <td id=\"T_b34d1c1c_ead5_11ea_87be_24ee9ae80742row19_col1\" class=\"data row19 col1\" >7963.430000</td>\n",
       "            </tr>\n",
       "            <tr>\n",
       "                        <th id=\"T_b34d1c1c_ead5_11ea_87be_24ee9ae80742level0_row20\" class=\"row_heading level0 row20\" >20</th>\n",
       "                        <td id=\"T_b34d1c1c_ead5_11ea_87be_24ee9ae80742row20_col0\" class=\"data row20 col0\" >dodge</td>\n",
       "                        <td id=\"T_b34d1c1c_ead5_11ea_87be_24ee9ae80742row20_col1\" class=\"data row20 col1\" >7875.440000</td>\n",
       "            </tr>\n",
       "            <tr>\n",
       "                        <th id=\"T_b34d1c1c_ead5_11ea_87be_24ee9ae80742level0_row21\" class=\"row_heading level0 row21\" >21</th>\n",
       "                        <td id=\"T_b34d1c1c_ead5_11ea_87be_24ee9ae80742row21_col0\" class=\"data row21 col0\" >chevrolet</td>\n",
       "                        <td id=\"T_b34d1c1c_ead5_11ea_87be_24ee9ae80742row21_col1\" class=\"data row21 col1\" >6007.000000</td>\n",
       "            </tr>\n",
       "    </tbody></table>"
      ],
      "text/plain": [
       "<pandas.io.formats.style.Styler at 0x196964c0c88>"
      ]
     },
     "execution_count": 18,
     "metadata": {},
     "output_type": "execute_result"
    }
   ],
   "source": [
    "#### average price for each brand car\n",
    "(data.groupby('car_brand')['price'].mean()\n",
    "    .sort_values(ascending=False).reset_index().round(2) \n",
    "    .style.background_gradient(cmap='Blues'))"
   ]
  },
  {
   "cell_type": "markdown",
   "metadata": {},
   "source": [
    "From the above dataFrame:\n",
    "* **jaguar** make is having **highest average** price.\n",
    "* **chevrolet** make is having **least average** price."
   ]
  },
  {
   "cell_type": "code",
   "execution_count": 19,
   "metadata": {},
   "outputs": [],
   "source": [
    "#### Based on above visuals Dropping Few columns\n",
    "data.drop(['car_ID', 'CarName', 'highwaympg', 'fuelsystem', 'aspiration', 'doornumber'], axis=1, inplace=True)"
   ]
  },
  {
   "cell_type": "code",
   "execution_count": 20,
   "metadata": {},
   "outputs": [],
   "source": [
    "#### converting 'cylindernumber' column to numeric\n",
    "data['cylindernumber'].replace({\"two\": 2,\n",
    "                                \"three\":3,\n",
    "                                \"four\": 4,\n",
    "                                \"five\": 5,\n",
    "                                \"six\": 6,  \n",
    "                                \"eight\": 8,\n",
    "                                \"twelve\": 12\n",
    "                               }, inplace=True)"
   ]
  },
  {
   "cell_type": "code",
   "execution_count": 21,
   "metadata": {},
   "outputs": [
    {
     "data": {
      "text/html": [
       "<div>\n",
       "<style scoped>\n",
       "    .dataframe tbody tr th:only-of-type {\n",
       "        vertical-align: middle;\n",
       "    }\n",
       "\n",
       "    .dataframe tbody tr th {\n",
       "        vertical-align: top;\n",
       "    }\n",
       "\n",
       "    .dataframe thead th {\n",
       "        text-align: right;\n",
       "    }\n",
       "</style>\n",
       "<table border=\"1\" class=\"dataframe\">\n",
       "  <thead>\n",
       "    <tr style=\"text-align: right;\">\n",
       "      <th></th>\n",
       "      <th>symboling</th>\n",
       "      <th>fueltype_1</th>\n",
       "      <th>fueltype_2</th>\n",
       "      <th>carbody_1</th>\n",
       "      <th>carbody_2</th>\n",
       "      <th>carbody_3</th>\n",
       "      <th>carbody_4</th>\n",
       "      <th>carbody_5</th>\n",
       "      <th>drivewheel_1</th>\n",
       "      <th>drivewheel_2</th>\n",
       "      <th>drivewheel_3</th>\n",
       "      <th>enginelocation_1</th>\n",
       "      <th>enginelocation_2</th>\n",
       "      <th>wheelbase</th>\n",
       "      <th>carlength</th>\n",
       "      <th>carwidth</th>\n",
       "      <th>carheight</th>\n",
       "      <th>curbweight</th>\n",
       "      <th>enginetype_1</th>\n",
       "      <th>enginetype_2</th>\n",
       "      <th>enginetype_3</th>\n",
       "      <th>enginetype_4</th>\n",
       "      <th>enginetype_5</th>\n",
       "      <th>enginetype_6</th>\n",
       "      <th>enginetype_7</th>\n",
       "      <th>cylindernumber</th>\n",
       "      <th>enginesize</th>\n",
       "      <th>boreratio</th>\n",
       "      <th>stroke</th>\n",
       "      <th>compressionratio</th>\n",
       "      <th>horsepower</th>\n",
       "      <th>peakrpm</th>\n",
       "      <th>citympg</th>\n",
       "      <th>price</th>\n",
       "      <th>car_brand_1</th>\n",
       "      <th>car_brand_2</th>\n",
       "      <th>car_brand_3</th>\n",
       "      <th>car_brand_4</th>\n",
       "      <th>car_brand_5</th>\n",
       "      <th>car_brand_6</th>\n",
       "      <th>car_brand_7</th>\n",
       "      <th>car_brand_8</th>\n",
       "      <th>car_brand_9</th>\n",
       "      <th>car_brand_10</th>\n",
       "      <th>car_brand_11</th>\n",
       "      <th>car_brand_12</th>\n",
       "      <th>car_brand_13</th>\n",
       "      <th>car_brand_14</th>\n",
       "      <th>car_brand_15</th>\n",
       "      <th>car_brand_16</th>\n",
       "      <th>car_brand_17</th>\n",
       "      <th>car_brand_18</th>\n",
       "      <th>car_brand_19</th>\n",
       "      <th>car_brand_20</th>\n",
       "      <th>car_brand_21</th>\n",
       "      <th>car_brand_22</th>\n",
       "    </tr>\n",
       "  </thead>\n",
       "  <tbody>\n",
       "    <tr>\n",
       "      <th>0</th>\n",
       "      <td>3</td>\n",
       "      <td>1</td>\n",
       "      <td>0</td>\n",
       "      <td>1</td>\n",
       "      <td>0</td>\n",
       "      <td>0</td>\n",
       "      <td>0</td>\n",
       "      <td>0</td>\n",
       "      <td>1</td>\n",
       "      <td>0</td>\n",
       "      <td>0</td>\n",
       "      <td>1</td>\n",
       "      <td>0</td>\n",
       "      <td>88.6</td>\n",
       "      <td>168.8</td>\n",
       "      <td>64.1</td>\n",
       "      <td>48.8</td>\n",
       "      <td>2548</td>\n",
       "      <td>1</td>\n",
       "      <td>0</td>\n",
       "      <td>0</td>\n",
       "      <td>0</td>\n",
       "      <td>0</td>\n",
       "      <td>0</td>\n",
       "      <td>0</td>\n",
       "      <td>4</td>\n",
       "      <td>130</td>\n",
       "      <td>3.47</td>\n",
       "      <td>2.68</td>\n",
       "      <td>9.0</td>\n",
       "      <td>111</td>\n",
       "      <td>5000</td>\n",
       "      <td>21</td>\n",
       "      <td>13495.0</td>\n",
       "      <td>1</td>\n",
       "      <td>0</td>\n",
       "      <td>0</td>\n",
       "      <td>0</td>\n",
       "      <td>0</td>\n",
       "      <td>0</td>\n",
       "      <td>0</td>\n",
       "      <td>0</td>\n",
       "      <td>0</td>\n",
       "      <td>0</td>\n",
       "      <td>0</td>\n",
       "      <td>0</td>\n",
       "      <td>0</td>\n",
       "      <td>0</td>\n",
       "      <td>0</td>\n",
       "      <td>0</td>\n",
       "      <td>0</td>\n",
       "      <td>0</td>\n",
       "      <td>0</td>\n",
       "      <td>0</td>\n",
       "      <td>0</td>\n",
       "      <td>0</td>\n",
       "    </tr>\n",
       "    <tr>\n",
       "      <th>1</th>\n",
       "      <td>3</td>\n",
       "      <td>1</td>\n",
       "      <td>0</td>\n",
       "      <td>1</td>\n",
       "      <td>0</td>\n",
       "      <td>0</td>\n",
       "      <td>0</td>\n",
       "      <td>0</td>\n",
       "      <td>1</td>\n",
       "      <td>0</td>\n",
       "      <td>0</td>\n",
       "      <td>1</td>\n",
       "      <td>0</td>\n",
       "      <td>88.6</td>\n",
       "      <td>168.8</td>\n",
       "      <td>64.1</td>\n",
       "      <td>48.8</td>\n",
       "      <td>2548</td>\n",
       "      <td>1</td>\n",
       "      <td>0</td>\n",
       "      <td>0</td>\n",
       "      <td>0</td>\n",
       "      <td>0</td>\n",
       "      <td>0</td>\n",
       "      <td>0</td>\n",
       "      <td>4</td>\n",
       "      <td>130</td>\n",
       "      <td>3.47</td>\n",
       "      <td>2.68</td>\n",
       "      <td>9.0</td>\n",
       "      <td>111</td>\n",
       "      <td>5000</td>\n",
       "      <td>21</td>\n",
       "      <td>16500.0</td>\n",
       "      <td>1</td>\n",
       "      <td>0</td>\n",
       "      <td>0</td>\n",
       "      <td>0</td>\n",
       "      <td>0</td>\n",
       "      <td>0</td>\n",
       "      <td>0</td>\n",
       "      <td>0</td>\n",
       "      <td>0</td>\n",
       "      <td>0</td>\n",
       "      <td>0</td>\n",
       "      <td>0</td>\n",
       "      <td>0</td>\n",
       "      <td>0</td>\n",
       "      <td>0</td>\n",
       "      <td>0</td>\n",
       "      <td>0</td>\n",
       "      <td>0</td>\n",
       "      <td>0</td>\n",
       "      <td>0</td>\n",
       "      <td>0</td>\n",
       "      <td>0</td>\n",
       "    </tr>\n",
       "    <tr>\n",
       "      <th>2</th>\n",
       "      <td>1</td>\n",
       "      <td>1</td>\n",
       "      <td>0</td>\n",
       "      <td>0</td>\n",
       "      <td>1</td>\n",
       "      <td>0</td>\n",
       "      <td>0</td>\n",
       "      <td>0</td>\n",
       "      <td>1</td>\n",
       "      <td>0</td>\n",
       "      <td>0</td>\n",
       "      <td>1</td>\n",
       "      <td>0</td>\n",
       "      <td>94.5</td>\n",
       "      <td>171.2</td>\n",
       "      <td>65.5</td>\n",
       "      <td>52.4</td>\n",
       "      <td>2823</td>\n",
       "      <td>0</td>\n",
       "      <td>1</td>\n",
       "      <td>0</td>\n",
       "      <td>0</td>\n",
       "      <td>0</td>\n",
       "      <td>0</td>\n",
       "      <td>0</td>\n",
       "      <td>6</td>\n",
       "      <td>152</td>\n",
       "      <td>2.68</td>\n",
       "      <td>3.47</td>\n",
       "      <td>9.0</td>\n",
       "      <td>154</td>\n",
       "      <td>5000</td>\n",
       "      <td>19</td>\n",
       "      <td>16500.0</td>\n",
       "      <td>1</td>\n",
       "      <td>0</td>\n",
       "      <td>0</td>\n",
       "      <td>0</td>\n",
       "      <td>0</td>\n",
       "      <td>0</td>\n",
       "      <td>0</td>\n",
       "      <td>0</td>\n",
       "      <td>0</td>\n",
       "      <td>0</td>\n",
       "      <td>0</td>\n",
       "      <td>0</td>\n",
       "      <td>0</td>\n",
       "      <td>0</td>\n",
       "      <td>0</td>\n",
       "      <td>0</td>\n",
       "      <td>0</td>\n",
       "      <td>0</td>\n",
       "      <td>0</td>\n",
       "      <td>0</td>\n",
       "      <td>0</td>\n",
       "      <td>0</td>\n",
       "    </tr>\n",
       "    <tr>\n",
       "      <th>3</th>\n",
       "      <td>2</td>\n",
       "      <td>1</td>\n",
       "      <td>0</td>\n",
       "      <td>0</td>\n",
       "      <td>0</td>\n",
       "      <td>1</td>\n",
       "      <td>0</td>\n",
       "      <td>0</td>\n",
       "      <td>0</td>\n",
       "      <td>1</td>\n",
       "      <td>0</td>\n",
       "      <td>1</td>\n",
       "      <td>0</td>\n",
       "      <td>99.8</td>\n",
       "      <td>176.6</td>\n",
       "      <td>66.2</td>\n",
       "      <td>54.3</td>\n",
       "      <td>2337</td>\n",
       "      <td>0</td>\n",
       "      <td>0</td>\n",
       "      <td>1</td>\n",
       "      <td>0</td>\n",
       "      <td>0</td>\n",
       "      <td>0</td>\n",
       "      <td>0</td>\n",
       "      <td>4</td>\n",
       "      <td>109</td>\n",
       "      <td>3.19</td>\n",
       "      <td>3.40</td>\n",
       "      <td>10.0</td>\n",
       "      <td>102</td>\n",
       "      <td>5500</td>\n",
       "      <td>24</td>\n",
       "      <td>13950.0</td>\n",
       "      <td>0</td>\n",
       "      <td>1</td>\n",
       "      <td>0</td>\n",
       "      <td>0</td>\n",
       "      <td>0</td>\n",
       "      <td>0</td>\n",
       "      <td>0</td>\n",
       "      <td>0</td>\n",
       "      <td>0</td>\n",
       "      <td>0</td>\n",
       "      <td>0</td>\n",
       "      <td>0</td>\n",
       "      <td>0</td>\n",
       "      <td>0</td>\n",
       "      <td>0</td>\n",
       "      <td>0</td>\n",
       "      <td>0</td>\n",
       "      <td>0</td>\n",
       "      <td>0</td>\n",
       "      <td>0</td>\n",
       "      <td>0</td>\n",
       "      <td>0</td>\n",
       "    </tr>\n",
       "    <tr>\n",
       "      <th>4</th>\n",
       "      <td>2</td>\n",
       "      <td>1</td>\n",
       "      <td>0</td>\n",
       "      <td>0</td>\n",
       "      <td>0</td>\n",
       "      <td>1</td>\n",
       "      <td>0</td>\n",
       "      <td>0</td>\n",
       "      <td>0</td>\n",
       "      <td>0</td>\n",
       "      <td>1</td>\n",
       "      <td>1</td>\n",
       "      <td>0</td>\n",
       "      <td>99.4</td>\n",
       "      <td>176.6</td>\n",
       "      <td>66.4</td>\n",
       "      <td>54.3</td>\n",
       "      <td>2824</td>\n",
       "      <td>0</td>\n",
       "      <td>0</td>\n",
       "      <td>1</td>\n",
       "      <td>0</td>\n",
       "      <td>0</td>\n",
       "      <td>0</td>\n",
       "      <td>0</td>\n",
       "      <td>5</td>\n",
       "      <td>136</td>\n",
       "      <td>3.19</td>\n",
       "      <td>3.40</td>\n",
       "      <td>8.0</td>\n",
       "      <td>115</td>\n",
       "      <td>5500</td>\n",
       "      <td>18</td>\n",
       "      <td>17450.0</td>\n",
       "      <td>0</td>\n",
       "      <td>1</td>\n",
       "      <td>0</td>\n",
       "      <td>0</td>\n",
       "      <td>0</td>\n",
       "      <td>0</td>\n",
       "      <td>0</td>\n",
       "      <td>0</td>\n",
       "      <td>0</td>\n",
       "      <td>0</td>\n",
       "      <td>0</td>\n",
       "      <td>0</td>\n",
       "      <td>0</td>\n",
       "      <td>0</td>\n",
       "      <td>0</td>\n",
       "      <td>0</td>\n",
       "      <td>0</td>\n",
       "      <td>0</td>\n",
       "      <td>0</td>\n",
       "      <td>0</td>\n",
       "      <td>0</td>\n",
       "      <td>0</td>\n",
       "    </tr>\n",
       "  </tbody>\n",
       "</table>\n",
       "</div>"
      ],
      "text/plain": [
       "   symboling  fueltype_1  fueltype_2  carbody_1  carbody_2  carbody_3  \\\n",
       "0          3           1           0          1          0          0   \n",
       "1          3           1           0          1          0          0   \n",
       "2          1           1           0          0          1          0   \n",
       "3          2           1           0          0          0          1   \n",
       "4          2           1           0          0          0          1   \n",
       "\n",
       "   carbody_4  carbody_5  drivewheel_1  drivewheel_2  drivewheel_3  \\\n",
       "0          0          0             1             0             0   \n",
       "1          0          0             1             0             0   \n",
       "2          0          0             1             0             0   \n",
       "3          0          0             0             1             0   \n",
       "4          0          0             0             0             1   \n",
       "\n",
       "   enginelocation_1  enginelocation_2  wheelbase  carlength  carwidth  \\\n",
       "0                 1                 0       88.6      168.8      64.1   \n",
       "1                 1                 0       88.6      168.8      64.1   \n",
       "2                 1                 0       94.5      171.2      65.5   \n",
       "3                 1                 0       99.8      176.6      66.2   \n",
       "4                 1                 0       99.4      176.6      66.4   \n",
       "\n",
       "   carheight  curbweight  enginetype_1  enginetype_2  enginetype_3  \\\n",
       "0       48.8        2548             1             0             0   \n",
       "1       48.8        2548             1             0             0   \n",
       "2       52.4        2823             0             1             0   \n",
       "3       54.3        2337             0             0             1   \n",
       "4       54.3        2824             0             0             1   \n",
       "\n",
       "   enginetype_4  enginetype_5  enginetype_6  enginetype_7  cylindernumber  \\\n",
       "0             0             0             0             0               4   \n",
       "1             0             0             0             0               4   \n",
       "2             0             0             0             0               6   \n",
       "3             0             0             0             0               4   \n",
       "4             0             0             0             0               5   \n",
       "\n",
       "   enginesize  boreratio  stroke  compressionratio  horsepower  peakrpm  \\\n",
       "0         130       3.47    2.68               9.0         111     5000   \n",
       "1         130       3.47    2.68               9.0         111     5000   \n",
       "2         152       2.68    3.47               9.0         154     5000   \n",
       "3         109       3.19    3.40              10.0         102     5500   \n",
       "4         136       3.19    3.40               8.0         115     5500   \n",
       "\n",
       "   citympg    price  car_brand_1  car_brand_2  car_brand_3  car_brand_4  \\\n",
       "0       21  13495.0            1            0            0            0   \n",
       "1       21  16500.0            1            0            0            0   \n",
       "2       19  16500.0            1            0            0            0   \n",
       "3       24  13950.0            0            1            0            0   \n",
       "4       18  17450.0            0            1            0            0   \n",
       "\n",
       "   car_brand_5  car_brand_6  car_brand_7  car_brand_8  car_brand_9  \\\n",
       "0            0            0            0            0            0   \n",
       "1            0            0            0            0            0   \n",
       "2            0            0            0            0            0   \n",
       "3            0            0            0            0            0   \n",
       "4            0            0            0            0            0   \n",
       "\n",
       "   car_brand_10  car_brand_11  car_brand_12  car_brand_13  car_brand_14  \\\n",
       "0             0             0             0             0             0   \n",
       "1             0             0             0             0             0   \n",
       "2             0             0             0             0             0   \n",
       "3             0             0             0             0             0   \n",
       "4             0             0             0             0             0   \n",
       "\n",
       "   car_brand_15  car_brand_16  car_brand_17  car_brand_18  car_brand_19  \\\n",
       "0             0             0             0             0             0   \n",
       "1             0             0             0             0             0   \n",
       "2             0             0             0             0             0   \n",
       "3             0             0             0             0             0   \n",
       "4             0             0             0             0             0   \n",
       "\n",
       "   car_brand_20  car_brand_21  car_brand_22  \n",
       "0             0             0             0  \n",
       "1             0             0             0  \n",
       "2             0             0             0  \n",
       "3             0             0             0  \n",
       "4             0             0             0  "
      ]
     },
     "execution_count": 21,
     "metadata": {},
     "output_type": "execute_result"
    }
   ],
   "source": [
    "# Define the columns to perform one hot encoding\n",
    "cols_to_ohe=data.select_dtypes(include='object').columns\n",
    "\n",
    "# perform one hot encoding on the following columns\n",
    "import category_encoders as ce\n",
    "\n",
    "ce_ohe=ce.OneHotEncoder(cols=cols_to_ohe)\n",
    "data=ce_ohe.fit_transform(data)\n",
    "\n",
    "data.head()"
   ]
  },
  {
   "cell_type": "code",
   "execution_count": 22,
   "metadata": {},
   "outputs": [],
   "source": [
    "#### Creating dependent and independent variables\n",
    "# independent variables\n",
    "x = data.drop(columns=\"price\")\n",
    "\n",
    "# dependent variable\n",
    "y = data[\"price\"]"
   ]
  },
  {
   "cell_type": "code",
   "execution_count": 23,
   "metadata": {},
   "outputs": [
    {
     "data": {
      "text/html": [
       "<div>\n",
       "<style scoped>\n",
       "    .dataframe tbody tr th:only-of-type {\n",
       "        vertical-align: middle;\n",
       "    }\n",
       "\n",
       "    .dataframe tbody tr th {\n",
       "        vertical-align: top;\n",
       "    }\n",
       "\n",
       "    .dataframe thead th {\n",
       "        text-align: right;\n",
       "    }\n",
       "</style>\n",
       "<table border=\"1\" class=\"dataframe\">\n",
       "  <thead>\n",
       "    <tr style=\"text-align: right;\">\n",
       "      <th></th>\n",
       "      <th>symboling</th>\n",
       "      <th>fueltype_1</th>\n",
       "      <th>fueltype_2</th>\n",
       "      <th>carbody_1</th>\n",
       "      <th>carbody_2</th>\n",
       "      <th>carbody_3</th>\n",
       "      <th>carbody_4</th>\n",
       "      <th>carbody_5</th>\n",
       "      <th>drivewheel_1</th>\n",
       "      <th>drivewheel_2</th>\n",
       "      <th>drivewheel_3</th>\n",
       "      <th>enginelocation_1</th>\n",
       "      <th>enginelocation_2</th>\n",
       "      <th>wheelbase</th>\n",
       "      <th>carlength</th>\n",
       "      <th>carwidth</th>\n",
       "      <th>carheight</th>\n",
       "      <th>curbweight</th>\n",
       "      <th>enginetype_1</th>\n",
       "      <th>enginetype_2</th>\n",
       "      <th>enginetype_3</th>\n",
       "      <th>enginetype_4</th>\n",
       "      <th>enginetype_5</th>\n",
       "      <th>enginetype_6</th>\n",
       "      <th>enginetype_7</th>\n",
       "      <th>cylindernumber</th>\n",
       "      <th>enginesize</th>\n",
       "      <th>boreratio</th>\n",
       "      <th>stroke</th>\n",
       "      <th>compressionratio</th>\n",
       "      <th>horsepower</th>\n",
       "      <th>peakrpm</th>\n",
       "      <th>citympg</th>\n",
       "      <th>car_brand_1</th>\n",
       "      <th>car_brand_2</th>\n",
       "      <th>car_brand_3</th>\n",
       "      <th>car_brand_4</th>\n",
       "      <th>car_brand_5</th>\n",
       "      <th>car_brand_6</th>\n",
       "      <th>car_brand_7</th>\n",
       "      <th>car_brand_8</th>\n",
       "      <th>car_brand_9</th>\n",
       "      <th>car_brand_10</th>\n",
       "      <th>car_brand_11</th>\n",
       "      <th>car_brand_12</th>\n",
       "      <th>car_brand_13</th>\n",
       "      <th>car_brand_14</th>\n",
       "      <th>car_brand_15</th>\n",
       "      <th>car_brand_16</th>\n",
       "      <th>car_brand_17</th>\n",
       "      <th>car_brand_18</th>\n",
       "      <th>car_brand_19</th>\n",
       "      <th>car_brand_20</th>\n",
       "      <th>car_brand_21</th>\n",
       "      <th>car_brand_22</th>\n",
       "    </tr>\n",
       "  </thead>\n",
       "  <tbody>\n",
       "    <tr>\n",
       "      <th>0</th>\n",
       "      <td>3</td>\n",
       "      <td>1</td>\n",
       "      <td>0</td>\n",
       "      <td>1</td>\n",
       "      <td>0</td>\n",
       "      <td>0</td>\n",
       "      <td>0</td>\n",
       "      <td>0</td>\n",
       "      <td>1</td>\n",
       "      <td>0</td>\n",
       "      <td>0</td>\n",
       "      <td>1</td>\n",
       "      <td>0</td>\n",
       "      <td>-1.690772</td>\n",
       "      <td>-0.426521</td>\n",
       "      <td>-0.844782</td>\n",
       "      <td>-2.020417</td>\n",
       "      <td>-0.014566</td>\n",
       "      <td>1</td>\n",
       "      <td>0</td>\n",
       "      <td>0</td>\n",
       "      <td>0</td>\n",
       "      <td>0</td>\n",
       "      <td>0</td>\n",
       "      <td>0</td>\n",
       "      <td>4</td>\n",
       "      <td>0.074449</td>\n",
       "      <td>0.519071</td>\n",
       "      <td>-1.839377</td>\n",
       "      <td>-0.288349</td>\n",
       "      <td>0.174483</td>\n",
       "      <td>-0.262960</td>\n",
       "      <td>-0.646553</td>\n",
       "      <td>1</td>\n",
       "      <td>0</td>\n",
       "      <td>0</td>\n",
       "      <td>0</td>\n",
       "      <td>0</td>\n",
       "      <td>0</td>\n",
       "      <td>0</td>\n",
       "      <td>0</td>\n",
       "      <td>0</td>\n",
       "      <td>0</td>\n",
       "      <td>0</td>\n",
       "      <td>0</td>\n",
       "      <td>0</td>\n",
       "      <td>0</td>\n",
       "      <td>0</td>\n",
       "      <td>0</td>\n",
       "      <td>0</td>\n",
       "      <td>0</td>\n",
       "      <td>0</td>\n",
       "      <td>0</td>\n",
       "      <td>0</td>\n",
       "      <td>0</td>\n",
       "    </tr>\n",
       "    <tr>\n",
       "      <th>1</th>\n",
       "      <td>3</td>\n",
       "      <td>1</td>\n",
       "      <td>0</td>\n",
       "      <td>1</td>\n",
       "      <td>0</td>\n",
       "      <td>0</td>\n",
       "      <td>0</td>\n",
       "      <td>0</td>\n",
       "      <td>1</td>\n",
       "      <td>0</td>\n",
       "      <td>0</td>\n",
       "      <td>1</td>\n",
       "      <td>0</td>\n",
       "      <td>-1.690772</td>\n",
       "      <td>-0.426521</td>\n",
       "      <td>-0.844782</td>\n",
       "      <td>-2.020417</td>\n",
       "      <td>-0.014566</td>\n",
       "      <td>1</td>\n",
       "      <td>0</td>\n",
       "      <td>0</td>\n",
       "      <td>0</td>\n",
       "      <td>0</td>\n",
       "      <td>0</td>\n",
       "      <td>0</td>\n",
       "      <td>4</td>\n",
       "      <td>0.074449</td>\n",
       "      <td>0.519071</td>\n",
       "      <td>-1.839377</td>\n",
       "      <td>-0.288349</td>\n",
       "      <td>0.174483</td>\n",
       "      <td>-0.262960</td>\n",
       "      <td>-0.646553</td>\n",
       "      <td>1</td>\n",
       "      <td>0</td>\n",
       "      <td>0</td>\n",
       "      <td>0</td>\n",
       "      <td>0</td>\n",
       "      <td>0</td>\n",
       "      <td>0</td>\n",
       "      <td>0</td>\n",
       "      <td>0</td>\n",
       "      <td>0</td>\n",
       "      <td>0</td>\n",
       "      <td>0</td>\n",
       "      <td>0</td>\n",
       "      <td>0</td>\n",
       "      <td>0</td>\n",
       "      <td>0</td>\n",
       "      <td>0</td>\n",
       "      <td>0</td>\n",
       "      <td>0</td>\n",
       "      <td>0</td>\n",
       "      <td>0</td>\n",
       "      <td>0</td>\n",
       "    </tr>\n",
       "    <tr>\n",
       "      <th>2</th>\n",
       "      <td>1</td>\n",
       "      <td>1</td>\n",
       "      <td>0</td>\n",
       "      <td>0</td>\n",
       "      <td>1</td>\n",
       "      <td>0</td>\n",
       "      <td>0</td>\n",
       "      <td>0</td>\n",
       "      <td>1</td>\n",
       "      <td>0</td>\n",
       "      <td>0</td>\n",
       "      <td>1</td>\n",
       "      <td>0</td>\n",
       "      <td>-0.708596</td>\n",
       "      <td>-0.231513</td>\n",
       "      <td>-0.190566</td>\n",
       "      <td>-0.543527</td>\n",
       "      <td>0.514882</td>\n",
       "      <td>0</td>\n",
       "      <td>1</td>\n",
       "      <td>0</td>\n",
       "      <td>0</td>\n",
       "      <td>0</td>\n",
       "      <td>0</td>\n",
       "      <td>0</td>\n",
       "      <td>6</td>\n",
       "      <td>0.604046</td>\n",
       "      <td>-2.404880</td>\n",
       "      <td>0.685946</td>\n",
       "      <td>-0.288349</td>\n",
       "      <td>1.264536</td>\n",
       "      <td>-0.262960</td>\n",
       "      <td>-0.953012</td>\n",
       "      <td>1</td>\n",
       "      <td>0</td>\n",
       "      <td>0</td>\n",
       "      <td>0</td>\n",
       "      <td>0</td>\n",
       "      <td>0</td>\n",
       "      <td>0</td>\n",
       "      <td>0</td>\n",
       "      <td>0</td>\n",
       "      <td>0</td>\n",
       "      <td>0</td>\n",
       "      <td>0</td>\n",
       "      <td>0</td>\n",
       "      <td>0</td>\n",
       "      <td>0</td>\n",
       "      <td>0</td>\n",
       "      <td>0</td>\n",
       "      <td>0</td>\n",
       "      <td>0</td>\n",
       "      <td>0</td>\n",
       "      <td>0</td>\n",
       "      <td>0</td>\n",
       "    </tr>\n",
       "    <tr>\n",
       "      <th>3</th>\n",
       "      <td>2</td>\n",
       "      <td>1</td>\n",
       "      <td>0</td>\n",
       "      <td>0</td>\n",
       "      <td>0</td>\n",
       "      <td>1</td>\n",
       "      <td>0</td>\n",
       "      <td>0</td>\n",
       "      <td>0</td>\n",
       "      <td>1</td>\n",
       "      <td>0</td>\n",
       "      <td>1</td>\n",
       "      <td>0</td>\n",
       "      <td>0.173698</td>\n",
       "      <td>0.207256</td>\n",
       "      <td>0.136542</td>\n",
       "      <td>0.235942</td>\n",
       "      <td>-0.420797</td>\n",
       "      <td>0</td>\n",
       "      <td>0</td>\n",
       "      <td>1</td>\n",
       "      <td>0</td>\n",
       "      <td>0</td>\n",
       "      <td>0</td>\n",
       "      <td>0</td>\n",
       "      <td>4</td>\n",
       "      <td>-0.431076</td>\n",
       "      <td>-0.517266</td>\n",
       "      <td>0.462183</td>\n",
       "      <td>-0.035973</td>\n",
       "      <td>-0.053668</td>\n",
       "      <td>0.787855</td>\n",
       "      <td>-0.186865</td>\n",
       "      <td>0</td>\n",
       "      <td>1</td>\n",
       "      <td>0</td>\n",
       "      <td>0</td>\n",
       "      <td>0</td>\n",
       "      <td>0</td>\n",
       "      <td>0</td>\n",
       "      <td>0</td>\n",
       "      <td>0</td>\n",
       "      <td>0</td>\n",
       "      <td>0</td>\n",
       "      <td>0</td>\n",
       "      <td>0</td>\n",
       "      <td>0</td>\n",
       "      <td>0</td>\n",
       "      <td>0</td>\n",
       "      <td>0</td>\n",
       "      <td>0</td>\n",
       "      <td>0</td>\n",
       "      <td>0</td>\n",
       "      <td>0</td>\n",
       "      <td>0</td>\n",
       "    </tr>\n",
       "    <tr>\n",
       "      <th>4</th>\n",
       "      <td>2</td>\n",
       "      <td>1</td>\n",
       "      <td>0</td>\n",
       "      <td>0</td>\n",
       "      <td>0</td>\n",
       "      <td>1</td>\n",
       "      <td>0</td>\n",
       "      <td>0</td>\n",
       "      <td>0</td>\n",
       "      <td>0</td>\n",
       "      <td>1</td>\n",
       "      <td>1</td>\n",
       "      <td>0</td>\n",
       "      <td>0.107110</td>\n",
       "      <td>0.207256</td>\n",
       "      <td>0.230001</td>\n",
       "      <td>0.235942</td>\n",
       "      <td>0.516807</td>\n",
       "      <td>0</td>\n",
       "      <td>0</td>\n",
       "      <td>1</td>\n",
       "      <td>0</td>\n",
       "      <td>0</td>\n",
       "      <td>0</td>\n",
       "      <td>0</td>\n",
       "      <td>5</td>\n",
       "      <td>0.218885</td>\n",
       "      <td>-0.517266</td>\n",
       "      <td>0.462183</td>\n",
       "      <td>-0.540725</td>\n",
       "      <td>0.275883</td>\n",
       "      <td>0.787855</td>\n",
       "      <td>-1.106241</td>\n",
       "      <td>0</td>\n",
       "      <td>1</td>\n",
       "      <td>0</td>\n",
       "      <td>0</td>\n",
       "      <td>0</td>\n",
       "      <td>0</td>\n",
       "      <td>0</td>\n",
       "      <td>0</td>\n",
       "      <td>0</td>\n",
       "      <td>0</td>\n",
       "      <td>0</td>\n",
       "      <td>0</td>\n",
       "      <td>0</td>\n",
       "      <td>0</td>\n",
       "      <td>0</td>\n",
       "      <td>0</td>\n",
       "      <td>0</td>\n",
       "      <td>0</td>\n",
       "      <td>0</td>\n",
       "      <td>0</td>\n",
       "      <td>0</td>\n",
       "      <td>0</td>\n",
       "    </tr>\n",
       "  </tbody>\n",
       "</table>\n",
       "</div>"
      ],
      "text/plain": [
       "   symboling  fueltype_1  fueltype_2  carbody_1  carbody_2  carbody_3  \\\n",
       "0          3           1           0          1          0          0   \n",
       "1          3           1           0          1          0          0   \n",
       "2          1           1           0          0          1          0   \n",
       "3          2           1           0          0          0          1   \n",
       "4          2           1           0          0          0          1   \n",
       "\n",
       "   carbody_4  carbody_5  drivewheel_1  drivewheel_2  drivewheel_3  \\\n",
       "0          0          0             1             0             0   \n",
       "1          0          0             1             0             0   \n",
       "2          0          0             1             0             0   \n",
       "3          0          0             0             1             0   \n",
       "4          0          0             0             0             1   \n",
       "\n",
       "   enginelocation_1  enginelocation_2  wheelbase  carlength  carwidth  \\\n",
       "0                 1                 0  -1.690772  -0.426521 -0.844782   \n",
       "1                 1                 0  -1.690772  -0.426521 -0.844782   \n",
       "2                 1                 0  -0.708596  -0.231513 -0.190566   \n",
       "3                 1                 0   0.173698   0.207256  0.136542   \n",
       "4                 1                 0   0.107110   0.207256  0.230001   \n",
       "\n",
       "   carheight  curbweight  enginetype_1  enginetype_2  enginetype_3  \\\n",
       "0  -2.020417   -0.014566             1             0             0   \n",
       "1  -2.020417   -0.014566             1             0             0   \n",
       "2  -0.543527    0.514882             0             1             0   \n",
       "3   0.235942   -0.420797             0             0             1   \n",
       "4   0.235942    0.516807             0             0             1   \n",
       "\n",
       "   enginetype_4  enginetype_5  enginetype_6  enginetype_7  cylindernumber  \\\n",
       "0             0             0             0             0               4   \n",
       "1             0             0             0             0               4   \n",
       "2             0             0             0             0               6   \n",
       "3             0             0             0             0               4   \n",
       "4             0             0             0             0               5   \n",
       "\n",
       "   enginesize  boreratio    stroke  compressionratio  horsepower   peakrpm  \\\n",
       "0    0.074449   0.519071 -1.839377         -0.288349    0.174483 -0.262960   \n",
       "1    0.074449   0.519071 -1.839377         -0.288349    0.174483 -0.262960   \n",
       "2    0.604046  -2.404880  0.685946         -0.288349    1.264536 -0.262960   \n",
       "3   -0.431076  -0.517266  0.462183         -0.035973   -0.053668  0.787855   \n",
       "4    0.218885  -0.517266  0.462183         -0.540725    0.275883  0.787855   \n",
       "\n",
       "    citympg  car_brand_1  car_brand_2  car_brand_3  car_brand_4  car_brand_5  \\\n",
       "0 -0.646553            1            0            0            0            0   \n",
       "1 -0.646553            1            0            0            0            0   \n",
       "2 -0.953012            1            0            0            0            0   \n",
       "3 -0.186865            0            1            0            0            0   \n",
       "4 -1.106241            0            1            0            0            0   \n",
       "\n",
       "   car_brand_6  car_brand_7  car_brand_8  car_brand_9  car_brand_10  \\\n",
       "0            0            0            0            0             0   \n",
       "1            0            0            0            0             0   \n",
       "2            0            0            0            0             0   \n",
       "3            0            0            0            0             0   \n",
       "4            0            0            0            0             0   \n",
       "\n",
       "   car_brand_11  car_brand_12  car_brand_13  car_brand_14  car_brand_15  \\\n",
       "0             0             0             0             0             0   \n",
       "1             0             0             0             0             0   \n",
       "2             0             0             0             0             0   \n",
       "3             0             0             0             0             0   \n",
       "4             0             0             0             0             0   \n",
       "\n",
       "   car_brand_16  car_brand_17  car_brand_18  car_brand_19  car_brand_20  \\\n",
       "0             0             0             0             0             0   \n",
       "1             0             0             0             0             0   \n",
       "2             0             0             0             0             0   \n",
       "3             0             0             0             0             0   \n",
       "4             0             0             0             0             0   \n",
       "\n",
       "   car_brand_21  car_brand_22  \n",
       "0             0             0  \n",
       "1             0             0  \n",
       "2             0             0  \n",
       "3             0             0  \n",
       "4             0             0  "
      ]
     },
     "execution_count": 23,
     "metadata": {},
     "output_type": "execute_result"
    }
   ],
   "source": [
    "# Save numeric columns in a variable\n",
    "cnames = ['wheelbase', 'carlength', 'carwidth', 'carheight',\n",
    "          'curbweight', 'enginesize', 'boreratio', 'stroke', \n",
    "          'compressionratio', 'horsepower', 'peakrpm', 'citympg',]\n",
    "\n",
    "from sklearn.preprocessing import StandardScaler\n",
    "sc=StandardScaler()\n",
    "for col in cnames:\n",
    "    x[col]=sc.fit_transform(x[col].values.reshape(-1,1))\n",
    "\n",
    "x.head(5)"
   ]
  },
  {
   "cell_type": "code",
   "execution_count": 24,
   "metadata": {},
   "outputs": [],
   "source": [
    "#### Splitting train and test dataset\n",
    "from sklearn.model_selection import train_test_split\n",
    "x_train,x_test,y_train,y_test=train_test_split(x,y,test_size=0.3,random_state=0)"
   ]
  },
  {
   "cell_type": "markdown",
   "metadata": {},
   "source": [
    "## Linear Regression"
   ]
  },
  {
   "cell_type": "code",
   "execution_count": 25,
   "metadata": {},
   "outputs": [
    {
     "data": {
      "text/plain": [
       "LinearRegression()"
      ]
     },
     "execution_count": 25,
     "metadata": {},
     "output_type": "execute_result"
    }
   ],
   "source": [
    "from sklearn.linear_model import LinearRegression\n",
    "#### instantiate and fit\n",
    "model_LR = LinearRegression()\n",
    "model_LR.fit(x_train, y_train)"
   ]
  },
  {
   "cell_type": "code",
   "execution_count": 26,
   "metadata": {},
   "outputs": [
    {
     "name": "stdout",
     "output_type": "stream",
     "text": [
      "Train Accuracy : 0.9706000959758017\n",
      "Test Accuracy  : 0.8920483520083704\n"
     ]
    }
   ],
   "source": [
    "LR_score_train = model_LR.score(x_train, y_train)\n",
    "print(\"Train Accuracy :\",LR_score_train)\n",
    "\n",
    "LR_score_test = model_LR.score(x_test, y_test)\n",
    "print(\"Test Accuracy  :\",LR_score_test)"
   ]
  },
  {
   "cell_type": "code",
   "execution_count": 27,
   "metadata": {},
   "outputs": [
    {
     "name": "stdout",
     "output_type": "stream",
     "text": [
      "MAE: 1602.070849236117\n",
      "MSE: 7128842.973392517\n",
      "RMSE: 2669.989320838665\n"
     ]
    }
   ],
   "source": [
    "#### predicting 'price' using lin_reg\n",
    "predictions_LR = model_LR.predict(x_test)\n",
    "\n",
    "#### calculating RMSE, MSE, and MAE\n",
    "from sklearn import metrics\n",
    "\n",
    "print('MAE:', metrics.mean_absolute_error(y_test, predictions_LR))\n",
    "print('MSE:', metrics.mean_squared_error(y_test, predictions_LR))\n",
    "LR_RMSE=np.sqrt(metrics.mean_squared_error(y_test, predictions_LR))\n",
    "print('RMSE:', LR_RMSE)"
   ]
  },
  {
   "cell_type": "code",
   "execution_count": 28,
   "metadata": {},
   "outputs": [],
   "source": [
    "final_results = []\n",
    "dict_LR = {'MODEL':'Linear Regression',\n",
    "           'Train_ACCURACY':LR_score_train,\n",
    "           'Test_ACCURACY':LR_score_test,\n",
    "           'RMSE':LR_RMSE\n",
    "          }\n",
    "final_results.append(dict_LR)"
   ]
  },
  {
   "cell_type": "markdown",
   "metadata": {},
   "source": [
    "## Ridge Regression"
   ]
  },
  {
   "cell_type": "code",
   "execution_count": 29,
   "metadata": {},
   "outputs": [
    {
     "data": {
      "text/plain": [
       "0.1"
      ]
     },
     "execution_count": 29,
     "metadata": {},
     "output_type": "execute_result"
    }
   ],
   "source": [
    "from sklearn import linear_model\n",
    "model_LR_Ridge = linear_model.RidgeCV(alphas=np.logspace(-6, 6, 13))\n",
    "model_LR_Ridge.fit(x_train,y_train)\n",
    "model_LR_Ridge.alpha_"
   ]
  },
  {
   "cell_type": "code",
   "execution_count": 30,
   "metadata": {},
   "outputs": [
    {
     "name": "stdout",
     "output_type": "stream",
     "text": [
      "Train Accuracy : 0.9703273024088487\n",
      "Test Accuracy  : 0.8885484567286488\n"
     ]
    }
   ],
   "source": [
    "LR_Ridge_score_train = model_LR_Ridge.score(x_train,y_train)\n",
    "print(\"Train Accuracy :\",LR_Ridge_score_train)\n",
    "\n",
    "LR_Ridge_score_test = model_LR_Ridge.score(x_test,y_test)\n",
    "print(\"Test Accuracy  :\",LR_Ridge_score_test)"
   ]
  },
  {
   "cell_type": "code",
   "execution_count": 31,
   "metadata": {},
   "outputs": [
    {
     "name": "stdout",
     "output_type": "stream",
     "text": [
      "MAE: 1632.8053066911716\n",
      "MSE: 7359966.854654508\n",
      "RMSE: 2712.9258844750084\n"
     ]
    }
   ],
   "source": [
    "#### predicting 'price' using Ridge Regression\n",
    "predictions_LR_Ridge = model_LR_Ridge.predict(x_test)\n",
    "\n",
    "from sklearn import metrics\n",
    "\n",
    "print('MAE:', metrics.mean_absolute_error(y_test, predictions_LR_Ridge))\n",
    "print('MSE:', metrics.mean_squared_error(y_test, predictions_LR_Ridge))\n",
    "LR_Ridge_RMSE=np.sqrt(metrics.mean_squared_error(y_test, predictions_LR_Ridge))\n",
    "print('RMSE:', LR_Ridge_RMSE)"
   ]
  },
  {
   "cell_type": "code",
   "execution_count": 32,
   "metadata": {},
   "outputs": [],
   "source": [
    "dict_LR_Ridge = {'MODEL':'Ridge Regression',\n",
    "                 'Train_ACCURACY':LR_Ridge_score_train,\n",
    "                 'Test_ACCURACY':LR_Ridge_score_test,\n",
    "                 'RMSE':LR_Ridge_RMSE\n",
    "                }\n",
    "final_results.append(dict_LR_Ridge)"
   ]
  },
  {
   "cell_type": "markdown",
   "metadata": {},
   "source": [
    "## Lasso Regressor"
   ]
  },
  {
   "cell_type": "code",
   "execution_count": 33,
   "metadata": {},
   "outputs": [
    {
     "data": {
      "text/plain": [
       "LassoCV(alphas=array([1.e-06, 1.e-05, 1.e-04, 1.e-03, 1.e-02, 1.e-01, 1.e+00, 1.e+01,\n",
       "       1.e+02, 1.e+03, 1.e+04, 1.e+05, 1.e+06]))"
      ]
     },
     "execution_count": 33,
     "metadata": {},
     "output_type": "execute_result"
    }
   ],
   "source": [
    "from sklearn import linear_model\n",
    "model_LR_Lasso = linear_model.LassoCV(alphas=np.logspace(-6, 6, 13))\n",
    "model_LR_Lasso.fit(x_train,y_train)"
   ]
  },
  {
   "cell_type": "code",
   "execution_count": 34,
   "metadata": {},
   "outputs": [
    {
     "name": "stdout",
     "output_type": "stream",
     "text": [
      "Train Accuracy : 0.9670849805859022\n",
      "Test Accuracy  : 0.8901462183776644\n"
     ]
    }
   ],
   "source": [
    "LR_Lasso_score_train = model_LR_Lasso.score(x_train,y_train)\n",
    "print(\"Train Accuracy :\",LR_Lasso_score_train)\n",
    "\n",
    "LR_Lasso_score_test = model_LR_Lasso.score(x_test,y_test)\n",
    "print(\"Test Accuracy  :\",LR_Lasso_score_test)"
   ]
  },
  {
   "cell_type": "code",
   "execution_count": 35,
   "metadata": {},
   "outputs": [
    {
     "name": "stdout",
     "output_type": "stream",
     "text": [
      "MAE: 1704.319461370362\n",
      "MSE: 7254454.876684296\n",
      "RMSE: 2693.4095263595354\n"
     ]
    }
   ],
   "source": [
    "#### predicting 'price' using Lasso Regression\n",
    "predictions_LR_Lasso = model_LR_Lasso.predict(x_test)\n",
    "\n",
    "from sklearn import metrics\n",
    "\n",
    "print('MAE:', metrics.mean_absolute_error(y_test, predictions_LR_Lasso))\n",
    "print('MSE:', metrics.mean_squared_error(y_test, predictions_LR_Lasso))\n",
    "LR_Lasso_RMSE=np.sqrt(metrics.mean_squared_error(y_test, predictions_LR_Lasso))\n",
    "print('RMSE:', LR_Lasso_RMSE)"
   ]
  },
  {
   "cell_type": "code",
   "execution_count": 36,
   "metadata": {},
   "outputs": [],
   "source": [
    "dict_LR_Lasso = {'MODEL':'Lasso Regression',\n",
    "                 'Train_ACCURACY':LR_Lasso_score_train,\n",
    "                 'Test_ACCURACY':LR_Lasso_score_test,\n",
    "                 'RMSE':LR_Lasso_RMSE\n",
    "                }\n",
    "final_results.append(dict_LR_Lasso)"
   ]
  },
  {
   "cell_type": "markdown",
   "metadata": {},
   "source": [
    "## KNN Regressor"
   ]
  },
  {
   "cell_type": "code",
   "execution_count": 37,
   "metadata": {},
   "outputs": [
    {
     "data": {
      "text/plain": [
       "KNeighborsRegressor(n_jobs=-1, n_neighbors=4)"
      ]
     },
     "execution_count": 37,
     "metadata": {},
     "output_type": "execute_result"
    }
   ],
   "source": [
    "from sklearn import neighbors as nb\n",
    "model_KNN=nb.KNeighborsRegressor(n_neighbors=4,n_jobs=-1)\n",
    "model_KNN.fit(x_train,y_train)"
   ]
  },
  {
   "cell_type": "code",
   "execution_count": 38,
   "metadata": {},
   "outputs": [
    {
     "name": "stdout",
     "output_type": "stream",
     "text": [
      "Train Accuracy : 0.9124677696162664\n",
      "Test Accuracy  : 0.8259113078399183\n"
     ]
    }
   ],
   "source": [
    "KNN_score_train = model_KNN.score(x_train,y_train)\n",
    "print(\"Train Accuracy :\",KNN_score_train)\n",
    "\n",
    "KNN_score_test = model_KNN.score(x_test,y_test)\n",
    "print(\"Test Accuracy  :\",KNN_score_test)"
   ]
  },
  {
   "cell_type": "code",
   "execution_count": 39,
   "metadata": {},
   "outputs": [
    {
     "data": {
      "text/plain": [
       "GridSearchCV(estimator=KNeighborsRegressor(n_jobs=-1, n_neighbors=4),\n",
       "             param_grid={'n_neighbors': [3, 5, 7, 9, 11],\n",
       "                         'weights': ['uniform', 'distance']})"
      ]
     },
     "execution_count": 39,
     "metadata": {},
     "output_type": "execute_result"
    }
   ],
   "source": [
    "#Parameter tuning/Grid search\n",
    "import sklearn.model_selection as model_selection\n",
    "model_KNN=model_selection.GridSearchCV(model_KNN,param_grid={'n_neighbors':[3,5,7,9,11],'weights':['uniform','distance']})\n",
    "model_KNN.fit(x_train,y_train)"
   ]
  },
  {
   "cell_type": "code",
   "execution_count": 40,
   "metadata": {},
   "outputs": [
    {
     "data": {
      "text/plain": [
       "{'n_neighbors': 3, 'weights': 'distance'}"
      ]
     },
     "execution_count": 40,
     "metadata": {},
     "output_type": "execute_result"
    }
   ],
   "source": [
    "model_KNN.best_params_"
   ]
  },
  {
   "cell_type": "code",
   "execution_count": 41,
   "metadata": {},
   "outputs": [
    {
     "name": "stdout",
     "output_type": "stream",
     "text": [
      "Train Accuracy : 0.9985246605173365\n",
      "Test Accuracy  : 0.8783507393636467\n"
     ]
    }
   ],
   "source": [
    "KNN_score_train = model_KNN.score(x_train,y_train)\n",
    "print(\"Train Accuracy :\",KNN_score_train)\n",
    "\n",
    "KNN_score_test = model_KNN.score(x_test,y_test)\n",
    "print(\"Test Accuracy  :\",KNN_score_test)"
   ]
  },
  {
   "cell_type": "code",
   "execution_count": 42,
   "metadata": {},
   "outputs": [
    {
     "name": "stdout",
     "output_type": "stream",
     "text": [
      "MAE: 1832.775503909773\n",
      "MSE: 8033397.294435981\n",
      "RMSE: 2834.3248392581927\n"
     ]
    }
   ],
   "source": [
    "#### predicting 'price' using lin_reg\n",
    "predictions_KNN = model_KNN.predict(x_test)\n",
    "\n",
    "from sklearn import metrics\n",
    "\n",
    "print('MAE:', metrics.mean_absolute_error(y_test, predictions_KNN))\n",
    "print('MSE:', metrics.mean_squared_error(y_test, predictions_KNN))\n",
    "KNN_RMSE=np.sqrt(metrics.mean_squared_error(y_test, predictions_KNN))\n",
    "print('RMSE:', KNN_RMSE)"
   ]
  },
  {
   "cell_type": "code",
   "execution_count": 43,
   "metadata": {},
   "outputs": [],
   "source": [
    "dict_KNN = {'MODEL':'KNN Regressor',\n",
    "            'Train_ACCURACY':KNN_score_train,\n",
    "            'Test_ACCURACY':KNN_score_test,\n",
    "            'RMSE':KNN_RMSE}\n",
    "final_results.append(dict_KNN)"
   ]
  },
  {
   "cell_type": "markdown",
   "metadata": {},
   "source": [
    "## DT_Regression_Tree"
   ]
  },
  {
   "cell_type": "code",
   "execution_count": 44,
   "metadata": {},
   "outputs": [
    {
     "data": {
      "text/plain": [
       "DecisionTreeRegressor(max_depth=3)"
      ]
     },
     "execution_count": 44,
     "metadata": {},
     "output_type": "execute_result"
    }
   ],
   "source": [
    "import sklearn.tree as tree\n",
    "model_DT=tree.DecisionTreeRegressor(max_depth=3)\n",
    "model_DT.fit(x_train,y_train)"
   ]
  },
  {
   "cell_type": "code",
   "execution_count": 45,
   "metadata": {},
   "outputs": [
    {
     "name": "stdout",
     "output_type": "stream",
     "text": [
      "Train Accuracy : 0.9216374578674762\n",
      "Test Accuracy  : 0.8679424987382512\n"
     ]
    }
   ],
   "source": [
    "DT_score_train = model_DT.score(x_train,y_train)\n",
    "print(\"Train Accuracy :\",DT_score_train)\n",
    "\n",
    "DT_score_test = model_DT.score(x_test,y_test)\n",
    "print(\"Test Accuracy  :\",DT_score_test)"
   ]
  },
  {
   "cell_type": "code",
   "execution_count": 46,
   "metadata": {},
   "outputs": [
    {
     "data": {
      "text/plain": [
       "[Text(418.5, 380.52, 'enginesize <= 1.326\\nmse = 62413097.511\\nsamples = 143\\nvalue = 13299.679'),\n",
       " Text(209.25, 271.8, 'curbweight <= -0.022\\nmse = 19869258.311\\nsamples = 129\\nvalue = 11141.381'),\n",
       " Text(104.625, 163.07999999999998, 'curbweight <= -0.508\\nmse = 5353442.13\\nsamples = 84\\nvalue = 8564.036'),\n",
       " Text(52.3125, 54.360000000000014, 'mse = 1072432.475\\nsamples = 49\\nvalue = 7284.122'),\n",
       " Text(156.9375, 54.360000000000014, 'mse = 5842577.678\\nsamples = 35\\nvalue = 10355.914'),\n",
       " Text(313.875, 163.07999999999998, 'carwidth <= 1.258\\nmse = 11419572.218\\nsamples = 45\\nvalue = 15952.426'),\n",
       " Text(261.5625, 54.360000000000014, 'mse = 9422357.639\\nsamples = 39\\nvalue = 15325.107'),\n",
       " Text(366.1875, 54.360000000000014, 'mse = 5216916.667\\nsamples = 6\\nvalue = 20030.0'),\n",
       " Text(627.75, 271.8, 'compressionratio <= 1.604\\nmse = 16001889.551\\nsamples = 14\\nvalue = 33186.857'),\n",
       " Text(523.125, 163.07999999999998, 'carwidth <= 2.52\\nmse = 7696192.8\\nsamples = 10\\nvalue = 35104.0'),\n",
       " Text(470.8125, 54.360000000000014, 'mse = 4317654.222\\nsamples = 9\\nvalue = 34453.333'),\n",
       " Text(575.4375, 54.360000000000014, 'mse = 0.0\\nsamples = 1\\nvalue = 40960.0'),\n",
       " Text(732.375, 163.07999999999998, 'curbweight <= 2.319\\nmse = 4606060.0\\nsamples = 4\\nvalue = 28394.0'),\n",
       " Text(680.0625, 54.360000000000014, 'mse = 1573219.556\\nsamples = 3\\nvalue = 27325.333'),\n",
       " Text(784.6875, 54.360000000000014, 'mse = 0.0\\nsamples = 1\\nvalue = 31600.0')]"
      ]
     },
     "execution_count": 46,
     "metadata": {},
     "output_type": "execute_result"
    },
    {
     "data": {
      "image/png": "[encoded data removed]",
      "text/plain": [
       "<Figure size 1080x576 with 1 Axes>"
      ]
     },
     "metadata": {
      "needs_background": "light"
     },
     "output_type": "display_data"
    }
   ],
   "source": [
    "import matplotlib.pyplot as plt\n",
    "from sklearn.tree import plot_tree, export_text\n",
    "\n",
    "features  = x.columns\n",
    "plt.figure(figsize=(15,8))\n",
    "plot_tree(model_DT, feature_names=features, filled = True)"
   ]
  },
  {
   "cell_type": "code",
   "execution_count": 47,
   "metadata": {},
   "outputs": [
    {
     "name": "stdout",
     "output_type": "stream",
     "text": [
      "MAE: 2076.496298188754\n",
      "MSE: 8720730.136760743\n",
      "RMSE: 2953.0882372121464\n"
     ]
    }
   ],
   "source": [
    "#### predicting 'price' using lin_reg\n",
    "predictions_DT = model_DT.predict(x_test)\n",
    "\n",
    "from sklearn import metrics\n",
    "\n",
    "print('MAE:', metrics.mean_absolute_error(y_test, predictions_DT))\n",
    "print('MSE:', metrics.mean_squared_error(y_test, predictions_DT))\n",
    "DT_RMSE=np.sqrt(metrics.mean_squared_error(y_test, predictions_DT))\n",
    "print('RMSE:', DT_RMSE)"
   ]
  },
  {
   "cell_type": "code",
   "execution_count": 48,
   "metadata": {},
   "outputs": [],
   "source": [
    "dict_DT = {'MODEL':'DT Regressor',\n",
    "           'Train_ACCURACY':DT_score_train,\n",
    "           'Test_ACCURACY':DT_score_test,\n",
    "           'RMSE':DT_RMSE}\n",
    "final_results.append(dict_DT)"
   ]
  },
  {
   "cell_type": "markdown",
   "metadata": {},
   "source": [
    "## Random Forest Regressor"
   ]
  },
  {
   "cell_type": "code",
   "execution_count": 49,
   "metadata": {},
   "outputs": [
    {
     "data": {
      "text/html": [
       "<style  type=\"text/css\" >\n",
       "#T_bd842fb4_ead5_11ea_8920_24ee9ae80742row0_col1{\n",
       "            background-color:  #08306b;\n",
       "            color:  #f1f1f1;\n",
       "        }#T_bd842fb4_ead5_11ea_8920_24ee9ae80742row1_col1{\n",
       "            background-color:  #084e98;\n",
       "            color:  #f1f1f1;\n",
       "        }#T_bd842fb4_ead5_11ea_8920_24ee9ae80742row2_col1,#T_bd842fb4_ead5_11ea_8920_24ee9ae80742row3_col1{\n",
       "            background-color:  #115ca5;\n",
       "            color:  #f1f1f1;\n",
       "        }#T_bd842fb4_ead5_11ea_8920_24ee9ae80742row4_col1{\n",
       "            background-color:  #2676b8;\n",
       "            color:  #000000;\n",
       "        }#T_bd842fb4_ead5_11ea_8920_24ee9ae80742row5_col1{\n",
       "            background-color:  #3b8bc2;\n",
       "            color:  #000000;\n",
       "        }#T_bd842fb4_ead5_11ea_8920_24ee9ae80742row6_col1{\n",
       "            background-color:  #4a98c9;\n",
       "            color:  #000000;\n",
       "        }#T_bd842fb4_ead5_11ea_8920_24ee9ae80742row7_col1{\n",
       "            background-color:  #4e9acb;\n",
       "            color:  #000000;\n",
       "        }#T_bd842fb4_ead5_11ea_8920_24ee9ae80742row8_col1{\n",
       "            background-color:  #5aa2cf;\n",
       "            color:  #000000;\n",
       "        }#T_bd842fb4_ead5_11ea_8920_24ee9ae80742row9_col1{\n",
       "            background-color:  #5ca4d0;\n",
       "            color:  #000000;\n",
       "        }#T_bd842fb4_ead5_11ea_8920_24ee9ae80742row10_col1{\n",
       "            background-color:  #abd0e6;\n",
       "            color:  #000000;\n",
       "        }#T_bd842fb4_ead5_11ea_8920_24ee9ae80742row11_col1{\n",
       "            background-color:  #bed8ec;\n",
       "            color:  #000000;\n",
       "        }#T_bd842fb4_ead5_11ea_8920_24ee9ae80742row12_col1{\n",
       "            background-color:  #c6dbef;\n",
       "            color:  #000000;\n",
       "        }#T_bd842fb4_ead5_11ea_8920_24ee9ae80742row13_col1{\n",
       "            background-color:  #d6e5f4;\n",
       "            color:  #000000;\n",
       "        }#T_bd842fb4_ead5_11ea_8920_24ee9ae80742row14_col1{\n",
       "            background-color:  #d6e6f4;\n",
       "            color:  #000000;\n",
       "        }#T_bd842fb4_ead5_11ea_8920_24ee9ae80742row15_col1{\n",
       "            background-color:  #e0ecf8;\n",
       "            color:  #000000;\n",
       "        }#T_bd842fb4_ead5_11ea_8920_24ee9ae80742row16_col1{\n",
       "            background-color:  #e6f0f9;\n",
       "            color:  #000000;\n",
       "        }#T_bd842fb4_ead5_11ea_8920_24ee9ae80742row17_col1{\n",
       "            background-color:  #eff6fc;\n",
       "            color:  #000000;\n",
       "        }#T_bd842fb4_ead5_11ea_8920_24ee9ae80742row18_col1{\n",
       "            background-color:  #f7fbff;\n",
       "            color:  #000000;\n",
       "        }</style><table id=\"T_bd842fb4_ead5_11ea_8920_24ee9ae80742\" ><thead>    <tr>        <th class=\"blank level0\" ></th>        <th class=\"col_heading level0 col0\" >Number of trees</th>        <th class=\"col_heading level0 col1\" >ACCURACY</th>    </tr></thead><tbody>\n",
       "                <tr>\n",
       "                        <th id=\"T_bd842fb4_ead5_11ea_8920_24ee9ae80742level0_row0\" class=\"row_heading level0 row0\" >0</th>\n",
       "                        <td id=\"T_bd842fb4_ead5_11ea_8920_24ee9ae80742row0_col0\" class=\"data row0 col0\" >50</td>\n",
       "                        <td id=\"T_bd842fb4_ead5_11ea_8920_24ee9ae80742row0_col1\" class=\"data row0 col1\" >0.912008</td>\n",
       "            </tr>\n",
       "            <tr>\n",
       "                        <th id=\"T_bd842fb4_ead5_11ea_8920_24ee9ae80742level0_row1\" class=\"row_heading level0 row1\" >1</th>\n",
       "                        <td id=\"T_bd842fb4_ead5_11ea_8920_24ee9ae80742row1_col0\" class=\"data row1 col0\" >20</td>\n",
       "                        <td id=\"T_bd842fb4_ead5_11ea_8920_24ee9ae80742row1_col1\" class=\"data row1 col1\" >0.911499</td>\n",
       "            </tr>\n",
       "            <tr>\n",
       "                        <th id=\"T_bd842fb4_ead5_11ea_8920_24ee9ae80742level0_row2\" class=\"row_heading level0 row2\" >2</th>\n",
       "                        <td id=\"T_bd842fb4_ead5_11ea_8920_24ee9ae80742row2_col0\" class=\"data row2 col0\" >60</td>\n",
       "                        <td id=\"T_bd842fb4_ead5_11ea_8920_24ee9ae80742row2_col1\" class=\"data row2 col1\" >0.911267</td>\n",
       "            </tr>\n",
       "            <tr>\n",
       "                        <th id=\"T_bd842fb4_ead5_11ea_8920_24ee9ae80742level0_row3\" class=\"row_heading level0 row3\" >3</th>\n",
       "                        <td id=\"T_bd842fb4_ead5_11ea_8920_24ee9ae80742row3_col0\" class=\"data row3 col0\" >40</td>\n",
       "                        <td id=\"T_bd842fb4_ead5_11ea_8920_24ee9ae80742row3_col1\" class=\"data row3 col1\" >0.911264</td>\n",
       "            </tr>\n",
       "            <tr>\n",
       "                        <th id=\"T_bd842fb4_ead5_11ea_8920_24ee9ae80742level0_row4\" class=\"row_heading level0 row4\" >4</th>\n",
       "                        <td id=\"T_bd842fb4_ead5_11ea_8920_24ee9ae80742row4_col0\" class=\"data row4 col0\" >70</td>\n",
       "                        <td id=\"T_bd842fb4_ead5_11ea_8920_24ee9ae80742row4_col1\" class=\"data row4 col1\" >0.910807</td>\n",
       "            </tr>\n",
       "            <tr>\n",
       "                        <th id=\"T_bd842fb4_ead5_11ea_8920_24ee9ae80742level0_row5\" class=\"row_heading level0 row5\" >5</th>\n",
       "                        <td id=\"T_bd842fb4_ead5_11ea_8920_24ee9ae80742row5_col0\" class=\"data row5 col0\" >90</td>\n",
       "                        <td id=\"T_bd842fb4_ead5_11ea_8920_24ee9ae80742row5_col1\" class=\"data row5 col1\" >0.910469</td>\n",
       "            </tr>\n",
       "            <tr>\n",
       "                        <th id=\"T_bd842fb4_ead5_11ea_8920_24ee9ae80742level0_row6\" class=\"row_heading level0 row6\" >6</th>\n",
       "                        <td id=\"T_bd842fb4_ead5_11ea_8920_24ee9ae80742row6_col0\" class=\"data row6 col0\" >100</td>\n",
       "                        <td id=\"T_bd842fb4_ead5_11ea_8920_24ee9ae80742row6_col1\" class=\"data row6 col1\" >0.910244</td>\n",
       "            </tr>\n",
       "            <tr>\n",
       "                        <th id=\"T_bd842fb4_ead5_11ea_8920_24ee9ae80742level0_row7\" class=\"row_heading level0 row7\" >7</th>\n",
       "                        <td id=\"T_bd842fb4_ead5_11ea_8920_24ee9ae80742row7_col0\" class=\"data row7 col0\" >10</td>\n",
       "                        <td id=\"T_bd842fb4_ead5_11ea_8920_24ee9ae80742row7_col1\" class=\"data row7 col1\" >0.910193</td>\n",
       "            </tr>\n",
       "            <tr>\n",
       "                        <th id=\"T_bd842fb4_ead5_11ea_8920_24ee9ae80742level0_row8\" class=\"row_heading level0 row8\" >8</th>\n",
       "                        <td id=\"T_bd842fb4_ead5_11ea_8920_24ee9ae80742row8_col0\" class=\"data row8 col0\" >110</td>\n",
       "                        <td id=\"T_bd842fb4_ead5_11ea_8920_24ee9ae80742row8_col1\" class=\"data row8 col1\" >0.910033</td>\n",
       "            </tr>\n",
       "            <tr>\n",
       "                        <th id=\"T_bd842fb4_ead5_11ea_8920_24ee9ae80742level0_row9\" class=\"row_heading level0 row9\" >9</th>\n",
       "                        <td id=\"T_bd842fb4_ead5_11ea_8920_24ee9ae80742row9_col0\" class=\"data row9 col0\" >80</td>\n",
       "                        <td id=\"T_bd842fb4_ead5_11ea_8920_24ee9ae80742row9_col1\" class=\"data row9 col1\" >0.910015</td>\n",
       "            </tr>\n",
       "            <tr>\n",
       "                        <th id=\"T_bd842fb4_ead5_11ea_8920_24ee9ae80742level0_row10\" class=\"row_heading level0 row10\" >10</th>\n",
       "                        <td id=\"T_bd842fb4_ead5_11ea_8920_24ee9ae80742row10_col0\" class=\"data row10 col0\" >130</td>\n",
       "                        <td id=\"T_bd842fb4_ead5_11ea_8920_24ee9ae80742row10_col1\" class=\"data row10 col1\" >0.909085</td>\n",
       "            </tr>\n",
       "            <tr>\n",
       "                        <th id=\"T_bd842fb4_ead5_11ea_8920_24ee9ae80742level0_row11\" class=\"row_heading level0 row11\" >11</th>\n",
       "                        <td id=\"T_bd842fb4_ead5_11ea_8920_24ee9ae80742row11_col0\" class=\"data row11 col0\" >120</td>\n",
       "                        <td id=\"T_bd842fb4_ead5_11ea_8920_24ee9ae80742row11_col1\" class=\"data row11 col1\" >0.908817</td>\n",
       "            </tr>\n",
       "            <tr>\n",
       "                        <th id=\"T_bd842fb4_ead5_11ea_8920_24ee9ae80742level0_row12\" class=\"row_heading level0 row12\" >12</th>\n",
       "                        <td id=\"T_bd842fb4_ead5_11ea_8920_24ee9ae80742row12_col0\" class=\"data row12 col0\" >140</td>\n",
       "                        <td id=\"T_bd842fb4_ead5_11ea_8920_24ee9ae80742row12_col1\" class=\"data row12 col1\" >0.908712</td>\n",
       "            </tr>\n",
       "            <tr>\n",
       "                        <th id=\"T_bd842fb4_ead5_11ea_8920_24ee9ae80742level0_row13\" class=\"row_heading level0 row13\" >13</th>\n",
       "                        <td id=\"T_bd842fb4_ead5_11ea_8920_24ee9ae80742row13_col0\" class=\"data row13 col0\" >150</td>\n",
       "                        <td id=\"T_bd842fb4_ead5_11ea_8920_24ee9ae80742row13_col1\" class=\"data row13 col1\" >0.908355</td>\n",
       "            </tr>\n",
       "            <tr>\n",
       "                        <th id=\"T_bd842fb4_ead5_11ea_8920_24ee9ae80742level0_row14\" class=\"row_heading level0 row14\" >14</th>\n",
       "                        <td id=\"T_bd842fb4_ead5_11ea_8920_24ee9ae80742row14_col0\" class=\"data row14 col0\" >160</td>\n",
       "                        <td id=\"T_bd842fb4_ead5_11ea_8920_24ee9ae80742row14_col1\" class=\"data row14 col1\" >0.908344</td>\n",
       "            </tr>\n",
       "            <tr>\n",
       "                        <th id=\"T_bd842fb4_ead5_11ea_8920_24ee9ae80742level0_row15\" class=\"row_heading level0 row15\" >15</th>\n",
       "                        <td id=\"T_bd842fb4_ead5_11ea_8920_24ee9ae80742row15_col0\" class=\"data row15 col0\" >190</td>\n",
       "                        <td id=\"T_bd842fb4_ead5_11ea_8920_24ee9ae80742row15_col1\" class=\"data row15 col1\" >0.908114</td>\n",
       "            </tr>\n",
       "            <tr>\n",
       "                        <th id=\"T_bd842fb4_ead5_11ea_8920_24ee9ae80742level0_row16\" class=\"row_heading level0 row16\" >16</th>\n",
       "                        <td id=\"T_bd842fb4_ead5_11ea_8920_24ee9ae80742row16_col0\" class=\"data row16 col0\" >170</td>\n",
       "                        <td id=\"T_bd842fb4_ead5_11ea_8920_24ee9ae80742row16_col1\" class=\"data row16 col1\" >0.907999</td>\n",
       "            </tr>\n",
       "            <tr>\n",
       "                        <th id=\"T_bd842fb4_ead5_11ea_8920_24ee9ae80742level0_row17\" class=\"row_heading level0 row17\" >17</th>\n",
       "                        <td id=\"T_bd842fb4_ead5_11ea_8920_24ee9ae80742row17_col0\" class=\"data row17 col0\" >180</td>\n",
       "                        <td id=\"T_bd842fb4_ead5_11ea_8920_24ee9ae80742row17_col1\" class=\"data row17 col1\" >0.907784</td>\n",
       "            </tr>\n",
       "            <tr>\n",
       "                        <th id=\"T_bd842fb4_ead5_11ea_8920_24ee9ae80742level0_row18\" class=\"row_heading level0 row18\" >18</th>\n",
       "                        <td id=\"T_bd842fb4_ead5_11ea_8920_24ee9ae80742row18_col0\" class=\"data row18 col0\" >30</td>\n",
       "                        <td id=\"T_bd842fb4_ead5_11ea_8920_24ee9ae80742row18_col1\" class=\"data row18 col1\" >0.907609</td>\n",
       "            </tr>\n",
       "    </tbody></table>"
      ],
      "text/plain": [
       "<pandas.io.formats.style.Styler at 0x196972dbd88>"
      ]
     },
     "execution_count": 49,
     "metadata": {},
     "output_type": "execute_result"
    }
   ],
   "source": [
    "from sklearn.ensemble import RandomForestRegressor\n",
    "\n",
    "list_RFR=[]\n",
    "#Tune number of trees\n",
    "for i in range(10,200,10):\n",
    "    model_RFR=RandomForestRegressor(n_estimators=i,random_state=10)\n",
    "    model_RFR.fit(x_train,y_train)\n",
    "    dict_RFR={}\n",
    "    dict_RFR[\"Number of trees\"] = str(i)\n",
    "    dict_RFR[\"ACCURACY\"]=model_RFR.score(x_test,y_test)\n",
    "    list_RFR.append(dict_RFR)\n",
    "    \n",
    "(pd.DataFrame(list_RFR)\n",
    "     .sort_values(by=['ACCURACY'],ascending=False)\n",
    "     .reset_index(drop=True)\n",
    "     .style.background_gradient(cmap='Blues'))"
   ]
  },
  {
   "cell_type": "code",
   "execution_count": 50,
   "metadata": {},
   "outputs": [
    {
     "data": {
      "text/plain": [
       "RandomForestRegressor(n_estimators=50, random_state=10)"
      ]
     },
     "execution_count": 50,
     "metadata": {},
     "output_type": "execute_result"
    }
   ],
   "source": [
    "model_RFR = RandomForestRegressor(n_estimators=50,random_state=10)\n",
    "model_RFR.fit(x_train, y_train)"
   ]
  },
  {
   "cell_type": "code",
   "execution_count": 51,
   "metadata": {},
   "outputs": [
    {
     "name": "stdout",
     "output_type": "stream",
     "text": [
      "Train Accuracy : 0.9874907945466967\n",
      "Test Accuracy  : 0.9120081880470541\n"
     ]
    }
   ],
   "source": [
    "RFR_score_train = model_RFR.score(x_train, y_train)\n",
    "print(\"Train Accuracy :\",RFR_score_train)\n",
    "\n",
    "RFR_score_test = model_RFR.score(x_test,y_test)\n",
    "print(\"Test Accuracy  :\",RFR_score_test)"
   ]
  },
  {
   "cell_type": "code",
   "execution_count": 52,
   "metadata": {},
   "outputs": [
    {
     "name": "stdout",
     "output_type": "stream",
     "text": [
      "MAE: 1603.7387358064516\n",
      "MSE: 5810747.8859931175\n",
      "RMSE: 2410.5492913427674\n"
     ]
    }
   ],
   "source": [
    "#### predicting 'price' using lin_reg\n",
    "predictions_RFR = model_RFR.predict(x_test)\n",
    "\n",
    "from sklearn import metrics\n",
    "\n",
    "print('MAE:', metrics.mean_absolute_error(y_test, predictions_RFR))\n",
    "print('MSE:', metrics.mean_squared_error(y_test, predictions_RFR))\n",
    "RFR_RMSE=np.sqrt(metrics.mean_squared_error(y_test, predictions_RFR))\n",
    "print('RMSE:', RFR_RMSE)"
   ]
  },
  {
   "cell_type": "code",
   "execution_count": 53,
   "metadata": {},
   "outputs": [],
   "source": [
    "dict_RFR = {'MODEL':'Random Forest Regressor',\n",
    "            'Train_ACCURACY':RFR_score_train,\n",
    "            'Test_ACCURACY':RFR_score_test,\n",
    "            'RMSE':RFR_RMSE\n",
    "           }\n",
    "final_results.append(dict_RFR)"
   ]
  },
  {
   "cell_type": "markdown",
   "metadata": {},
   "source": [
    "## BaggingRegressor"
   ]
  },
  {
   "cell_type": "code",
   "execution_count": 54,
   "metadata": {},
   "outputs": [
    {
     "data": {
      "text/html": [
       "<style  type=\"text/css\" >\n",
       "#T_c71a0624_ead5_11ea_8c04_24ee9ae80742row0_col1{\n",
       "            background-color:  #08306b;\n",
       "            color:  #f1f1f1;\n",
       "        }#T_c71a0624_ead5_11ea_8c04_24ee9ae80742row1_col1{\n",
       "            background-color:  #3080bd;\n",
       "            color:  #000000;\n",
       "        }#T_c71a0624_ead5_11ea_8c04_24ee9ae80742row2_col1{\n",
       "            background-color:  #3888c1;\n",
       "            color:  #000000;\n",
       "        }#T_c71a0624_ead5_11ea_8c04_24ee9ae80742row3_col1{\n",
       "            background-color:  #5aa2cf;\n",
       "            color:  #000000;\n",
       "        }#T_c71a0624_ead5_11ea_8c04_24ee9ae80742row4_col1{\n",
       "            background-color:  #6caed6;\n",
       "            color:  #000000;\n",
       "        }#T_c71a0624_ead5_11ea_8c04_24ee9ae80742row5_col1{\n",
       "            background-color:  #72b2d8;\n",
       "            color:  #000000;\n",
       "        }#T_c71a0624_ead5_11ea_8c04_24ee9ae80742row6_col1{\n",
       "            background-color:  #75b4d8;\n",
       "            color:  #000000;\n",
       "        }#T_c71a0624_ead5_11ea_8c04_24ee9ae80742row7_col1{\n",
       "            background-color:  #81badb;\n",
       "            color:  #000000;\n",
       "        }#T_c71a0624_ead5_11ea_8c04_24ee9ae80742row8_col1{\n",
       "            background-color:  #a6cee4;\n",
       "            color:  #000000;\n",
       "        }#T_c71a0624_ead5_11ea_8c04_24ee9ae80742row9_col1{\n",
       "            background-color:  #abd0e6;\n",
       "            color:  #000000;\n",
       "        }#T_c71a0624_ead5_11ea_8c04_24ee9ae80742row10_col1{\n",
       "            background-color:  #add0e6;\n",
       "            color:  #000000;\n",
       "        }#T_c71a0624_ead5_11ea_8c04_24ee9ae80742row11_col1{\n",
       "            background-color:  #b5d4e9;\n",
       "            color:  #000000;\n",
       "        }#T_c71a0624_ead5_11ea_8c04_24ee9ae80742row12_col1{\n",
       "            background-color:  #b7d4ea;\n",
       "            color:  #000000;\n",
       "        }#T_c71a0624_ead5_11ea_8c04_24ee9ae80742row13_col1{\n",
       "            background-color:  #bed8ec;\n",
       "            color:  #000000;\n",
       "        }#T_c71a0624_ead5_11ea_8c04_24ee9ae80742row14_col1{\n",
       "            background-color:  #cee0f2;\n",
       "            color:  #000000;\n",
       "        }#T_c71a0624_ead5_11ea_8c04_24ee9ae80742row15_col1{\n",
       "            background-color:  #cfe1f2;\n",
       "            color:  #000000;\n",
       "        }#T_c71a0624_ead5_11ea_8c04_24ee9ae80742row16_col1{\n",
       "            background-color:  #d4e4f4;\n",
       "            color:  #000000;\n",
       "        }#T_c71a0624_ead5_11ea_8c04_24ee9ae80742row17_col1{\n",
       "            background-color:  #d9e7f5;\n",
       "            color:  #000000;\n",
       "        }#T_c71a0624_ead5_11ea_8c04_24ee9ae80742row18_col1{\n",
       "            background-color:  #f7fbff;\n",
       "            color:  #000000;\n",
       "        }</style><table id=\"T_c71a0624_ead5_11ea_8c04_24ee9ae80742\" ><thead>    <tr>        <th class=\"blank level0\" ></th>        <th class=\"col_heading level0 col0\" >Number of trees</th>        <th class=\"col_heading level0 col1\" >ACCURACY</th>    </tr></thead><tbody>\n",
       "                <tr>\n",
       "                        <th id=\"T_c71a0624_ead5_11ea_8c04_24ee9ae80742level0_row0\" class=\"row_heading level0 row0\" >0</th>\n",
       "                        <td id=\"T_c71a0624_ead5_11ea_8c04_24ee9ae80742row0_col0\" class=\"data row0 col0\" >40</td>\n",
       "                        <td id=\"T_c71a0624_ead5_11ea_8c04_24ee9ae80742row0_col1\" class=\"data row0 col1\" >0.917846</td>\n",
       "            </tr>\n",
       "            <tr>\n",
       "                        <th id=\"T_c71a0624_ead5_11ea_8c04_24ee9ae80742level0_row1\" class=\"row_heading level0 row1\" >1</th>\n",
       "                        <td id=\"T_c71a0624_ead5_11ea_8c04_24ee9ae80742row1_col0\" class=\"data row1 col0\" >30</td>\n",
       "                        <td id=\"T_c71a0624_ead5_11ea_8c04_24ee9ae80742row1_col1\" class=\"data row1 col1\" >0.914527</td>\n",
       "            </tr>\n",
       "            <tr>\n",
       "                        <th id=\"T_c71a0624_ead5_11ea_8c04_24ee9ae80742level0_row2\" class=\"row_heading level0 row2\" >2</th>\n",
       "                        <td id=\"T_c71a0624_ead5_11ea_8c04_24ee9ae80742row2_col0\" class=\"data row2 col0\" >50</td>\n",
       "                        <td id=\"T_c71a0624_ead5_11ea_8c04_24ee9ae80742row2_col1\" class=\"data row2 col1\" >0.914173</td>\n",
       "            </tr>\n",
       "            <tr>\n",
       "                        <th id=\"T_c71a0624_ead5_11ea_8c04_24ee9ae80742level0_row3\" class=\"row_heading level0 row3\" >3</th>\n",
       "                        <td id=\"T_c71a0624_ead5_11ea_8c04_24ee9ae80742row3_col0\" class=\"data row3 col0\" >20</td>\n",
       "                        <td id=\"T_c71a0624_ead5_11ea_8c04_24ee9ae80742row3_col1\" class=\"data row3 col1\" >0.913007</td>\n",
       "            </tr>\n",
       "            <tr>\n",
       "                        <th id=\"T_c71a0624_ead5_11ea_8c04_24ee9ae80742level0_row4\" class=\"row_heading level0 row4\" >4</th>\n",
       "                        <td id=\"T_c71a0624_ead5_11ea_8c04_24ee9ae80742row4_col0\" class=\"data row4 col0\" >60</td>\n",
       "                        <td id=\"T_c71a0624_ead5_11ea_8c04_24ee9ae80742row4_col1\" class=\"data row4 col1\" >0.912395</td>\n",
       "            </tr>\n",
       "            <tr>\n",
       "                        <th id=\"T_c71a0624_ead5_11ea_8c04_24ee9ae80742level0_row5\" class=\"row_heading level0 row5\" >5</th>\n",
       "                        <td id=\"T_c71a0624_ead5_11ea_8c04_24ee9ae80742row5_col0\" class=\"data row5 col0\" >80</td>\n",
       "                        <td id=\"T_c71a0624_ead5_11ea_8c04_24ee9ae80742row5_col1\" class=\"data row5 col1\" >0.912235</td>\n",
       "            </tr>\n",
       "            <tr>\n",
       "                        <th id=\"T_c71a0624_ead5_11ea_8c04_24ee9ae80742level0_row6\" class=\"row_heading level0 row6\" >6</th>\n",
       "                        <td id=\"T_c71a0624_ead5_11ea_8c04_24ee9ae80742row6_col0\" class=\"data row6 col0\" >70</td>\n",
       "                        <td id=\"T_c71a0624_ead5_11ea_8c04_24ee9ae80742row6_col1\" class=\"data row6 col1\" >0.912139</td>\n",
       "            </tr>\n",
       "            <tr>\n",
       "                        <th id=\"T_c71a0624_ead5_11ea_8c04_24ee9ae80742level0_row7\" class=\"row_heading level0 row7\" >7</th>\n",
       "                        <td id=\"T_c71a0624_ead5_11ea_8c04_24ee9ae80742row7_col0\" class=\"data row7 col0\" >90</td>\n",
       "                        <td id=\"T_c71a0624_ead5_11ea_8c04_24ee9ae80742row7_col1\" class=\"data row7 col1\" >0.911879</td>\n",
       "            </tr>\n",
       "            <tr>\n",
       "                        <th id=\"T_c71a0624_ead5_11ea_8c04_24ee9ae80742level0_row8\" class=\"row_heading level0 row8\" >8</th>\n",
       "                        <td id=\"T_c71a0624_ead5_11ea_8c04_24ee9ae80742row8_col0\" class=\"data row8 col0\" >100</td>\n",
       "                        <td id=\"T_c71a0624_ead5_11ea_8c04_24ee9ae80742row8_col1\" class=\"data row8 col1\" >0.910822</td>\n",
       "            </tr>\n",
       "            <tr>\n",
       "                        <th id=\"T_c71a0624_ead5_11ea_8c04_24ee9ae80742level0_row9\" class=\"row_heading level0 row9\" >9</th>\n",
       "                        <td id=\"T_c71a0624_ead5_11ea_8c04_24ee9ae80742row9_col0\" class=\"data row9 col0\" >110</td>\n",
       "                        <td id=\"T_c71a0624_ead5_11ea_8c04_24ee9ae80742row9_col1\" class=\"data row9 col1\" >0.910629</td>\n",
       "            </tr>\n",
       "            <tr>\n",
       "                        <th id=\"T_c71a0624_ead5_11ea_8c04_24ee9ae80742level0_row10\" class=\"row_heading level0 row10\" >10</th>\n",
       "                        <td id=\"T_c71a0624_ead5_11ea_8c04_24ee9ae80742row10_col0\" class=\"data row10 col0\" >150</td>\n",
       "                        <td id=\"T_c71a0624_ead5_11ea_8c04_24ee9ae80742row10_col1\" class=\"data row10 col1\" >0.910575</td>\n",
       "            </tr>\n",
       "            <tr>\n",
       "                        <th id=\"T_c71a0624_ead5_11ea_8c04_24ee9ae80742level0_row11\" class=\"row_heading level0 row11\" >11</th>\n",
       "                        <td id=\"T_c71a0624_ead5_11ea_8c04_24ee9ae80742row11_col0\" class=\"data row11 col0\" >140</td>\n",
       "                        <td id=\"T_c71a0624_ead5_11ea_8c04_24ee9ae80742row11_col1\" class=\"data row11 col1\" >0.910301</td>\n",
       "            </tr>\n",
       "            <tr>\n",
       "                        <th id=\"T_c71a0624_ead5_11ea_8c04_24ee9ae80742level0_row12\" class=\"row_heading level0 row12\" >12</th>\n",
       "                        <td id=\"T_c71a0624_ead5_11ea_8c04_24ee9ae80742row12_col0\" class=\"data row12 col0\" >130</td>\n",
       "                        <td id=\"T_c71a0624_ead5_11ea_8c04_24ee9ae80742row12_col1\" class=\"data row12 col1\" >0.910254</td>\n",
       "            </tr>\n",
       "            <tr>\n",
       "                        <th id=\"T_c71a0624_ead5_11ea_8c04_24ee9ae80742level0_row13\" class=\"row_heading level0 row13\" >13</th>\n",
       "                        <td id=\"T_c71a0624_ead5_11ea_8c04_24ee9ae80742row13_col0\" class=\"data row13 col0\" >120</td>\n",
       "                        <td id=\"T_c71a0624_ead5_11ea_8c04_24ee9ae80742row13_col1\" class=\"data row13 col1\" >0.909993</td>\n",
       "            </tr>\n",
       "            <tr>\n",
       "                        <th id=\"T_c71a0624_ead5_11ea_8c04_24ee9ae80742level0_row14\" class=\"row_heading level0 row14\" >14</th>\n",
       "                        <td id=\"T_c71a0624_ead5_11ea_8c04_24ee9ae80742row14_col0\" class=\"data row14 col0\" >180</td>\n",
       "                        <td id=\"T_c71a0624_ead5_11ea_8c04_24ee9ae80742row14_col1\" class=\"data row14 col1\" >0.909279</td>\n",
       "            </tr>\n",
       "            <tr>\n",
       "                        <th id=\"T_c71a0624_ead5_11ea_8c04_24ee9ae80742level0_row15\" class=\"row_heading level0 row15\" >15</th>\n",
       "                        <td id=\"T_c71a0624_ead5_11ea_8c04_24ee9ae80742row15_col0\" class=\"data row15 col0\" >160</td>\n",
       "                        <td id=\"T_c71a0624_ead5_11ea_8c04_24ee9ae80742row15_col1\" class=\"data row15 col1\" >0.909222</td>\n",
       "            </tr>\n",
       "            <tr>\n",
       "                        <th id=\"T_c71a0624_ead5_11ea_8c04_24ee9ae80742level0_row16\" class=\"row_heading level0 row16\" >16</th>\n",
       "                        <td id=\"T_c71a0624_ead5_11ea_8c04_24ee9ae80742row16_col0\" class=\"data row16 col0\" >190</td>\n",
       "                        <td id=\"T_c71a0624_ead5_11ea_8c04_24ee9ae80742row16_col1\" class=\"data row16 col1\" >0.908950</td>\n",
       "            </tr>\n",
       "            <tr>\n",
       "                        <th id=\"T_c71a0624_ead5_11ea_8c04_24ee9ae80742level0_row17\" class=\"row_heading level0 row17\" >17</th>\n",
       "                        <td id=\"T_c71a0624_ead5_11ea_8c04_24ee9ae80742row17_col0\" class=\"data row17 col0\" >170</td>\n",
       "                        <td id=\"T_c71a0624_ead5_11ea_8c04_24ee9ae80742row17_col1\" class=\"data row17 col1\" >0.908668</td>\n",
       "            </tr>\n",
       "            <tr>\n",
       "                        <th id=\"T_c71a0624_ead5_11ea_8c04_24ee9ae80742level0_row18\" class=\"row_heading level0 row18\" >18</th>\n",
       "                        <td id=\"T_c71a0624_ead5_11ea_8c04_24ee9ae80742row18_col0\" class=\"data row18 col0\" >10</td>\n",
       "                        <td id=\"T_c71a0624_ead5_11ea_8c04_24ee9ae80742row18_col1\" class=\"data row18 col1\" >0.907015</td>\n",
       "            </tr>\n",
       "    </tbody></table>"
      ],
      "text/plain": [
       "<pandas.io.formats.style.Styler at 0x196972667c8>"
      ]
     },
     "execution_count": 54,
     "metadata": {},
     "output_type": "execute_result"
    }
   ],
   "source": [
    "from sklearn.ensemble import BaggingRegressor\n",
    "\n",
    "list_BR=[]\n",
    "#Tune number of trees\n",
    "for i in range(10,200,10):\n",
    "    model_BR=BaggingRegressor(n_estimators=i,oob_score=True,random_state=200)\n",
    "    model_BR.fit(x_train,y_train)\n",
    "    dict_BR={}\n",
    "    dict_BR[\"Number of trees\"] = str(i)\n",
    "    dict_BR[\"ACCURACY\"]=model_BR.score(x_test,y_test)\n",
    "    list_BR.append(dict_BR)\n",
    "    \n",
    "(pd.DataFrame(list_BR)\n",
    "     .sort_values(by=['ACCURACY'],ascending=False)\n",
    "     .reset_index(drop=True)\n",
    "     .style.background_gradient(cmap='Blues'))"
   ]
  },
  {
   "cell_type": "code",
   "execution_count": 55,
   "metadata": {},
   "outputs": [
    {
     "data": {
      "text/plain": [
       "BaggingRegressor(n_estimators=40, oob_score=True, random_state=200)"
      ]
     },
     "execution_count": 55,
     "metadata": {},
     "output_type": "execute_result"
    }
   ],
   "source": [
    "model_BR=BaggingRegressor(n_estimators=40,oob_score=True,random_state=200)\n",
    "model_BR.fit(x_train,y_train)"
   ]
  },
  {
   "cell_type": "code",
   "execution_count": 56,
   "metadata": {},
   "outputs": [
    {
     "name": "stdout",
     "output_type": "stream",
     "text": [
      "Train Accuracy : 0.9886259453086359\n",
      "Test Accuracy : 0.9178461822917738\n"
     ]
    }
   ],
   "source": [
    "BR_score_train = model_BR.score(x_train,y_train)\n",
    "print(\"Train Accuracy :\",BR_score_train)\n",
    "\n",
    "BR_score_test = model_BR.score(x_test,y_test)\n",
    "print(\"Test Accuracy :\",BR_score_test)"
   ]
  },
  {
   "cell_type": "code",
   "execution_count": 57,
   "metadata": {},
   "outputs": [
    {
     "name": "stdout",
     "output_type": "stream",
     "text": [
      "MAE: 1561.133266532258\n",
      "MSE: 5425222.097138057\n",
      "RMSE: 2329.2106167408\n"
     ]
    }
   ],
   "source": [
    "#### predicting 'price' using lin_reg\n",
    "predictions_BR = model_BR.predict(x_test)\n",
    "\n",
    "from sklearn import metrics\n",
    "\n",
    "print('MAE:', metrics.mean_absolute_error(y_test, predictions_BR))\n",
    "print('MSE:', metrics.mean_squared_error(y_test, predictions_BR))\n",
    "BR_RMSE=np.sqrt(metrics.mean_squared_error(y_test, predictions_BR))\n",
    "print('RMSE:', BR_RMSE)"
   ]
  },
  {
   "cell_type": "code",
   "execution_count": 58,
   "metadata": {},
   "outputs": [],
   "source": [
    "dict_BR = {'MODEL':'Bagging Regressor',\n",
    "           'Train_ACCURACY':BR_score_train,\n",
    "           'Test_ACCURACY':BR_score_test,\n",
    "           'RMSE':BR_RMSE\n",
    "          }\n",
    "final_results.append(dict_BR)"
   ]
  },
  {
   "cell_type": "markdown",
   "metadata": {},
   "source": [
    "## ElasticNet Regressor"
   ]
  },
  {
   "cell_type": "code",
   "execution_count": 59,
   "metadata": {},
   "outputs": [
    {
     "data": {
      "text/plain": [
       "ElasticNet(random_state=0)"
      ]
     },
     "execution_count": 59,
     "metadata": {},
     "output_type": "execute_result"
    }
   ],
   "source": [
    "from sklearn.linear_model import ElasticNet\n",
    "model_ENR = ElasticNet(random_state=0)\n",
    "model_ENR.fit(x_train,y_train)"
   ]
  },
  {
   "cell_type": "code",
   "execution_count": 60,
   "metadata": {},
   "outputs": [
    {
     "name": "stdout",
     "output_type": "stream",
     "text": [
      "Train Accuracy : 0.8563475978333301\n",
      "Test Accuracy  : 0.8235110288331771\n"
     ]
    }
   ],
   "source": [
    "ENR_score_train = model_ENR.score(x_train,y_train)\n",
    "print(\"Train Accuracy :\",ENR_score_train)\n",
    "\n",
    "ENR_score_test = model_ENR.score(x_test,y_test)\n",
    "print(\"Test Accuracy  :\",ENR_score_test)"
   ]
  },
  {
   "cell_type": "code",
   "execution_count": 61,
   "metadata": {},
   "outputs": [
    {
     "name": "stdout",
     "output_type": "stream",
     "text": [
      "MAE: 2177.5442315710934\n",
      "MSE: 11654867.57628227\n",
      "RMSE: 3413.922608420154\n"
     ]
    }
   ],
   "source": [
    "#### predicting 'price' using ElasticNet Regressor\n",
    "predictions_ENR = model_ENR.predict(x_test)\n",
    "\n",
    "from sklearn import metrics\n",
    "\n",
    "print('MAE:', metrics.mean_absolute_error(y_test, predictions_ENR))\n",
    "print('MSE:', metrics.mean_squared_error(y_test, predictions_ENR))\n",
    "ENR_RMSE=np.sqrt(metrics.mean_squared_error(y_test, predictions_ENR))\n",
    "print('RMSE:', ENR_RMSE)"
   ]
  },
  {
   "cell_type": "code",
   "execution_count": 62,
   "metadata": {},
   "outputs": [],
   "source": [
    "dict_ENR = {'MODEL':'ElasticNet Regressor',\n",
    "            'Train_ACCURACY':ENR_score_train,\n",
    "            'Test_ACCURACY':ENR_score_test,\n",
    "            'RMSE':ENR_RMSE\n",
    "           }\n",
    "final_results.append(dict_ENR)"
   ]
  },
  {
   "cell_type": "markdown",
   "metadata": {},
   "source": [
    "## Gradient Boosting Regressor"
   ]
  },
  {
   "cell_type": "code",
   "execution_count": 63,
   "metadata": {},
   "outputs": [
    {
     "data": {
      "text/plain": [
       "GradientBoostingRegressor()"
      ]
     },
     "execution_count": 63,
     "metadata": {},
     "output_type": "execute_result"
    }
   ],
   "source": [
    "from sklearn.ensemble import GradientBoostingRegressor\n",
    "model_GBR = GradientBoostingRegressor()\n",
    "model_GBR.fit(x_train,y_train)"
   ]
  },
  {
   "cell_type": "code",
   "execution_count": 64,
   "metadata": {},
   "outputs": [
    {
     "name": "stdout",
     "output_type": "stream",
     "text": [
      "Train Accuracy : 0.9942508585108231\n",
      "Test Accuracy  : 0.907653503437977\n"
     ]
    }
   ],
   "source": [
    "GBR_score_train = model_GBR.score(x_train,y_train)\n",
    "print(\"Train Accuracy :\",GBR_score_train)\n",
    "\n",
    "GBR_score_test = model_GBR.score(x_test,y_test)\n",
    "print(\"Test Accuracy  :\",GBR_score_test)"
   ]
  },
  {
   "cell_type": "code",
   "execution_count": 65,
   "metadata": {},
   "outputs": [
    {
     "name": "stdout",
     "output_type": "stream",
     "text": [
      "MAE: 1589.7051600620339\n",
      "MSE: 6098319.806888355\n",
      "RMSE: 2469.4776384669603\n"
     ]
    }
   ],
   "source": [
    "#### predicting 'price' using ElasticNet Regressor\n",
    "predictions_GBR = model_GBR.predict(x_test)\n",
    "\n",
    "from sklearn import metrics\n",
    "\n",
    "print('MAE:', metrics.mean_absolute_error(y_test, predictions_GBR))\n",
    "print('MSE:', metrics.mean_squared_error(y_test, predictions_GBR))\n",
    "GBR_RMSE=np.sqrt(metrics.mean_squared_error(y_test, predictions_GBR))\n",
    "print('RMSE:', GBR_RMSE)"
   ]
  },
  {
   "cell_type": "code",
   "execution_count": 66,
   "metadata": {},
   "outputs": [],
   "source": [
    "dict_GBR = {'MODEL':'Gradient Boosting Regressor',\n",
    "            'Train_ACCURACY':GBR_score_train,\n",
    "            'Test_ACCURACY':GBR_score_test,\n",
    "            'RMSE':GBR_RMSE\n",
    "           }\n",
    "final_results.append(dict_GBR)"
   ]
  },
  {
   "cell_type": "markdown",
   "metadata": {},
   "source": [
    "## Histogram-Based Gradient Boosting Regressor"
   ]
  },
  {
   "cell_type": "code",
   "execution_count": 67,
   "metadata": {},
   "outputs": [
    {
     "data": {
      "text/plain": [
       "HistGradientBoostingRegressor()"
      ]
     },
     "execution_count": 67,
     "metadata": {},
     "output_type": "execute_result"
    }
   ],
   "source": [
    "from sklearn.experimental import enable_hist_gradient_boosting\n",
    "from sklearn.ensemble import HistGradientBoostingRegressor\n",
    "model_HGBR = HistGradientBoostingRegressor()\n",
    "model_HGBR.fit(x_train,y_train)"
   ]
  },
  {
   "cell_type": "code",
   "execution_count": 68,
   "metadata": {},
   "outputs": [
    {
     "name": "stdout",
     "output_type": "stream",
     "text": [
      "Train Accuracy : 0.9636892964789147\n",
      "Test Accuracy  : 0.889279745320581\n"
     ]
    }
   ],
   "source": [
    "HGBR_score_train = model_HGBR.score(x_train,y_train)\n",
    "print(\"Train Accuracy :\",HGBR_score_train)\n",
    "\n",
    "HGBR_score_test = model_HGBR.score(x_test,y_test)\n",
    "print(\"Test Accuracy  :\",HGBR_score_test)"
   ]
  },
  {
   "cell_type": "code",
   "execution_count": 69,
   "metadata": {},
   "outputs": [
    {
     "name": "stdout",
     "output_type": "stream",
     "text": [
      "MAE: 1833.2560112069134\n",
      "MSE: 7311674.4789742185\n",
      "RMSE: 2704.010813398167\n"
     ]
    }
   ],
   "source": [
    "#### predicting 'price' using Histogram-Based Gradient Boosting Regressor\n",
    "predictions_HGBR = model_HGBR.predict(x_test)\n",
    "\n",
    "from sklearn import metrics\n",
    "\n",
    "print('MAE:', metrics.mean_absolute_error(y_test, predictions_HGBR))\n",
    "print('MSE:', metrics.mean_squared_error(y_test, predictions_HGBR))\n",
    "HGBR_RMSE=np.sqrt(metrics.mean_squared_error(y_test, predictions_HGBR))\n",
    "print('RMSE:', HGBR_RMSE)"
   ]
  },
  {
   "cell_type": "code",
   "execution_count": 70,
   "metadata": {},
   "outputs": [],
   "source": [
    "dict_HGBR = {'MODEL':'Histogram Based GBR',\n",
    "             'Train_ACCURACY':HGBR_score_train,\n",
    "             'Test_ACCURACY':HGBR_score_test,\n",
    "             'RMSE':HGBR_RMSE\n",
    "            }\n",
    "final_results.append(dict_HGBR)"
   ]
  },
  {
   "cell_type": "markdown",
   "metadata": {},
   "source": [
    "## Gradient Boosting With XGBoost Regressor"
   ]
  },
  {
   "cell_type": "code",
   "execution_count": 71,
   "metadata": {},
   "outputs": [
    {
     "data": {
      "text/plain": [
       "XGBRegressor(base_score=0.5, booster='gbtree', colsample_bylevel=1,\n",
       "             colsample_bynode=1, colsample_bytree=1, gamma=0, gpu_id=-1,\n",
       "             importance_type='gain', interaction_constraints='',\n",
       "             learning_rate=0.300000012, max_delta_step=0, max_depth=6,\n",
       "             min_child_weight=1, missing=nan, monotone_constraints='()',\n",
       "             n_estimators=100, n_jobs=0, num_parallel_tree=1, random_state=0,\n",
       "             reg_alpha=0, reg_lambda=1, scale_pos_weight=1, subsample=1,\n",
       "             tree_method='exact', validate_parameters=1, verbosity=None)"
      ]
     },
     "execution_count": 71,
     "metadata": {},
     "output_type": "execute_result"
    }
   ],
   "source": [
    "from xgboost import XGBRegressor\n",
    "model_XGBR = XGBRegressor()\n",
    "model_XGBR.fit(x_train,y_train)"
   ]
  },
  {
   "cell_type": "code",
   "execution_count": 72,
   "metadata": {},
   "outputs": [
    {
     "name": "stdout",
     "output_type": "stream",
     "text": [
      "Train Accuracy : 0.998523693850276\n",
      "Train Accuracy : 0.9055217582551045\n"
     ]
    }
   ],
   "source": [
    "XGBR_score_train = model_XGBR.score(x_train,y_train)\n",
    "print(\"Train Accuracy :\",XGBR_score_train)\n",
    "\n",
    "XGBR_score_test = model_XGBR.score(x_test,y_test)\n",
    "print(\"Train Accuracy :\",XGBR_score_test)"
   ]
  },
  {
   "cell_type": "code",
   "execution_count": 73,
   "metadata": {},
   "outputs": [
    {
     "name": "stdout",
     "output_type": "stream",
     "text": [
      "MAE: 1696.7096537928428\n",
      "MSE: 6239094.653319247\n",
      "RMSE: 2497.8179784202143\n"
     ]
    }
   ],
   "source": [
    "#### predicting 'price' using XGBRegressor\n",
    "predictions_XGBR = model_XGBR.predict(x_test)\n",
    "\n",
    "from sklearn import metrics\n",
    "\n",
    "print('MAE:', metrics.mean_absolute_error(y_test, predictions_XGBR))\n",
    "print('MSE:', metrics.mean_squared_error(y_test, predictions_XGBR))\n",
    "XGBR_RMSE=np.sqrt(metrics.mean_squared_error(y_test, predictions_XGBR))\n",
    "print('RMSE:', XGBR_RMSE)"
   ]
  },
  {
   "cell_type": "code",
   "execution_count": 74,
   "metadata": {},
   "outputs": [],
   "source": [
    "dict_XGBR = {'MODEL':'XGBoost Regressor',\n",
    "             'Train_ACCURACY':XGBR_score_train,\n",
    "             'Test_ACCURACY':XGBR_score_test,\n",
    "             'RMSE':XGBR_RMSE\n",
    "            }\n",
    "final_results.append(dict_XGBR)"
   ]
  },
  {
   "cell_type": "markdown",
   "metadata": {},
   "source": [
    "## Gradient Boosting With LightGBM Regressor"
   ]
  },
  {
   "cell_type": "code",
   "execution_count": 75,
   "metadata": {},
   "outputs": [
    {
     "data": {
      "text/plain": [
       "LGBMRegressor()"
      ]
     },
     "execution_count": 75,
     "metadata": {},
     "output_type": "execute_result"
    }
   ],
   "source": [
    "from lightgbm import LGBMRegressor\n",
    "model_LGBR = LGBMRegressor()\n",
    "model_LGBR.fit(x_train,y_train)"
   ]
  },
  {
   "cell_type": "code",
   "execution_count": 76,
   "metadata": {},
   "outputs": [
    {
     "name": "stdout",
     "output_type": "stream",
     "text": [
      "Train Accuracy : 0.9609605280364496\n",
      "Test Accuracy  : 0.8780216588918559\n"
     ]
    }
   ],
   "source": [
    "LGBR_score_train = model_LGBR.score(x_train,y_train)\n",
    "print(\"Train Accuracy :\",LGBR_score_train)\n",
    "\n",
    "LGBR_score_test = model_LGBR.score(x_test,y_test)\n",
    "print(\"Test Accuracy  :\",LGBR_score_test)"
   ]
  },
  {
   "cell_type": "code",
   "execution_count": 77,
   "metadata": {},
   "outputs": [
    {
     "name": "stdout",
     "output_type": "stream",
     "text": [
      "MAE: 1876.6765463516463\n",
      "MSE: 8055128.903472544\n",
      "RMSE: 2838.155898373545\n"
     ]
    }
   ],
   "source": [
    "#### predicting 'price' using XGBRegressor\n",
    "predictions_LGBR = model_LGBR.predict(x_test)\n",
    "\n",
    "from sklearn import metrics\n",
    "\n",
    "print('MAE:', metrics.mean_absolute_error(y_test, predictions_LGBR))\n",
    "print('MSE:', metrics.mean_squared_error(y_test, predictions_LGBR))\n",
    "LGBR_RMSE=np.sqrt(metrics.mean_squared_error(y_test, predictions_LGBR))\n",
    "print('RMSE:', LGBR_RMSE)"
   ]
  },
  {
   "cell_type": "code",
   "execution_count": 78,
   "metadata": {},
   "outputs": [],
   "source": [
    "dict_LGBR = {'MODEL':'LightGBM Regressor',\n",
    "             'Train_ACCURACY':LGBR_score_train,\n",
    "             'Test_ACCURACY':LGBR_score_test,\n",
    "             'RMSE':LGBR_RMSE\n",
    "            }\n",
    "final_results.append(dict_LGBR)"
   ]
  },
  {
   "cell_type": "markdown",
   "metadata": {},
   "source": [
    "## Gradient Boosting with CatBoost"
   ]
  },
  {
   "cell_type": "code",
   "execution_count": 79,
   "metadata": {
    "scrolled": true
   },
   "outputs": [
    {
     "data": {
      "text/plain": [
       "<catboost.core.CatBoostRegressor at 0x1969cd39d48>"
      ]
     },
     "execution_count": 79,
     "metadata": {},
     "output_type": "execute_result"
    }
   ],
   "source": [
    "from catboost import CatBoostRegressor\n",
    "model_CGBR = CatBoostRegressor(verbose=0, n_estimators=100)\n",
    "model_CGBR.fit(x_train,y_train)"
   ]
  },
  {
   "cell_type": "code",
   "execution_count": 80,
   "metadata": {},
   "outputs": [
    {
     "name": "stdout",
     "output_type": "stream",
     "text": [
      "Train Accuracy : 0.992900343375794\n",
      "Test Accuracy  : 0.9192606254631139\n"
     ]
    }
   ],
   "source": [
    "CGBR_score_train = model_CGBR.score(x_train,y_train)\n",
    "print(\"Train Accuracy :\",CGBR_score_train)\n",
    "\n",
    "CGBR_score_test = model_CGBR.score(x_test,y_test)\n",
    "print(\"Test Accuracy  :\",CGBR_score_test)"
   ]
  },
  {
   "cell_type": "code",
   "execution_count": 81,
   "metadata": {},
   "outputs": [
    {
     "name": "stdout",
     "output_type": "stream",
     "text": [
      "MAE: 1509.6383901542376\n",
      "MSE: 5331815.989395706\n",
      "RMSE: 2309.0725387903485\n"
     ]
    }
   ],
   "source": [
    "#### predicting 'price' using CatBoost\n",
    "predictions_CGBR = model_CGBR.predict(x_test)\n",
    "\n",
    "from sklearn import metrics\n",
    "\n",
    "print('MAE:', metrics.mean_absolute_error(y_test, predictions_CGBR))\n",
    "print('MSE:', metrics.mean_squared_error(y_test, predictions_CGBR))\n",
    "CGBR_RMSE=np.sqrt(metrics.mean_squared_error(y_test, predictions_CGBR))\n",
    "print('RMSE:', CGBR_RMSE)"
   ]
  },
  {
   "cell_type": "code",
   "execution_count": 82,
   "metadata": {},
   "outputs": [],
   "source": [
    "dict_CGBR = {'MODEL':'CatBoost Regressor',\n",
    "             'Train_ACCURACY':CGBR_score_train,\n",
    "             'Test_ACCURACY':LGBR_score_test,\n",
    "             'RMSE':CGBR_RMSE\n",
    "            }\n",
    "final_results.append(dict_CGBR)"
   ]
  },
  {
   "cell_type": "markdown",
   "metadata": {},
   "source": [
    "# Comparing ACCURACY and RMSE for all models"
   ]
  },
  {
   "cell_type": "code",
   "execution_count": 83,
   "metadata": {
    "scrolled": false
   },
   "outputs": [
    {
     "data": {
      "text/html": [
       "<style  type=\"text/css\" >\n",
       "#T_cf3195a6_ead5_11ea_823f_24ee9ae80742row0_col1{\n",
       "            background-color:  #005a24;\n",
       "            color:  #f1f1f1;\n",
       "        }#T_cf3195a6_ead5_11ea_823f_24ee9ae80742row0_col2,#T_cf3195a6_ead5_11ea_823f_24ee9ae80742row0_col4,#T_cf3195a6_ead5_11ea_823f_24ee9ae80742row1_col1,#T_cf3195a6_ead5_11ea_823f_24ee9ae80742row4_col1,#T_cf3195a6_ead5_11ea_823f_24ee9ae80742row12_col3{\n",
       "            background-color:  #00441b;\n",
       "            color:  #f1f1f1;\n",
       "        }#T_cf3195a6_ead5_11ea_823f_24ee9ae80742row0_col3{\n",
       "            background-color:  #f5fbf2;\n",
       "            color:  #000000;\n",
       "        }#T_cf3195a6_ead5_11ea_823f_24ee9ae80742row1_col2,#T_cf3195a6_ead5_11ea_823f_24ee9ae80742row4_col4{\n",
       "            background-color:  #016e2d;\n",
       "            color:  #f1f1f1;\n",
       "        }#T_cf3195a6_ead5_11ea_823f_24ee9ae80742row1_col3{\n",
       "            background-color:  #dbf1d5;\n",
       "            color:  #000000;\n",
       "        }#T_cf3195a6_ead5_11ea_823f_24ee9ae80742row1_col4{\n",
       "            background-color:  #00471c;\n",
       "            color:  #f1f1f1;\n",
       "        }#T_cf3195a6_ead5_11ea_823f_24ee9ae80742row2_col1,#T_cf3195a6_ead5_11ea_823f_24ee9ae80742row3_col4{\n",
       "            background-color:  #004d1f;\n",
       "            color:  #f1f1f1;\n",
       "        }#T_cf3195a6_ead5_11ea_823f_24ee9ae80742row2_col2{\n",
       "            background-color:  #006729;\n",
       "            color:  #f1f1f1;\n",
       "        }#T_cf3195a6_ead5_11ea_823f_24ee9ae80742row2_col3{\n",
       "            background-color:  #e0f3db;\n",
       "            color:  #000000;\n",
       "        }#T_cf3195a6_ead5_11ea_823f_24ee9ae80742row2_col4{\n",
       "            background-color:  #004a1e;\n",
       "            color:  #f1f1f1;\n",
       "        }#T_cf3195a6_ead5_11ea_823f_24ee9ae80742row3_col1{\n",
       "            background-color:  #005c25;\n",
       "            color:  #f1f1f1;\n",
       "        }#T_cf3195a6_ead5_11ea_823f_24ee9ae80742row3_col2{\n",
       "            background-color:  #005723;\n",
       "            color:  #f1f1f1;\n",
       "        }#T_cf3195a6_ead5_11ea_823f_24ee9ae80742row3_col3{\n",
       "            background-color:  #eaf7e6;\n",
       "            color:  #000000;\n",
       "        }#T_cf3195a6_ead5_11ea_823f_24ee9ae80742row4_col2{\n",
       "            background-color:  #53b466;\n",
       "            color:  #000000;\n",
       "        }#T_cf3195a6_ead5_11ea_823f_24ee9ae80742row4_col3{\n",
       "            background-color:  #7dc87e;\n",
       "            color:  #000000;\n",
       "        }#T_cf3195a6_ead5_11ea_823f_24ee9ae80742row5_col1{\n",
       "            background-color:  #005120;\n",
       "            color:  #f1f1f1;\n",
       "        }#T_cf3195a6_ead5_11ea_823f_24ee9ae80742row5_col2,#T_cf3195a6_ead5_11ea_823f_24ee9ae80742row10_col2{\n",
       "            background-color:  #55b567;\n",
       "            color:  #000000;\n",
       "        }#T_cf3195a6_ead5_11ea_823f_24ee9ae80742row5_col3,#T_cf3195a6_ead5_11ea_823f_24ee9ae80742row12_col1,#T_cf3195a6_ead5_11ea_823f_24ee9ae80742row12_col2,#T_cf3195a6_ead5_11ea_823f_24ee9ae80742row12_col4{\n",
       "            background-color:  #f7fcf5;\n",
       "            color:  #000000;\n",
       "        }#T_cf3195a6_ead5_11ea_823f_24ee9ae80742row5_col4{\n",
       "            background-color:  #097532;\n",
       "            color:  #f1f1f1;\n",
       "        }#T_cf3195a6_ead5_11ea_823f_24ee9ae80742row6_col1,#T_cf3195a6_ead5_11ea_823f_24ee9ae80742row7_col1{\n",
       "            background-color:  #147e3a;\n",
       "            color:  #f1f1f1;\n",
       "        }#T_cf3195a6_ead5_11ea_823f_24ee9ae80742row6_col2{\n",
       "            background-color:  #29914a;\n",
       "            color:  #000000;\n",
       "        }#T_cf3195a6_ead5_11ea_823f_24ee9ae80742row6_col3{\n",
       "            background-color:  #b0dfaa;\n",
       "            color:  #000000;\n",
       "        }#T_cf3195a6_ead5_11ea_823f_24ee9ae80742row6_col4{\n",
       "            background-color:  #137d39;\n",
       "            color:  #f1f1f1;\n",
       "        }#T_cf3195a6_ead5_11ea_823f_24ee9ae80742row7_col2{\n",
       "            background-color:  #319a50;\n",
       "            color:  #000000;\n",
       "        }#T_cf3195a6_ead5_11ea_823f_24ee9ae80742row7_col3{\n",
       "            background-color:  #a4da9e;\n",
       "            color:  #000000;\n",
       "        }#T_cf3195a6_ead5_11ea_823f_24ee9ae80742row7_col4{\n",
       "            background-color:  #17813d;\n",
       "            color:  #f1f1f1;\n",
       "        }#T_cf3195a6_ead5_11ea_823f_24ee9ae80742row8_col1{\n",
       "            background-color:  #1a843f;\n",
       "            color:  #000000;\n",
       "        }#T_cf3195a6_ead5_11ea_823f_24ee9ae80742row8_col2{\n",
       "            background-color:  #2e964d;\n",
       "            color:  #000000;\n",
       "        }#T_cf3195a6_ead5_11ea_823f_24ee9ae80742row8_col3{\n",
       "            background-color:  #a9dca3;\n",
       "            color:  #000000;\n",
       "        }#T_cf3195a6_ead5_11ea_823f_24ee9ae80742row8_col4{\n",
       "            background-color:  #19833e;\n",
       "            color:  #f1f1f1;\n",
       "        }#T_cf3195a6_ead5_11ea_823f_24ee9ae80742row9_col1{\n",
       "            background-color:  #218944;\n",
       "            color:  #000000;\n",
       "        }#T_cf3195a6_ead5_11ea_823f_24ee9ae80742row9_col2{\n",
       "            background-color:  #2f984f;\n",
       "            color:  #000000;\n",
       "        }#T_cf3195a6_ead5_11ea_823f_24ee9ae80742row9_col3{\n",
       "            background-color:  #a7dba0;\n",
       "            color:  #000000;\n",
       "        }#T_cf3195a6_ead5_11ea_823f_24ee9ae80742row9_col4{\n",
       "            background-color:  #1f8742;\n",
       "            color:  #000000;\n",
       "        }#T_cf3195a6_ead5_11ea_823f_24ee9ae80742row10_col1{\n",
       "            background-color:  #268e47;\n",
       "            color:  #000000;\n",
       "        }#T_cf3195a6_ead5_11ea_823f_24ee9ae80742row10_col3{\n",
       "            background-color:  #7cc87c;\n",
       "            color:  #000000;\n",
       "        }#T_cf3195a6_ead5_11ea_823f_24ee9ae80742row10_col4{\n",
       "            background-color:  #2f974e;\n",
       "            color:  #000000;\n",
       "        }#T_cf3195a6_ead5_11ea_823f_24ee9ae80742row11_col1{\n",
       "            background-color:  #83cb82;\n",
       "            color:  #000000;\n",
       "        }#T_cf3195a6_ead5_11ea_823f_24ee9ae80742row11_col2{\n",
       "            background-color:  #7fc97f;\n",
       "            color:  #000000;\n",
       "        }#T_cf3195a6_ead5_11ea_823f_24ee9ae80742row11_col3{\n",
       "            background-color:  #52b365;\n",
       "            color:  #000000;\n",
       "        }#T_cf3195a6_ead5_11ea_823f_24ee9ae80742row11_col4{\n",
       "            background-color:  #7ac77b;\n",
       "            color:  #000000;\n",
       "        }</style><table id=\"T_cf3195a6_ead5_11ea_823f_24ee9ae80742\" ><thead>    <tr>        <th class=\"blank level0\" ></th>        <th class=\"col_heading level0 col0\" >MODEL</th>        <th class=\"col_heading level0 col1\" >Train_ACCURACY</th>        <th class=\"col_heading level0 col2\" >Test_ACCURACY</th>        <th class=\"col_heading level0 col3\" >RMSE</th>        <th class=\"col_heading level0 col4\" >ACCURACY</th>    </tr></thead><tbody>\n",
       "                <tr>\n",
       "                        <th id=\"T_cf3195a6_ead5_11ea_823f_24ee9ae80742level0_row0\" class=\"row_heading level0 row0\" >0</th>\n",
       "                        <td id=\"T_cf3195a6_ead5_11ea_823f_24ee9ae80742row0_col0\" class=\"data row0 col0\" >Bagging Regressor</td>\n",
       "                        <td id=\"T_cf3195a6_ead5_11ea_823f_24ee9ae80742row0_col1\" class=\"data row0 col1\" >0.988626</td>\n",
       "                        <td id=\"T_cf3195a6_ead5_11ea_823f_24ee9ae80742row0_col2\" class=\"data row0 col2\" >0.917846</td>\n",
       "                        <td id=\"T_cf3195a6_ead5_11ea_823f_24ee9ae80742row0_col3\" class=\"data row0 col3\" >2329.210617</td>\n",
       "                        <td id=\"T_cf3195a6_ead5_11ea_823f_24ee9ae80742row0_col4\" class=\"data row0 col4\" >95.323606</td>\n",
       "            </tr>\n",
       "            <tr>\n",
       "                        <th id=\"T_cf3195a6_ead5_11ea_823f_24ee9ae80742level0_row1\" class=\"row_heading level0 row1\" >1</th>\n",
       "                        <td id=\"T_cf3195a6_ead5_11ea_823f_24ee9ae80742row1_col0\" class=\"data row1 col0\" >XGBoost Regressor</td>\n",
       "                        <td id=\"T_cf3195a6_ead5_11ea_823f_24ee9ae80742row1_col1\" class=\"data row1 col1\" >0.998524</td>\n",
       "                        <td id=\"T_cf3195a6_ead5_11ea_823f_24ee9ae80742row1_col2\" class=\"data row1 col2\" >0.905522</td>\n",
       "                        <td id=\"T_cf3195a6_ead5_11ea_823f_24ee9ae80742row1_col3\" class=\"data row1 col3\" >2497.817978</td>\n",
       "                        <td id=\"T_cf3195a6_ead5_11ea_823f_24ee9ae80742row1_col4\" class=\"data row1 col4\" >95.202273</td>\n",
       "            </tr>\n",
       "            <tr>\n",
       "                        <th id=\"T_cf3195a6_ead5_11ea_823f_24ee9ae80742level0_row2\" class=\"row_heading level0 row2\" >2</th>\n",
       "                        <td id=\"T_cf3195a6_ead5_11ea_823f_24ee9ae80742row2_col0\" class=\"data row2 col0\" >Gradient Boosting Regressor</td>\n",
       "                        <td id=\"T_cf3195a6_ead5_11ea_823f_24ee9ae80742row2_col1\" class=\"data row2 col1\" >0.994251</td>\n",
       "                        <td id=\"T_cf3195a6_ead5_11ea_823f_24ee9ae80742row2_col2\" class=\"data row2 col2\" >0.907654</td>\n",
       "                        <td id=\"T_cf3195a6_ead5_11ea_823f_24ee9ae80742row2_col3\" class=\"data row2 col3\" >2469.477638</td>\n",
       "                        <td id=\"T_cf3195a6_ead5_11ea_823f_24ee9ae80742row2_col4\" class=\"data row2 col4\" >95.095218</td>\n",
       "            </tr>\n",
       "            <tr>\n",
       "                        <th id=\"T_cf3195a6_ead5_11ea_823f_24ee9ae80742level0_row3\" class=\"row_heading level0 row3\" >3</th>\n",
       "                        <td id=\"T_cf3195a6_ead5_11ea_823f_24ee9ae80742row3_col0\" class=\"data row3 col0\" >Random Forest Regressor</td>\n",
       "                        <td id=\"T_cf3195a6_ead5_11ea_823f_24ee9ae80742row3_col1\" class=\"data row3 col1\" >0.987491</td>\n",
       "                        <td id=\"T_cf3195a6_ead5_11ea_823f_24ee9ae80742row3_col2\" class=\"data row3 col2\" >0.912008</td>\n",
       "                        <td id=\"T_cf3195a6_ead5_11ea_823f_24ee9ae80742row3_col3\" class=\"data row3 col3\" >2410.549291</td>\n",
       "                        <td id=\"T_cf3195a6_ead5_11ea_823f_24ee9ae80742row3_col4\" class=\"data row3 col4\" >94.974949</td>\n",
       "            </tr>\n",
       "            <tr>\n",
       "                        <th id=\"T_cf3195a6_ead5_11ea_823f_24ee9ae80742level0_row4\" class=\"row_heading level0 row4\" >4</th>\n",
       "                        <td id=\"T_cf3195a6_ead5_11ea_823f_24ee9ae80742row4_col0\" class=\"data row4 col0\" >KNN Regressor</td>\n",
       "                        <td id=\"T_cf3195a6_ead5_11ea_823f_24ee9ae80742row4_col1\" class=\"data row4 col1\" >0.998525</td>\n",
       "                        <td id=\"T_cf3195a6_ead5_11ea_823f_24ee9ae80742row4_col2\" class=\"data row4 col2\" >0.878351</td>\n",
       "                        <td id=\"T_cf3195a6_ead5_11ea_823f_24ee9ae80742row4_col3\" class=\"data row4 col3\" >2834.324839</td>\n",
       "                        <td id=\"T_cf3195a6_ead5_11ea_823f_24ee9ae80742row4_col4\" class=\"data row4 col4\" >93.843770</td>\n",
       "            </tr>\n",
       "            <tr>\n",
       "                        <th id=\"T_cf3195a6_ead5_11ea_823f_24ee9ae80742level0_row5\" class=\"row_heading level0 row5\" >5</th>\n",
       "                        <td id=\"T_cf3195a6_ead5_11ea_823f_24ee9ae80742row5_col0\" class=\"data row5 col0\" >CatBoost Regressor</td>\n",
       "                        <td id=\"T_cf3195a6_ead5_11ea_823f_24ee9ae80742row5_col1\" class=\"data row5 col1\" >0.992900</td>\n",
       "                        <td id=\"T_cf3195a6_ead5_11ea_823f_24ee9ae80742row5_col2\" class=\"data row5 col2\" >0.878022</td>\n",
       "                        <td id=\"T_cf3195a6_ead5_11ea_823f_24ee9ae80742row5_col3\" class=\"data row5 col3\" >2309.072539</td>\n",
       "                        <td id=\"T_cf3195a6_ead5_11ea_823f_24ee9ae80742row5_col4\" class=\"data row5 col4\" >93.546100</td>\n",
       "            </tr>\n",
       "            <tr>\n",
       "                        <th id=\"T_cf3195a6_ead5_11ea_823f_24ee9ae80742level0_row6\" class=\"row_heading level0 row6\" >6</th>\n",
       "                        <td id=\"T_cf3195a6_ead5_11ea_823f_24ee9ae80742row6_col0\" class=\"data row6 col0\" >Linear Regression</td>\n",
       "                        <td id=\"T_cf3195a6_ead5_11ea_823f_24ee9ae80742row6_col1\" class=\"data row6 col1\" >0.970600</td>\n",
       "                        <td id=\"T_cf3195a6_ead5_11ea_823f_24ee9ae80742row6_col2\" class=\"data row6 col2\" >0.892048</td>\n",
       "                        <td id=\"T_cf3195a6_ead5_11ea_823f_24ee9ae80742row6_col3\" class=\"data row6 col3\" >2669.989321</td>\n",
       "                        <td id=\"T_cf3195a6_ead5_11ea_823f_24ee9ae80742row6_col4\" class=\"data row6 col4\" >93.132422</td>\n",
       "            </tr>\n",
       "            <tr>\n",
       "                        <th id=\"T_cf3195a6_ead5_11ea_823f_24ee9ae80742level0_row7\" class=\"row_heading level0 row7\" >7</th>\n",
       "                        <td id=\"T_cf3195a6_ead5_11ea_823f_24ee9ae80742row7_col0\" class=\"data row7 col0\" >Ridge Regression</td>\n",
       "                        <td id=\"T_cf3195a6_ead5_11ea_823f_24ee9ae80742row7_col1\" class=\"data row7 col1\" >0.970327</td>\n",
       "                        <td id=\"T_cf3195a6_ead5_11ea_823f_24ee9ae80742row7_col2\" class=\"data row7 col2\" >0.888548</td>\n",
       "                        <td id=\"T_cf3195a6_ead5_11ea_823f_24ee9ae80742row7_col3\" class=\"data row7 col3\" >2712.925884</td>\n",
       "                        <td id=\"T_cf3195a6_ead5_11ea_823f_24ee9ae80742row7_col4\" class=\"data row7 col4\" >92.943788</td>\n",
       "            </tr>\n",
       "            <tr>\n",
       "                        <th id=\"T_cf3195a6_ead5_11ea_823f_24ee9ae80742level0_row8\" class=\"row_heading level0 row8\" >8</th>\n",
       "                        <td id=\"T_cf3195a6_ead5_11ea_823f_24ee9ae80742row8_col0\" class=\"data row8 col0\" >Lasso Regression</td>\n",
       "                        <td id=\"T_cf3195a6_ead5_11ea_823f_24ee9ae80742row8_col1\" class=\"data row8 col1\" >0.967085</td>\n",
       "                        <td id=\"T_cf3195a6_ead5_11ea_823f_24ee9ae80742row8_col2\" class=\"data row8 col2\" >0.890146</td>\n",
       "                        <td id=\"T_cf3195a6_ead5_11ea_823f_24ee9ae80742row8_col3\" class=\"data row8 col3\" >2693.409526</td>\n",
       "                        <td id=\"T_cf3195a6_ead5_11ea_823f_24ee9ae80742row8_col4\" class=\"data row8 col4\" >92.861560</td>\n",
       "            </tr>\n",
       "            <tr>\n",
       "                        <th id=\"T_cf3195a6_ead5_11ea_823f_24ee9ae80742level0_row9\" class=\"row_heading level0 row9\" >9</th>\n",
       "                        <td id=\"T_cf3195a6_ead5_11ea_823f_24ee9ae80742row9_col0\" class=\"data row9 col0\" >Histogram Based GBR</td>\n",
       "                        <td id=\"T_cf3195a6_ead5_11ea_823f_24ee9ae80742row9_col1\" class=\"data row9 col1\" >0.963689</td>\n",
       "                        <td id=\"T_cf3195a6_ead5_11ea_823f_24ee9ae80742row9_col2\" class=\"data row9 col2\" >0.889280</td>\n",
       "                        <td id=\"T_cf3195a6_ead5_11ea_823f_24ee9ae80742row9_col3\" class=\"data row9 col3\" >2704.010813</td>\n",
       "                        <td id=\"T_cf3195a6_ead5_11ea_823f_24ee9ae80742row9_col4\" class=\"data row9 col4\" >92.648452</td>\n",
       "            </tr>\n",
       "            <tr>\n",
       "                        <th id=\"T_cf3195a6_ead5_11ea_823f_24ee9ae80742level0_row10\" class=\"row_heading level0 row10\" >10</th>\n",
       "                        <td id=\"T_cf3195a6_ead5_11ea_823f_24ee9ae80742row10_col0\" class=\"data row10 col0\" >LightGBM Regressor</td>\n",
       "                        <td id=\"T_cf3195a6_ead5_11ea_823f_24ee9ae80742row10_col1\" class=\"data row10 col1\" >0.960961</td>\n",
       "                        <td id=\"T_cf3195a6_ead5_11ea_823f_24ee9ae80742row10_col2\" class=\"data row10 col2\" >0.878022</td>\n",
       "                        <td id=\"T_cf3195a6_ead5_11ea_823f_24ee9ae80742row10_col3\" class=\"data row10 col3\" >2838.155898</td>\n",
       "                        <td id=\"T_cf3195a6_ead5_11ea_823f_24ee9ae80742row10_col4\" class=\"data row10 col4\" >91.949109</td>\n",
       "            </tr>\n",
       "            <tr>\n",
       "                        <th id=\"T_cf3195a6_ead5_11ea_823f_24ee9ae80742level0_row11\" class=\"row_heading level0 row11\" >11</th>\n",
       "                        <td id=\"T_cf3195a6_ead5_11ea_823f_24ee9ae80742row11_col0\" class=\"data row11 col0\" >DT Regressor</td>\n",
       "                        <td id=\"T_cf3195a6_ead5_11ea_823f_24ee9ae80742row11_col1\" class=\"data row11 col1\" >0.921637</td>\n",
       "                        <td id=\"T_cf3195a6_ead5_11ea_823f_24ee9ae80742row11_col2\" class=\"data row11 col2\" >0.867942</td>\n",
       "                        <td id=\"T_cf3195a6_ead5_11ea_823f_24ee9ae80742row11_col3\" class=\"data row11 col3\" >2953.088237</td>\n",
       "                        <td id=\"T_cf3195a6_ead5_11ea_823f_24ee9ae80742row11_col4\" class=\"data row11 col4\" >89.478998</td>\n",
       "            </tr>\n",
       "            <tr>\n",
       "                        <th id=\"T_cf3195a6_ead5_11ea_823f_24ee9ae80742level0_row12\" class=\"row_heading level0 row12\" >12</th>\n",
       "                        <td id=\"T_cf3195a6_ead5_11ea_823f_24ee9ae80742row12_col0\" class=\"data row12 col0\" >ElasticNet Regressor</td>\n",
       "                        <td id=\"T_cf3195a6_ead5_11ea_823f_24ee9ae80742row12_col1\" class=\"data row12 col1\" >0.856348</td>\n",
       "                        <td id=\"T_cf3195a6_ead5_11ea_823f_24ee9ae80742row12_col2\" class=\"data row12 col2\" >0.823511</td>\n",
       "                        <td id=\"T_cf3195a6_ead5_11ea_823f_24ee9ae80742row12_col3\" class=\"data row12 col3\" >3413.922608</td>\n",
       "                        <td id=\"T_cf3195a6_ead5_11ea_823f_24ee9ae80742row12_col4\" class=\"data row12 col4\" >83.992931</td>\n",
       "            </tr>\n",
       "    </tbody></table>"
      ],
      "text/plain": [
       "<pandas.io.formats.style.Styler at 0x1969256be08>"
      ]
     },
     "execution_count": 83,
     "metadata": {},
     "output_type": "execute_result"
    }
   ],
   "source": [
    "df_results = pd.DataFrame(final_results)\n",
    "df_results['ACCURACY'] = ((df_results['Train_ACCURACY']+df_results['Test_ACCURACY'])/2)*100\n",
    "\n",
    "(df_results.sort_values(by=['ACCURACY','RMSE'],ascending=False)\n",
    "    .reset_index(drop=True)\n",
    "    .style.background_gradient(cmap='Greens'))"
   ]
  },
  {
   "cell_type": "markdown",
   "metadata": {},
   "source": [
    "For Predicting car price ***Bagging Regressor*** provides high **Accuracy** of **95%** with **Root Mean square error** of **2329.21**."
   ]
  },
  {
   "cell_type": "markdown",
   "metadata": {},
   "source": [
    "## Cross Validation for Bagging Regressor"
   ]
  },
  {
   "cell_type": "code",
   "execution_count": 84,
   "metadata": {},
   "outputs": [
    {
     "name": "stdout",
     "output_type": "stream",
     "text": [
      "scores        :  [-3388.330717460857, -3867.33524921731, -5878.525518966552, -2762.0386476277286, -2428.067541938594]\n",
      "mean          :  -3664.8595350422083\n",
      "std deviation :  1213.4678964953684\n"
     ]
    }
   ],
   "source": [
    "from sklearn.model_selection import cross_val_score,KFold\n",
    "\n",
    "kfold=KFold(n_splits=5)\n",
    "scores=cross_val_score(model_BR,x,y,cv=kfold,scoring=\"neg_root_mean_squared_error\")\n",
    "print(\"scores        : \", list(scores))\n",
    "print(\"mean          : \", scores.mean())\n",
    "print(\"std deviation : \", scores.std())"
   ]
  },
  {
   "cell_type": "markdown",
   "metadata": {},
   "source": [
    "# Conclusion :"
   ]
  },
  {
   "cell_type": "markdown",
   "metadata": {},
   "source": [
    "For Predicting car price Bagging Regressor provides high Accuracy of 95% with Root Mean square error of 2329.21.\n",
    "\n",
    "The varaiables which are significant in predicting car price are symboling, fueltype, carbody, drivewheel, enginelocation, wheelbase, carlength, carwidth, carheight, curbweight, enginetype, boreratio, stroke, compressionratio, horsepower, peakrpm, citympg, car_brand.\n",
    "\n",
    "A model like this is very helpful in predicting car prices based on above varaiables."
   ]
  },
  {
   "cell_type": "code",
   "execution_count": 85,
   "metadata": {},
   "outputs": [],
   "source": [
    "import pickle\n",
    "# Saving model to disk\n",
    "pickle.dump(model_BR, open('CarPricePrediction_model.pkl','wb'))"
   ]
  }
 ],
 "metadata": {
  "kernelspec": {
   "display_name": "Python 3",
   "language": "python",
   "name": "python3"
  },
  "language_info": {
   "codemirror_mode": {
    "name": "ipython",
    "version": 3
   },
   "file_extension": ".py",
   "mimetype": "text/x-python",
   "name": "python",
   "nbconvert_exporter": "python",
   "pygments_lexer": "ipython3",
   "version": "3.7.7"
  }
 },
 "nbformat": 4,
 "nbformat_minor": 4
}
